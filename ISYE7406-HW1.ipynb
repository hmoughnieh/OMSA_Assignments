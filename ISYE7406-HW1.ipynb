{
 "cells": [
  {
   "cell_type": "code",
   "execution_count": 23,
   "id": "ff2cf32c",
   "metadata": {},
   "outputs": [],
   "source": [
    "Sys.setenv(PATH=\"C://Users//User//AppData//Roaming//Microsoft//Windows//Start Menu//Programs//MiKTeX\")"
   ]
  },
  {
   "cell_type": "code",
   "execution_count": 24,
   "id": "e2c4ee4f",
   "metadata": {
    "scrolled": true
   },
   "outputs": [],
   "source": [
    "## 1. Read Training data\n",
    "ziptrain <- read.table(file=\"G://My Drive//OMSA//ISYE 7406//Module 1//zip.train.csv\", sep = \",\");\n",
    "ziptrain27 <- subset(ziptrain, ziptrain[,1]==2 | ziptrain[,1]==7);"
   ]
  },
  {
   "cell_type": "code",
   "execution_count": 25,
   "id": "b45f5ec7",
   "metadata": {
    "scrolled": true
   },
   "outputs": [
    {
     "data": {
      "text/html": [
       "<table class=\"dataframe\">\n",
       "<caption>A data.frame: 6 × 257</caption>\n",
       "<thead>\n",
       "\t<tr><th></th><th scope=col>V1</th><th scope=col>V2</th><th scope=col>V3</th><th scope=col>V4</th><th scope=col>V5</th><th scope=col>V6</th><th scope=col>V7</th><th scope=col>V8</th><th scope=col>V9</th><th scope=col>V10</th><th scope=col>...</th><th scope=col>V248</th><th scope=col>V249</th><th scope=col>V250</th><th scope=col>V251</th><th scope=col>V252</th><th scope=col>V253</th><th scope=col>V254</th><th scope=col>V255</th><th scope=col>V256</th><th scope=col>V257</th></tr>\n",
       "\t<tr><th></th><th scope=col>&lt;int&gt;</th><th scope=col>&lt;dbl&gt;</th><th scope=col>&lt;dbl&gt;</th><th scope=col>&lt;dbl&gt;</th><th scope=col>&lt;dbl&gt;</th><th scope=col>&lt;dbl&gt;</th><th scope=col>&lt;dbl&gt;</th><th scope=col>&lt;dbl&gt;</th><th scope=col>&lt;dbl&gt;</th><th scope=col>&lt;dbl&gt;</th><th scope=col>...</th><th scope=col>&lt;dbl&gt;</th><th scope=col>&lt;dbl&gt;</th><th scope=col>&lt;dbl&gt;</th><th scope=col>&lt;dbl&gt;</th><th scope=col>&lt;dbl&gt;</th><th scope=col>&lt;dbl&gt;</th><th scope=col>&lt;dbl&gt;</th><th scope=col>&lt;dbl&gt;</th><th scope=col>&lt;dbl&gt;</th><th scope=col>&lt;dbl&gt;</th></tr>\n",
       "</thead>\n",
       "<tbody>\n",
       "\t<tr><th scope=row>1</th><td>6</td><td>-1</td><td>-1</td><td>-1</td><td>-1.000</td><td>-1.000</td><td>-1.000</td><td>-1.000</td><td>-0.631</td><td> 0.862</td><td>...</td><td> 0.304</td><td> 0.823</td><td> 1.000</td><td> 0.482</td><td>-0.474</td><td>-0.991</td><td>-1.000</td><td>-1.000</td><td>-1.000</td><td>-1</td></tr>\n",
       "\t<tr><th scope=row>2</th><td>5</td><td>-1</td><td>-1</td><td>-1</td><td>-0.813</td><td>-0.671</td><td>-0.809</td><td>-0.887</td><td>-0.671</td><td>-0.853</td><td>...</td><td>-0.671</td><td>-0.671</td><td>-0.033</td><td> 0.761</td><td> 0.762</td><td> 0.126</td><td>-0.095</td><td>-0.671</td><td>-0.828</td><td>-1</td></tr>\n",
       "\t<tr><th scope=row>3</th><td>4</td><td>-1</td><td>-1</td><td>-1</td><td>-1.000</td><td>-1.000</td><td>-1.000</td><td>-1.000</td><td>-1.000</td><td>-1.000</td><td>...</td><td>-1.000</td><td>-1.000</td><td>-1.000</td><td>-0.109</td><td> 1.000</td><td>-0.179</td><td>-1.000</td><td>-1.000</td><td>-1.000</td><td>-1</td></tr>\n",
       "\t<tr><th scope=row>4</th><td>7</td><td>-1</td><td>-1</td><td>-1</td><td>-1.000</td><td>-1.000</td><td>-0.273</td><td> 0.684</td><td> 0.960</td><td> 0.450</td><td>...</td><td>-0.318</td><td> 1.000</td><td> 0.536</td><td>-0.987</td><td>-1.000</td><td>-1.000</td><td>-1.000</td><td>-1.000</td><td>-1.000</td><td>-1</td></tr>\n",
       "\t<tr><th scope=row>5</th><td>3</td><td>-1</td><td>-1</td><td>-1</td><td>-1.000</td><td>-1.000</td><td>-0.928</td><td>-0.204</td><td> 0.751</td><td> 0.466</td><td>...</td><td> 0.466</td><td> 0.639</td><td> 1.000</td><td> 1.000</td><td> 0.791</td><td> 0.439</td><td>-0.199</td><td>-0.883</td><td>-1.000</td><td>-1</td></tr>\n",
       "\t<tr><th scope=row>6</th><td>6</td><td>-1</td><td>-1</td><td>-1</td><td>-1.000</td><td>-1.000</td><td>-0.397</td><td> 0.983</td><td>-0.535</td><td>-1.000</td><td>...</td><td> 0.803</td><td> 0.015</td><td>-0.862</td><td>-0.871</td><td>-0.437</td><td>-1.000</td><td>-1.000</td><td>-1.000</td><td>-1.000</td><td>-1</td></tr>\n",
       "</tbody>\n",
       "</table>\n"
      ],
      "text/latex": [
       "A data.frame: 6 × 257\n",
       "\\begin{tabular}{r|lllllllllllllllllllll}\n",
       "  & V1 & V2 & V3 & V4 & V5 & V6 & V7 & V8 & V9 & V10 & ... & V248 & V249 & V250 & V251 & V252 & V253 & V254 & V255 & V256 & V257\\\\\n",
       "  & <int> & <dbl> & <dbl> & <dbl> & <dbl> & <dbl> & <dbl> & <dbl> & <dbl> & <dbl> & ... & <dbl> & <dbl> & <dbl> & <dbl> & <dbl> & <dbl> & <dbl> & <dbl> & <dbl> & <dbl>\\\\\n",
       "\\hline\n",
       "\t1 & 6 & -1 & -1 & -1 & -1.000 & -1.000 & -1.000 & -1.000 & -0.631 &  0.862 & ... &  0.304 &  0.823 &  1.000 &  0.482 & -0.474 & -0.991 & -1.000 & -1.000 & -1.000 & -1\\\\\n",
       "\t2 & 5 & -1 & -1 & -1 & -0.813 & -0.671 & -0.809 & -0.887 & -0.671 & -0.853 & ... & -0.671 & -0.671 & -0.033 &  0.761 &  0.762 &  0.126 & -0.095 & -0.671 & -0.828 & -1\\\\\n",
       "\t3 & 4 & -1 & -1 & -1 & -1.000 & -1.000 & -1.000 & -1.000 & -1.000 & -1.000 & ... & -1.000 & -1.000 & -1.000 & -0.109 &  1.000 & -0.179 & -1.000 & -1.000 & -1.000 & -1\\\\\n",
       "\t4 & 7 & -1 & -1 & -1 & -1.000 & -1.000 & -0.273 &  0.684 &  0.960 &  0.450 & ... & -0.318 &  1.000 &  0.536 & -0.987 & -1.000 & -1.000 & -1.000 & -1.000 & -1.000 & -1\\\\\n",
       "\t5 & 3 & -1 & -1 & -1 & -1.000 & -1.000 & -0.928 & -0.204 &  0.751 &  0.466 & ... &  0.466 &  0.639 &  1.000 &  1.000 &  0.791 &  0.439 & -0.199 & -0.883 & -1.000 & -1\\\\\n",
       "\t6 & 6 & -1 & -1 & -1 & -1.000 & -1.000 & -0.397 &  0.983 & -0.535 & -1.000 & ... &  0.803 &  0.015 & -0.862 & -0.871 & -0.437 & -1.000 & -1.000 & -1.000 & -1.000 & -1\\\\\n",
       "\\end{tabular}\n"
      ],
      "text/markdown": [
       "\n",
       "A data.frame: 6 × 257\n",
       "\n",
       "| <!--/--> | V1 &lt;int&gt; | V2 &lt;dbl&gt; | V3 &lt;dbl&gt; | V4 &lt;dbl&gt; | V5 &lt;dbl&gt; | V6 &lt;dbl&gt; | V7 &lt;dbl&gt; | V8 &lt;dbl&gt; | V9 &lt;dbl&gt; | V10 &lt;dbl&gt; | ... ... | V248 &lt;dbl&gt; | V249 &lt;dbl&gt; | V250 &lt;dbl&gt; | V251 &lt;dbl&gt; | V252 &lt;dbl&gt; | V253 &lt;dbl&gt; | V254 &lt;dbl&gt; | V255 &lt;dbl&gt; | V256 &lt;dbl&gt; | V257 &lt;dbl&gt; |\n",
       "|---|---|---|---|---|---|---|---|---|---|---|---|---|---|---|---|---|---|---|---|---|---|\n",
       "| 1 | 6 | -1 | -1 | -1 | -1.000 | -1.000 | -1.000 | -1.000 | -0.631 |  0.862 | ... |  0.304 |  0.823 |  1.000 |  0.482 | -0.474 | -0.991 | -1.000 | -1.000 | -1.000 | -1 |\n",
       "| 2 | 5 | -1 | -1 | -1 | -0.813 | -0.671 | -0.809 | -0.887 | -0.671 | -0.853 | ... | -0.671 | -0.671 | -0.033 |  0.761 |  0.762 |  0.126 | -0.095 | -0.671 | -0.828 | -1 |\n",
       "| 3 | 4 | -1 | -1 | -1 | -1.000 | -1.000 | -1.000 | -1.000 | -1.000 | -1.000 | ... | -1.000 | -1.000 | -1.000 | -0.109 |  1.000 | -0.179 | -1.000 | -1.000 | -1.000 | -1 |\n",
       "| 4 | 7 | -1 | -1 | -1 | -1.000 | -1.000 | -0.273 |  0.684 |  0.960 |  0.450 | ... | -0.318 |  1.000 |  0.536 | -0.987 | -1.000 | -1.000 | -1.000 | -1.000 | -1.000 | -1 |\n",
       "| 5 | 3 | -1 | -1 | -1 | -1.000 | -1.000 | -0.928 | -0.204 |  0.751 |  0.466 | ... |  0.466 |  0.639 |  1.000 |  1.000 |  0.791 |  0.439 | -0.199 | -0.883 | -1.000 | -1 |\n",
       "| 6 | 6 | -1 | -1 | -1 | -1.000 | -1.000 | -0.397 |  0.983 | -0.535 | -1.000 | ... |  0.803 |  0.015 | -0.862 | -0.871 | -0.437 | -1.000 | -1.000 | -1.000 | -1.000 | -1 |\n",
       "\n"
      ],
      "text/plain": [
       "  V1 V2 V3 V4 V5     V6     V7     V8     V9     V10    ... V248   V249  \n",
       "1 6  -1 -1 -1 -1.000 -1.000 -1.000 -1.000 -0.631  0.862 ...  0.304  0.823\n",
       "2 5  -1 -1 -1 -0.813 -0.671 -0.809 -0.887 -0.671 -0.853 ... -0.671 -0.671\n",
       "3 4  -1 -1 -1 -1.000 -1.000 -1.000 -1.000 -1.000 -1.000 ... -1.000 -1.000\n",
       "4 7  -1 -1 -1 -1.000 -1.000 -0.273  0.684  0.960  0.450 ... -0.318  1.000\n",
       "5 3  -1 -1 -1 -1.000 -1.000 -0.928 -0.204  0.751  0.466 ...  0.466  0.639\n",
       "6 6  -1 -1 -1 -1.000 -1.000 -0.397  0.983 -0.535 -1.000 ...  0.803  0.015\n",
       "  V250   V251   V252   V253   V254   V255   V256   V257\n",
       "1  1.000  0.482 -0.474 -0.991 -1.000 -1.000 -1.000 -1  \n",
       "2 -0.033  0.761  0.762  0.126 -0.095 -0.671 -0.828 -1  \n",
       "3 -1.000 -0.109  1.000 -0.179 -1.000 -1.000 -1.000 -1  \n",
       "4  0.536 -0.987 -1.000 -1.000 -1.000 -1.000 -1.000 -1  \n",
       "5  1.000  1.000  0.791  0.439 -0.199 -0.883 -1.000 -1  \n",
       "6 -0.862 -0.871 -0.437 -1.000 -1.000 -1.000 -1.000 -1  "
      ]
     },
     "metadata": {},
     "output_type": "display_data"
    }
   ],
   "source": [
    "head(ziptrain)"
   ]
  },
  {
   "cell_type": "code",
   "execution_count": 26,
   "id": "acd34e34",
   "metadata": {},
   "outputs": [
    {
     "data": {
      "text/html": [
       "<style>\n",
       ".list-inline {list-style: none; margin:0; padding: 0}\n",
       ".list-inline>li {display: inline-block}\n",
       ".list-inline>li:not(:last-child)::after {content: \"\\00b7\"; padding: 0 .5ex}\n",
       "</style>\n",
       "<ol class=list-inline><li>7291</li><li>257</li></ol>\n"
      ],
      "text/latex": [
       "\\begin{enumerate*}\n",
       "\\item 7291\n",
       "\\item 257\n",
       "\\end{enumerate*}\n"
      ],
      "text/markdown": [
       "1. 7291\n",
       "2. 257\n",
       "\n",
       "\n"
      ],
      "text/plain": [
       "[1] 7291  257"
      ]
     },
     "metadata": {},
     "output_type": "display_data"
    }
   ],
   "source": [
    "dim(ziptrain)"
   ]
  },
  {
   "cell_type": "code",
   "execution_count": 27,
   "id": "fa2acba1",
   "metadata": {},
   "outputs": [
    {
     "data": {
      "text/html": [
       "<table class=\"dataframe\">\n",
       "<caption>A data.frame: 6 × 257</caption>\n",
       "<thead>\n",
       "\t<tr><th></th><th scope=col>V1</th><th scope=col>V2</th><th scope=col>V3</th><th scope=col>V4</th><th scope=col>V5</th><th scope=col>V6</th><th scope=col>V7</th><th scope=col>V8</th><th scope=col>V9</th><th scope=col>V10</th><th scope=col>...</th><th scope=col>V248</th><th scope=col>V249</th><th scope=col>V250</th><th scope=col>V251</th><th scope=col>V252</th><th scope=col>V253</th><th scope=col>V254</th><th scope=col>V255</th><th scope=col>V256</th><th scope=col>V257</th></tr>\n",
       "\t<tr><th></th><th scope=col>&lt;int&gt;</th><th scope=col>&lt;dbl&gt;</th><th scope=col>&lt;dbl&gt;</th><th scope=col>&lt;dbl&gt;</th><th scope=col>&lt;dbl&gt;</th><th scope=col>&lt;dbl&gt;</th><th scope=col>&lt;dbl&gt;</th><th scope=col>&lt;dbl&gt;</th><th scope=col>&lt;dbl&gt;</th><th scope=col>&lt;dbl&gt;</th><th scope=col>...</th><th scope=col>&lt;dbl&gt;</th><th scope=col>&lt;dbl&gt;</th><th scope=col>&lt;dbl&gt;</th><th scope=col>&lt;dbl&gt;</th><th scope=col>&lt;dbl&gt;</th><th scope=col>&lt;dbl&gt;</th><th scope=col>&lt;dbl&gt;</th><th scope=col>&lt;dbl&gt;</th><th scope=col>&lt;dbl&gt;</th><th scope=col>&lt;dbl&gt;</th></tr>\n",
       "</thead>\n",
       "<tbody>\n",
       "\t<tr><th scope=row>4</th><td>7</td><td>-1</td><td>-1</td><td>-1</td><td>-1.000</td><td>-1.000</td><td>-0.273</td><td> 0.684</td><td> 0.960</td><td> 0.450</td><td>...</td><td>-0.318</td><td> 1.000</td><td> 0.536</td><td>-0.987</td><td>-1</td><td>-1</td><td>-1</td><td>-1</td><td>-1</td><td>-1</td></tr>\n",
       "\t<tr><th scope=row>11</th><td>7</td><td>-1</td><td>-1</td><td>-1</td><td>-1.000</td><td>-1.000</td><td>-0.596</td><td> 0.912</td><td> 1.000</td><td> 0.290</td><td>...</td><td>-1.000</td><td>-0.795</td><td> 0.663</td><td>-0.074</td><td>-1</td><td>-1</td><td>-1</td><td>-1</td><td>-1</td><td>-1</td></tr>\n",
       "\t<tr><th scope=row>15</th><td>7</td><td>-1</td><td>-1</td><td>-1</td><td>-1.000</td><td>-1.000</td><td>-1.000</td><td>-1.000</td><td>-1.000</td><td>-0.632</td><td>...</td><td>-1.000</td><td>-0.967</td><td> 0.866</td><td>-0.001</td><td>-1</td><td>-1</td><td>-1</td><td>-1</td><td>-1</td><td>-1</td></tr>\n",
       "\t<tr><th scope=row>16</th><td>7</td><td>-1</td><td>-1</td><td>-1</td><td>-0.929</td><td> 0.351</td><td> 0.798</td><td> 0.806</td><td> 0.114</td><td> 0.015</td><td>...</td><td> 0.835</td><td>-0.086</td><td>-0.991</td><td>-1.000</td><td>-1</td><td>-1</td><td>-1</td><td>-1</td><td>-1</td><td>-1</td></tr>\n",
       "\t<tr><th scope=row>23</th><td>7</td><td>-1</td><td>-1</td><td>-1</td><td>-1.000</td><td>-0.869</td><td> 0.777</td><td>-0.007</td><td>-0.697</td><td>-1.000</td><td>...</td><td>-0.933</td><td> 0.667</td><td>-0.315</td><td>-1.000</td><td>-1</td><td>-1</td><td>-1</td><td>-1</td><td>-1</td><td>-1</td></tr>\n",
       "\t<tr><th scope=row>26</th><td>7</td><td>-1</td><td>-1</td><td>-1</td><td>-1.000</td><td>-0.846</td><td>-0.011</td><td>-0.920</td><td>-1.000</td><td>-1.000</td><td>...</td><td>-1.000</td><td> 0.008</td><td> 0.405</td><td>-1.000</td><td>-1</td><td>-1</td><td>-1</td><td>-1</td><td>-1</td><td>-1</td></tr>\n",
       "</tbody>\n",
       "</table>\n"
      ],
      "text/latex": [
       "A data.frame: 6 × 257\n",
       "\\begin{tabular}{r|lllllllllllllllllllll}\n",
       "  & V1 & V2 & V3 & V4 & V5 & V6 & V7 & V8 & V9 & V10 & ... & V248 & V249 & V250 & V251 & V252 & V253 & V254 & V255 & V256 & V257\\\\\n",
       "  & <int> & <dbl> & <dbl> & <dbl> & <dbl> & <dbl> & <dbl> & <dbl> & <dbl> & <dbl> & ... & <dbl> & <dbl> & <dbl> & <dbl> & <dbl> & <dbl> & <dbl> & <dbl> & <dbl> & <dbl>\\\\\n",
       "\\hline\n",
       "\t4 & 7 & -1 & -1 & -1 & -1.000 & -1.000 & -0.273 &  0.684 &  0.960 &  0.450 & ... & -0.318 &  1.000 &  0.536 & -0.987 & -1 & -1 & -1 & -1 & -1 & -1\\\\\n",
       "\t11 & 7 & -1 & -1 & -1 & -1.000 & -1.000 & -0.596 &  0.912 &  1.000 &  0.290 & ... & -1.000 & -0.795 &  0.663 & -0.074 & -1 & -1 & -1 & -1 & -1 & -1\\\\\n",
       "\t15 & 7 & -1 & -1 & -1 & -1.000 & -1.000 & -1.000 & -1.000 & -1.000 & -0.632 & ... & -1.000 & -0.967 &  0.866 & -0.001 & -1 & -1 & -1 & -1 & -1 & -1\\\\\n",
       "\t16 & 7 & -1 & -1 & -1 & -0.929 &  0.351 &  0.798 &  0.806 &  0.114 &  0.015 & ... &  0.835 & -0.086 & -0.991 & -1.000 & -1 & -1 & -1 & -1 & -1 & -1\\\\\n",
       "\t23 & 7 & -1 & -1 & -1 & -1.000 & -0.869 &  0.777 & -0.007 & -0.697 & -1.000 & ... & -0.933 &  0.667 & -0.315 & -1.000 & -1 & -1 & -1 & -1 & -1 & -1\\\\\n",
       "\t26 & 7 & -1 & -1 & -1 & -1.000 & -0.846 & -0.011 & -0.920 & -1.000 & -1.000 & ... & -1.000 &  0.008 &  0.405 & -1.000 & -1 & -1 & -1 & -1 & -1 & -1\\\\\n",
       "\\end{tabular}\n"
      ],
      "text/markdown": [
       "\n",
       "A data.frame: 6 × 257\n",
       "\n",
       "| <!--/--> | V1 &lt;int&gt; | V2 &lt;dbl&gt; | V3 &lt;dbl&gt; | V4 &lt;dbl&gt; | V5 &lt;dbl&gt; | V6 &lt;dbl&gt; | V7 &lt;dbl&gt; | V8 &lt;dbl&gt; | V9 &lt;dbl&gt; | V10 &lt;dbl&gt; | ... ... | V248 &lt;dbl&gt; | V249 &lt;dbl&gt; | V250 &lt;dbl&gt; | V251 &lt;dbl&gt; | V252 &lt;dbl&gt; | V253 &lt;dbl&gt; | V254 &lt;dbl&gt; | V255 &lt;dbl&gt; | V256 &lt;dbl&gt; | V257 &lt;dbl&gt; |\n",
       "|---|---|---|---|---|---|---|---|---|---|---|---|---|---|---|---|---|---|---|---|---|---|\n",
       "| 4 | 7 | -1 | -1 | -1 | -1.000 | -1.000 | -0.273 |  0.684 |  0.960 |  0.450 | ... | -0.318 |  1.000 |  0.536 | -0.987 | -1 | -1 | -1 | -1 | -1 | -1 |\n",
       "| 11 | 7 | -1 | -1 | -1 | -1.000 | -1.000 | -0.596 |  0.912 |  1.000 |  0.290 | ... | -1.000 | -0.795 |  0.663 | -0.074 | -1 | -1 | -1 | -1 | -1 | -1 |\n",
       "| 15 | 7 | -1 | -1 | -1 | -1.000 | -1.000 | -1.000 | -1.000 | -1.000 | -0.632 | ... | -1.000 | -0.967 |  0.866 | -0.001 | -1 | -1 | -1 | -1 | -1 | -1 |\n",
       "| 16 | 7 | -1 | -1 | -1 | -0.929 |  0.351 |  0.798 |  0.806 |  0.114 |  0.015 | ... |  0.835 | -0.086 | -0.991 | -1.000 | -1 | -1 | -1 | -1 | -1 | -1 |\n",
       "| 23 | 7 | -1 | -1 | -1 | -1.000 | -0.869 |  0.777 | -0.007 | -0.697 | -1.000 | ... | -0.933 |  0.667 | -0.315 | -1.000 | -1 | -1 | -1 | -1 | -1 | -1 |\n",
       "| 26 | 7 | -1 | -1 | -1 | -1.000 | -0.846 | -0.011 | -0.920 | -1.000 | -1.000 | ... | -1.000 |  0.008 |  0.405 | -1.000 | -1 | -1 | -1 | -1 | -1 | -1 |\n",
       "\n"
      ],
      "text/plain": [
       "   V1 V2 V3 V4 V5     V6     V7     V8     V9     V10    ... V248   V249  \n",
       "4  7  -1 -1 -1 -1.000 -1.000 -0.273  0.684  0.960  0.450 ... -0.318  1.000\n",
       "11 7  -1 -1 -1 -1.000 -1.000 -0.596  0.912  1.000  0.290 ... -1.000 -0.795\n",
       "15 7  -1 -1 -1 -1.000 -1.000 -1.000 -1.000 -1.000 -0.632 ... -1.000 -0.967\n",
       "16 7  -1 -1 -1 -0.929  0.351  0.798  0.806  0.114  0.015 ...  0.835 -0.086\n",
       "23 7  -1 -1 -1 -1.000 -0.869  0.777 -0.007 -0.697 -1.000 ... -0.933  0.667\n",
       "26 7  -1 -1 -1 -1.000 -0.846 -0.011 -0.920 -1.000 -1.000 ... -1.000  0.008\n",
       "   V250   V251   V252 V253 V254 V255 V256 V257\n",
       "4   0.536 -0.987 -1   -1   -1   -1   -1   -1  \n",
       "11  0.663 -0.074 -1   -1   -1   -1   -1   -1  \n",
       "15  0.866 -0.001 -1   -1   -1   -1   -1   -1  \n",
       "16 -0.991 -1.000 -1   -1   -1   -1   -1   -1  \n",
       "23 -0.315 -1.000 -1   -1   -1   -1   -1   -1  \n",
       "26  0.405 -1.000 -1   -1   -1   -1   -1   -1  "
      ]
     },
     "metadata": {},
     "output_type": "display_data"
    }
   ],
   "source": [
    "head(ziptrain27)"
   ]
  },
  {
   "cell_type": "code",
   "execution_count": 28,
   "id": "9499041a",
   "metadata": {},
   "outputs": [
    {
     "data": {
      "image/png": "[encoded data removed]",
      "text/plain": [
       "Plot with title \"Histogram of ziptrain27$V1\""
      ]
     },
     "metadata": {
      "image/png": {
       "height": 420,
       "width": 420
      }
     },
     "output_type": "display_data"
    }
   ],
   "source": [
    "hist(ziptrain27$V1)"
   ]
  },
  {
   "cell_type": "code",
   "execution_count": 29,
   "id": "1d86b0ad",
   "metadata": {
    "scrolled": true
   },
   "outputs": [
    {
     "data": {
      "text/html": [
       "<style>\n",
       ".list-inline {list-style: none; margin:0; padding: 0}\n",
       ".list-inline>li {display: inline-block}\n",
       ".list-inline>li:not(:last-child)::after {content: \"\\00b7\"; padding: 0 .5ex}\n",
       "</style>\n",
       "<ol class=list-inline><li>1376</li><li>257</li></ol>\n"
      ],
      "text/latex": [
       "\\begin{enumerate*}\n",
       "\\item 1376\n",
       "\\item 257\n",
       "\\end{enumerate*}\n"
      ],
      "text/markdown": [
       "1. 1376\n",
       "2. 257\n",
       "\n",
       "\n"
      ],
      "text/plain": [
       "[1] 1376  257"
      ]
     },
     "metadata": {},
     "output_type": "display_data"
    }
   ],
   "source": [
    "## Check size of dataframe\n",
    "dim(ziptrain27);"
   ]
  },
  {
   "cell_type": "code",
   "execution_count": 30,
   "id": "4e632c8f",
   "metadata": {},
   "outputs": [
    {
     "data": {
      "text/html": [
       "731"
      ],
      "text/latex": [
       "731"
      ],
      "text/markdown": [
       "731"
      ],
      "text/plain": [
       "[1] 731"
      ]
     },
     "metadata": {},
     "output_type": "display_data"
    },
    {
     "data": {
      "text/html": [
       "645"
      ],
      "text/latex": [
       "645"
      ],
      "text/markdown": [
       "645"
      ],
      "text/plain": [
       "[1] 645"
      ]
     },
     "metadata": {},
     "output_type": "display_data"
    }
   ],
   "source": [
    "#calculate the total number of 2's & 7's\n",
    "sum(ziptrain27[,1] == 2)\n",
    "sum(ziptrain27[,1] == 7)"
   ]
  },
  {
   "cell_type": "code",
   "execution_count": 31,
   "id": "725931a0",
   "metadata": {},
   "outputs": [
    {
     "data": {
      "text/plain": [
       "       V1              V2                V3                V4         \n",
       " Min.   :2.000   Min.   :-1.0000   Min.   :-1.0000   Min.   :-1.0000  \n",
       " 1st Qu.:2.000   1st Qu.:-1.0000   1st Qu.:-1.0000   1st Qu.:-1.0000  \n",
       " Median :2.000   Median :-1.0000   Median :-1.0000   Median :-1.0000  \n",
       " Mean   :4.344   Mean   :-0.9843   Mean   :-0.9226   Mean   :-0.8376  \n",
       " 3rd Qu.:7.000   3rd Qu.:-1.0000   3rd Qu.:-1.0000   3rd Qu.:-1.0000  \n",
       " Max.   :7.000   Max.   : 0.4120   Max.   : 1.0000   Max.   : 1.0000  \n",
       "       V5                V6                 V7                V8         \n",
       " Min.   :-1.0000   Min.   :-1.00000   Min.   :-1.0000   Min.   :-1.0000  \n",
       " 1st Qu.:-1.0000   1st Qu.:-1.00000   1st Qu.:-1.0000   1st Qu.:-1.0000  \n",
       " Median :-1.0000   Median :-0.97900   Median :-0.6380   Median :-0.3440  \n",
       " Mean   :-0.7077   Mean   :-0.51650   Mean   :-0.3377   Mean   :-0.2154  \n",
       " 3rd Qu.:-0.6840   3rd Qu.:-0.04725   3rd Qu.: 0.2805   3rd Qu.: 0.4945  \n",
       " Max.   : 1.0000   Max.   : 1.00000   Max.   : 1.0000   Max.   : 1.0000  \n",
       "       V9               V10               V11               V12         \n",
       " Min.   :-1.0000   Min.   :-1.0000   Min.   :-1.0000   Min.   :-1.0000  \n",
       " 1st Qu.:-1.0000   1st Qu.:-1.0000   1st Qu.:-1.0000   1st Qu.:-1.0000  \n",
       " Median :-0.2815   Median :-0.4320   Median :-0.7515   Median :-1.0000  \n",
       " Mean   :-0.1770   Mean   :-0.2370   Mean   :-0.3719   Mean   :-0.4733  \n",
       " 3rd Qu.: 0.5550   3rd Qu.: 0.4933   3rd Qu.: 0.2898   3rd Qu.: 0.1570  \n",
       " Max.   : 1.0000   Max.   : 1.0000   Max.   : 1.0000   Max.   : 1.0000  \n",
       "      V13               V14               V15               V16         \n",
       " Min.   :-1.0000   Min.   :-1.0000   Min.   :-1.0000   Min.   :-1.0000  \n",
       " 1st Qu.:-1.0000   1st Qu.:-1.0000   1st Qu.:-1.0000   1st Qu.:-1.0000  \n",
       " Median :-1.0000   Median :-1.0000   Median :-1.0000   Median :-1.0000  \n",
       " Mean   :-0.5666   Mean   :-0.6973   Mean   :-0.8286   Mean   :-0.9371  \n",
       " 3rd Qu.:-0.2203   3rd Qu.:-0.8413   3rd Qu.:-1.0000   3rd Qu.:-1.0000  \n",
       " Max.   : 1.0000   Max.   : 1.0000   Max.   : 1.0000   Max.   : 1.0000  \n",
       "      V17              V18               V19               V20         \n",
       " Min.   :-1.000   Min.   :-1.0000   Min.   :-1.0000   Min.   :-1.0000  \n",
       " 1st Qu.:-1.000   1st Qu.:-1.0000   1st Qu.:-1.0000   1st Qu.:-1.0000  \n",
       " Median :-1.000   Median :-1.0000   Median :-1.0000   Median :-1.0000  \n",
       " Mean   :-0.989   Mean   :-0.9592   Mean   :-0.8233   Mean   :-0.6142  \n",
       " 3rd Qu.:-1.000   3rd Qu.:-1.0000   3rd Qu.:-1.0000   3rd Qu.:-0.5420  \n",
       " Max.   : 0.229   Max.   : 0.6150   Max.   : 1.0000   Max.   : 1.0000  \n",
       "      V21               V22                V23               V24          \n",
       " Min.   :-1.0000   Min.   :-1.00000   Min.   :-1.0000   Min.   :-1.00000  \n",
       " 1st Qu.:-1.0000   1st Qu.:-0.98450   1st Qu.:-0.3982   1st Qu.:-0.09825  \n",
       " Median :-0.7835   Median : 0.32450   Median : 0.7650   Median : 0.86300  \n",
       " Mean   :-0.2855   Mean   : 0.09278   Mean   : 0.3341   Mean   : 0.41721  \n",
       " 3rd Qu.: 0.6060   3rd Qu.: 0.99500   3rd Qu.: 1.0000   3rd Qu.: 1.00000  \n",
       " Max.   : 1.0000   Max.   : 1.00000   Max.   : 1.0000   Max.   : 1.00000  \n",
       "      V25               V26               V27               V28           \n",
       " Min.   :-1.0000   Min.   :-1.0000   Min.   :-1.0000   Min.   :-1.000000  \n",
       " 1st Qu.:-0.0920   1st Qu.:-0.3500   1st Qu.:-0.8455   1st Qu.:-1.000000  \n",
       " Median : 0.8315   Median : 0.7955   Median : 0.5330   Median : 0.065500  \n",
       " Mean   : 0.4053   Mean   : 0.3431   Mean   : 0.1937   Mean   : 0.003854  \n",
       " 3rd Qu.: 1.0000   3rd Qu.: 1.0000   3rd Qu.: 1.0000   3rd Qu.: 0.988000  \n",
       " Max.   : 1.0000   Max.   : 1.0000   Max.   : 1.0000   Max.   : 1.000000  \n",
       "      V29               V30               V31               V32         \n",
       " Min.   :-1.0000   Min.   :-1.0000   Min.   :-1.0000   Min.   :-1.0000  \n",
       " 1st Qu.:-1.0000   1st Qu.:-1.0000   1st Qu.:-1.0000   1st Qu.:-1.0000  \n",
       " Median :-0.7510   Median :-1.0000   Median :-1.0000   Median :-1.0000  \n",
       " Mean   :-0.1899   Mean   :-0.4191   Mean   :-0.6518   Mean   :-0.8375  \n",
       " 3rd Qu.: 0.9130   3rd Qu.: 0.4068   3rd Qu.:-0.8660   3rd Qu.:-1.0000  \n",
       " Max.   : 1.0000   Max.   : 1.0000   Max.   : 1.0000   Max.   : 1.0000  \n",
       "      V33               V34               V35               V36         \n",
       " Min.   :-1.0000   Min.   :-1.0000   Min.   :-1.0000   Min.   :-1.0000  \n",
       " 1st Qu.:-1.0000   1st Qu.:-1.0000   1st Qu.:-1.0000   1st Qu.:-1.0000  \n",
       " Median :-1.0000   Median :-1.0000   Median :-1.0000   Median :-1.0000  \n",
       " Mean   :-0.9571   Mean   :-0.9386   Mean   :-0.7825   Mean   :-0.5186  \n",
       " 3rd Qu.:-1.0000   3rd Qu.:-1.0000   3rd Qu.:-0.9990   3rd Qu.:-0.1230  \n",
       " Max.   : 0.8340   Max.   : 0.7960   Max.   : 1.0000   Max.   : 1.0000  \n",
       "      V37               V38               V39               V40         \n",
       " Min.   :-1.0000   Min.   :-1.0000   Min.   :-1.0000   Min.   :-1.0000  \n",
       " 1st Qu.:-1.0000   1st Qu.:-0.6412   1st Qu.:-0.4870   1st Qu.:-0.5972  \n",
       " Median :-0.2760   Median : 0.4880   Median : 0.6260   Median : 0.4755  \n",
       " Mean   :-0.1201   Mean   : 0.2058   Mean   : 0.2865   Mean   : 0.2193  \n",
       " 3rd Qu.: 0.8000   3rd Qu.: 1.0000   3rd Qu.: 1.0000   3rd Qu.: 1.0000  \n",
       " Max.   : 1.0000   Max.   : 1.0000   Max.   : 1.0000   Max.   : 1.0000  \n",
       "      V41               V42               V43                V44         \n",
       " Min.   :-1.0000   Min.   :-1.0000   Min.   :-1.00000   Min.   :-1.0000  \n",
       " 1st Qu.:-0.7548   1st Qu.:-0.7900   1st Qu.:-0.83950   1st Qu.:-0.9655  \n",
       " Median : 0.2830   Median : 0.2360   Median : 0.21500   Median : 0.0305  \n",
       " Mean   : 0.1247   Mean   : 0.1080   Mean   : 0.09288   Mean   : 0.0142  \n",
       " 3rd Qu.: 0.9992   3rd Qu.: 0.9862   3rd Qu.: 0.96600   3rd Qu.: 0.9403  \n",
       " Max.   : 1.0000   Max.   : 1.0000   Max.   : 1.00000   Max.   : 1.0000  \n",
       "      V45                V46               V47               V48         \n",
       " Min.   :-1.00000   Min.   :-1.0000   Min.   :-1.0000   Min.   :-1.0000  \n",
       " 1st Qu.:-1.00000   1st Qu.:-1.0000   1st Qu.:-1.0000   1st Qu.:-1.0000  \n",
       " Median :-0.17600   Median :-0.9955   Median :-1.0000   Median :-1.0000  \n",
       " Mean   :-0.08978   Mean   :-0.3181   Mean   :-0.5895   Mean   :-0.7881  \n",
       " 3rd Qu.: 0.92875   3rd Qu.: 0.6580   3rd Qu.:-0.5905   3rd Qu.:-1.0000  \n",
       " Max.   : 1.00000   Max.   : 1.0000   Max.   : 1.0000   Max.   : 1.0000  \n",
       "      V49               V50               V51               V52         \n",
       " Min.   :-1.0000   Min.   :-1.0000   Min.   :-1.0000   Min.   :-1.0000  \n",
       " 1st Qu.:-1.0000   1st Qu.:-1.0000   1st Qu.:-1.0000   1st Qu.:-1.0000  \n",
       " Median :-1.0000   Median :-1.0000   Median :-1.0000   Median :-1.0000  \n",
       " Mean   :-0.9326   Mean   :-0.9325   Mean   :-0.7834   Mean   :-0.5349  \n",
       " 3rd Qu.:-1.0000   3rd Qu.:-1.0000   3rd Qu.:-1.0000   3rd Qu.:-0.1790  \n",
       " Max.   : 0.9370   Max.   : 0.8620   Max.   : 1.0000   Max.   : 1.0000  \n",
       "      V53               V54                V55               V56         \n",
       " Min.   :-1.0000   Min.   :-1.00000   Min.   :-1.0000   Min.   :-1.0000  \n",
       " 1st Qu.:-1.0000   1st Qu.:-1.00000   1st Qu.:-1.0000   1st Qu.:-1.0000  \n",
       " Median :-0.5770   Median :-0.12800   Median :-0.3205   Median :-0.7335  \n",
       " Mean   :-0.2243   Mean   :-0.04852   Mean   :-0.1196   Mean   :-0.2916  \n",
       " 3rd Qu.: 0.7455   3rd Qu.: 0.92525   3rd Qu.: 0.9050   3rd Qu.: 0.5815  \n",
       " Max.   : 1.0000   Max.   : 1.00000   Max.   : 1.0000   Max.   : 1.0000  \n",
       "      V57               V58               V59               V60          \n",
       " Min.   :-1.0000   Min.   :-1.0000   Min.   :-1.0000   Min.   :-1.00000  \n",
       " 1st Qu.:-1.0000   1st Qu.:-1.0000   1st Qu.:-1.0000   1st Qu.:-1.00000  \n",
       " Median :-0.9380   Median :-0.8060   Median :-0.4660   Median :-0.08950  \n",
       " Mean   :-0.3789   Mean   :-0.3286   Mean   :-0.1934   Mean   :-0.05979  \n",
       " 3rd Qu.: 0.3445   3rd Qu.: 0.4798   3rd Qu.: 0.7362   3rd Qu.: 0.87775  \n",
       " Max.   : 1.0000   Max.   : 1.0000   Max.   : 1.0000   Max.   : 1.00000  \n",
       "      V61                V62               V63               V64         \n",
       " Min.   :-1.00000   Min.   :-1.0000   Min.   :-1.0000   Min.   :-1.0000  \n",
       " 1st Qu.:-1.00000   1st Qu.:-1.0000   1st Qu.:-1.0000   1st Qu.:-1.0000  \n",
       " Median :-0.12900   Median :-0.8105   Median :-1.0000   Median :-1.0000  \n",
       " Mean   :-0.05337   Mean   :-0.2757   Mean   :-0.5847   Mean   :-0.7984  \n",
       " 3rd Qu.: 0.94625   3rd Qu.: 0.6522   3rd Qu.:-0.4113   3rd Qu.:-1.0000  \n",
       " Max.   : 1.00000   Max.   : 1.0000   Max.   : 1.0000   Max.   : 1.0000  \n",
       "      V65               V66               V67               V68         \n",
       " Min.   :-1.0000   Min.   :-1.0000   Min.   :-1.0000   Min.   :-1.0000  \n",
       " 1st Qu.:-1.0000   1st Qu.:-1.0000   1st Qu.:-1.0000   1st Qu.:-1.0000  \n",
       " Median :-1.0000   Median :-1.0000   Median :-1.0000   Median :-1.0000  \n",
       " Mean   :-0.9438   Mean   :-0.9494   Mean   :-0.8474   Mean   :-0.6710  \n",
       " 3rd Qu.:-1.0000   3rd Qu.:-1.0000   3rd Qu.:-1.0000   3rd Qu.:-0.7278  \n",
       " Max.   : 0.9080   Max.   : 0.9010   Max.   : 1.0000   Max.   : 1.0000  \n",
       "      V69               V70               V71               V72         \n",
       " Min.   :-1.0000   Min.   :-1.0000   Min.   :-1.0000   Min.   :-1.0000  \n",
       " 1st Qu.:-1.0000   1st Qu.:-1.0000   1st Qu.:-1.0000   1st Qu.:-1.0000  \n",
       " Median :-1.0000   Median :-1.0000   Median :-1.0000   Median :-1.0000  \n",
       " Mean   :-0.4555   Mean   :-0.4027   Mean   :-0.5286   Mean   :-0.6704  \n",
       " 3rd Qu.: 0.1725   3rd Qu.: 0.3590   3rd Qu.:-0.2295   3rd Qu.:-0.7375  \n",
       " Max.   : 1.0000   Max.   : 1.0000   Max.   : 1.0000   Max.   : 1.0000  \n",
       "      V73               V74               V75               V76          \n",
       " Min.   :-1.0000   Min.   :-1.0000   Min.   :-1.0000   Min.   :-1.00000  \n",
       " 1st Qu.:-1.0000   1st Qu.:-1.0000   1st Qu.:-1.0000   1st Qu.:-1.00000  \n",
       " Median :-1.0000   Median :-1.0000   Median :-0.8690   Median :-0.02800  \n",
       " Mean   :-0.7066   Mean   :-0.5876   Mean   :-0.3369   Mean   :-0.04244  \n",
       " 3rd Qu.:-0.8495   3rd Qu.:-0.3660   3rd Qu.: 0.4542   3rd Qu.: 0.89800  \n",
       " Max.   : 1.0000   Max.   : 1.0000   Max.   : 1.0000   Max.   : 1.00000  \n",
       "      V77                 V78               V79               V80         \n",
       " Min.   :-1.000000   Min.   :-1.0000   Min.   :-1.0000   Min.   :-1.0000  \n",
       " 1st Qu.:-1.000000   1st Qu.:-1.0000   1st Qu.:-1.0000   1st Qu.:-1.0000  \n",
       " Median : 0.076500   Median :-0.7860   Median :-1.0000   Median :-1.0000  \n",
       " Mean   : 0.007827   Mean   :-0.2683   Mean   :-0.6178   Mean   :-0.8417  \n",
       " 3rd Qu.: 0.968000   3rd Qu.: 0.6963   3rd Qu.:-0.6155   3rd Qu.:-1.0000  \n",
       " Max.   : 1.000000   Max.   : 1.0000   Max.   : 1.0000   Max.   : 1.0000  \n",
       "      V81               V82               V83               V84         \n",
       " Min.   :-1.0000   Min.   :-1.0000   Min.   :-1.0000   Min.   :-1.0000  \n",
       " 1st Qu.:-1.0000   1st Qu.:-1.0000   1st Qu.:-1.0000   1st Qu.:-1.0000  \n",
       " Median :-1.0000   Median :-1.0000   Median :-1.0000   Median :-1.0000  \n",
       " Mean   :-0.9654   Mean   :-0.9717   Mean   :-0.9094   Mean   :-0.8103  \n",
       " 3rd Qu.:-1.0000   3rd Qu.:-1.0000   3rd Qu.:-1.0000   3rd Qu.:-1.0000  \n",
       " Max.   : 0.9970   Max.   : 0.7880   Max.   : 1.0000   Max.   : 1.0000  \n",
       "      V85               V86               V87              V88         \n",
       " Min.   :-1.0000   Min.   :-1.0000   Min.   :-1.000   Min.   :-1.0000  \n",
       " 1st Qu.:-1.0000   1st Qu.:-1.0000   1st Qu.:-1.000   1st Qu.:-1.0000  \n",
       " Median :-1.0000   Median :-1.0000   Median :-1.000   Median :-1.0000  \n",
       " Mean   :-0.7066   Mean   :-0.7045   Mean   :-0.786   Mean   :-0.8589  \n",
       " 3rd Qu.:-0.9100   3rd Qu.:-0.9052   3rd Qu.:-1.000   3rd Qu.:-1.0000  \n",
       " Max.   : 1.0000   Max.   : 1.0000   Max.   : 1.000   Max.   : 1.0000  \n",
       "      V89               V90               V91               V92          \n",
       " Min.   :-1.0000   Min.   :-1.0000   Min.   :-1.0000   Min.   :-1.00000  \n",
       " 1st Qu.:-1.0000   1st Qu.:-1.0000   1st Qu.:-1.0000   1st Qu.:-0.97850  \n",
       " Median :-1.0000   Median :-1.0000   Median :-0.8540   Median : 0.06900  \n",
       " Mean   :-0.8368   Mean   :-0.6824   Mean   :-0.3531   Mean   : 0.02301  \n",
       " 3rd Qu.:-1.0000   3rd Qu.:-0.8065   3rd Qu.: 0.3748   3rd Qu.: 0.96225  \n",
       " Max.   : 1.0000   Max.   : 1.0000   Max.   : 1.0000   Max.   : 1.00000  \n",
       "      V93                V94               V95               V96         \n",
       " Min.   :-1.00000   Min.   :-1.0000   Min.   :-1.0000   Min.   :-1.0000  \n",
       " 1st Qu.:-1.00000   1st Qu.:-1.0000   1st Qu.:-1.0000   1st Qu.:-1.0000  \n",
       " Median : 0.17900   Median :-0.8875   Median :-1.0000   Median :-1.0000  \n",
       " Mean   : 0.04315   Mean   :-0.3132   Mean   :-0.6808   Mean   :-0.8957  \n",
       " 3rd Qu.: 0.97725   3rd Qu.: 0.5747   3rd Qu.:-0.8638   3rd Qu.:-1.0000  \n",
       " Max.   : 1.00000   Max.   : 1.0000   Max.   : 1.0000   Max.   : 1.0000  \n",
       "      V97               V98               V99               V100        \n",
       " Min.   :-1.0000   Min.   :-1.0000   Min.   :-1.0000   Min.   :-1.0000  \n",
       " 1st Qu.:-1.0000   1st Qu.:-1.0000   1st Qu.:-1.0000   1st Qu.:-1.0000  \n",
       " Median :-1.0000   Median :-1.0000   Median :-1.0000   Median :-1.0000  \n",
       " Mean   :-0.9806   Mean   :-0.9847   Mean   :-0.9528   Mean   :-0.9113  \n",
       " 3rd Qu.:-1.0000   3rd Qu.:-1.0000   3rd Qu.:-1.0000   3rd Qu.:-1.0000  \n",
       " Max.   : 0.9930   Max.   : 0.8070   Max.   : 1.0000   Max.   : 1.0000  \n",
       "      V101              V102              V103              V104       \n",
       " Min.   :-1.0000   Min.   :-1.0000   Min.   :-1.0000   Min.   :-1.000  \n",
       " 1st Qu.:-1.0000   1st Qu.:-1.0000   1st Qu.:-1.0000   1st Qu.:-1.000  \n",
       " Median :-1.0000   Median :-1.0000   Median :-1.0000   Median :-1.000  \n",
       " Mean   :-0.8763   Mean   :-0.8725   Mean   :-0.8909   Mean   :-0.894  \n",
       " 3rd Qu.:-1.0000   3rd Qu.:-1.0000   3rd Qu.:-1.0000   3rd Qu.:-1.000  \n",
       " Max.   : 1.0000   Max.   : 1.0000   Max.   : 1.0000   Max.   : 1.000  \n",
       "      V105              V106              V107              V108        \n",
       " Min.   :-1.0000   Min.   :-1.0000   Min.   :-1.0000   Min.   :-1.0000  \n",
       " 1st Qu.:-1.0000   1st Qu.:-1.0000   1st Qu.:-1.0000   1st Qu.:-0.9012  \n",
       " Median :-1.0000   Median :-1.0000   Median :-0.5545   Median : 0.3175  \n",
       " Mean   :-0.8279   Mean   :-0.6449   Mean   :-0.2505   Mean   : 0.1177  \n",
       " 3rd Qu.:-1.0000   3rd Qu.:-0.7130   3rd Qu.: 0.5695   3rd Qu.: 0.9962  \n",
       " Max.   : 1.0000   Max.   : 1.0000   Max.   : 1.0000   Max.   : 1.0000  \n",
       "      V109                V110              V111             V112        \n",
       " Min.   :-1.000000   Min.   :-1.0000   Min.   :-1.000   Min.   :-1.0000  \n",
       " 1st Qu.:-1.000000   1st Qu.:-1.0000   1st Qu.:-1.000   1st Qu.:-1.0000  \n",
       " Median : 0.034500   Median :-0.9990   Median :-1.000   Median :-1.0000  \n",
       " Mean   : 0.005571   Mean   :-0.4162   Mean   :-0.754   Mean   :-0.9299  \n",
       " 3rd Qu.: 0.973000   3rd Qu.: 0.2338   3rd Qu.:-1.000   3rd Qu.:-1.0000  \n",
       " Max.   : 1.000000   Max.   : 1.0000   Max.   : 1.000   Max.   : 1.0000  \n",
       "      V113             V114              V115              V116        \n",
       " Min.   :-1.000   Min.   :-1.0000   Min.   :-1.0000   Min.   :-1.0000  \n",
       " 1st Qu.:-1.000   1st Qu.:-1.0000   1st Qu.:-1.0000   1st Qu.:-1.0000  \n",
       " Median :-1.000   Median :-1.0000   Median :-1.0000   Median :-1.0000  \n",
       " Mean   :-0.982   Mean   :-0.9921   Mean   :-0.9683   Mean   :-0.9464  \n",
       " 3rd Qu.:-1.000   3rd Qu.:-1.0000   3rd Qu.:-1.0000   3rd Qu.:-1.0000  \n",
       " Max.   : 0.715   Max.   : 0.9570   Max.   : 1.0000   Max.   : 1.0000  \n",
       "      V117              V118              V119              V120        \n",
       " Min.   :-1.0000   Min.   :-1.0000   Min.   :-1.0000   Min.   :-1.0000  \n",
       " 1st Qu.:-1.0000   1st Qu.:-1.0000   1st Qu.:-1.0000   1st Qu.:-1.0000  \n",
       " Median :-1.0000   Median :-1.0000   Median :-1.0000   Median :-1.0000  \n",
       " Mean   :-0.9216   Mean   :-0.8998   Mean   :-0.8613   Mean   :-0.8143  \n",
       " 3rd Qu.:-1.0000   3rd Qu.:-1.0000   3rd Qu.:-1.0000   3rd Qu.:-1.0000  \n",
       " Max.   : 1.0000   Max.   : 1.0000   Max.   : 1.0000   Max.   : 1.0000  \n",
       "      V121              V122              V123              V124        \n",
       " Min.   :-1.0000   Min.   :-1.0000   Min.   :-1.0000   Min.   :-1.0000  \n",
       " 1st Qu.:-1.0000   1st Qu.:-1.0000   1st Qu.:-1.0000   1st Qu.:-0.8492  \n",
       " Median :-1.0000   Median :-1.0000   Median :-0.1770   Median : 0.5170  \n",
       " Mean   :-0.7313   Mean   :-0.5291   Mean   :-0.0774   Mean   : 0.1841  \n",
       " 3rd Qu.:-0.9978   3rd Qu.:-0.1212   3rd Qu.: 0.8515   3rd Qu.: 0.9990  \n",
       " Max.   : 1.0000   Max.   : 1.0000   Max.   : 1.0000   Max.   : 1.0000  \n",
       "      V125              V126              V127              V128        \n",
       " Min.   :-1.0000   Min.   :-1.0000   Min.   :-1.0000   Min.   :-1.0000  \n",
       " 1st Qu.:-1.0000   1st Qu.:-1.0000   1st Qu.:-1.0000   1st Qu.:-1.0000  \n",
       " Median :-0.2355   Median :-1.0000   Median :-1.0000   Median :-1.0000  \n",
       " Mean   :-0.1019   Mean   :-0.5510   Mean   :-0.8193   Mean   :-0.9363  \n",
       " 3rd Qu.: 0.8870   3rd Qu.:-0.2983   3rd Qu.:-1.0000   3rd Qu.:-1.0000  \n",
       " Max.   : 1.0000   Max.   : 1.0000   Max.   : 1.0000   Max.   : 1.0000  \n",
       "      V129              V130              V131              V132        \n",
       " Min.   :-1.0000   Min.   :-1.0000   Min.   :-1.0000   Min.   :-1.0000  \n",
       " 1st Qu.:-1.0000   1st Qu.:-1.0000   1st Qu.:-1.0000   1st Qu.:-1.0000  \n",
       " Median :-1.0000   Median :-1.0000   Median :-1.0000   Median :-1.0000  \n",
       " Mean   :-0.9749   Mean   :-0.9814   Mean   :-0.9352   Mean   :-0.8825  \n",
       " 3rd Qu.:-1.0000   3rd Qu.:-1.0000   3rd Qu.:-1.0000   3rd Qu.:-1.0000  \n",
       " Max.   : 0.8490   Max.   : 0.6220   Max.   : 1.0000   Max.   : 1.0000  \n",
       "      V133              V134              V135              V136        \n",
       " Min.   :-1.0000   Min.   :-1.0000   Min.   :-1.0000   Min.   :-1.0000  \n",
       " 1st Qu.:-1.0000   1st Qu.:-1.0000   1st Qu.:-1.0000   1st Qu.:-1.0000  \n",
       " Median :-1.0000   Median :-1.0000   Median :-1.0000   Median :-1.0000  \n",
       " Mean   :-0.8275   Mean   :-0.7686   Mean   :-0.7055   Mean   :-0.6432  \n",
       " 3rd Qu.:-1.0000   3rd Qu.:-1.0000   3rd Qu.:-0.9597   3rd Qu.:-0.7318  \n",
       " Max.   : 1.0000   Max.   : 1.0000   Max.   : 1.0000   Max.   : 1.0000  \n",
       "      V137              V138              V139              V140        \n",
       " Min.   :-1.0000   Min.   :-1.0000   Min.   :-1.0000   Min.   :-1.0000  \n",
       " 1st Qu.:-1.0000   1st Qu.:-1.0000   1st Qu.:-0.8427   1st Qu.:-0.8400  \n",
       " Median :-1.0000   Median :-0.7375   Median : 0.3920   Median : 0.5320  \n",
       " Mean   :-0.5515   Mean   :-0.3102   Mean   : 0.1372   Mean   : 0.1787  \n",
       " 3rd Qu.:-0.1998   3rd Qu.: 0.4903   3rd Qu.: 0.9940   3rd Qu.: 1.0000  \n",
       " Max.   : 1.0000   Max.   : 1.0000   Max.   : 1.0000   Max.   : 1.0000  \n",
       "      V141              V142              V143              V144        \n",
       " Min.   :-1.0000   Min.   :-1.0000   Min.   :-1.0000   Min.   :-1.0000  \n",
       " 1st Qu.:-1.0000   1st Qu.:-1.0000   1st Qu.:-1.0000   1st Qu.:-1.0000  \n",
       " Median :-0.7245   Median :-1.0000   Median :-1.0000   Median :-1.0000  \n",
       " Mean   :-0.2722   Mean   :-0.6658   Mean   :-0.8549   Mean   :-0.9246  \n",
       " 3rd Qu.: 0.6667   3rd Qu.:-0.7688   3rd Qu.:-1.0000   3rd Qu.:-1.0000  \n",
       " Max.   : 1.0000   Max.   : 1.0000   Max.   : 1.0000   Max.   : 1.0000  \n",
       "      V145              V146              V147              V148        \n",
       " Min.   :-1.0000   Min.   :-1.0000   Min.   :-1.0000   Min.   :-1.0000  \n",
       " 1st Qu.:-1.0000   1st Qu.:-1.0000   1st Qu.:-1.0000   1st Qu.:-1.0000  \n",
       " Median :-1.0000   Median :-1.0000   Median :-1.0000   Median :-1.0000  \n",
       " Mean   :-0.9677   Mean   :-0.9386   Mean   :-0.8274   Mean   :-0.7260  \n",
       " 3rd Qu.:-1.0000   3rd Qu.:-1.0000   3rd Qu.:-1.0000   3rd Qu.:-0.9928  \n",
       " Max.   : 0.6750   Max.   : 1.0000   Max.   : 1.0000   Max.   : 1.0000  \n",
       "      V149              V150              V151              V152        \n",
       " Min.   :-1.0000   Min.   :-1.0000   Min.   :-1.0000   Min.   :-1.0000  \n",
       " 1st Qu.:-1.0000   1st Qu.:-1.0000   1st Qu.:-1.0000   1st Qu.:-1.0000  \n",
       " Median :-1.0000   Median :-1.0000   Median :-1.0000   Median :-1.0000  \n",
       " Mean   :-0.6224   Mean   :-0.5391   Mean   :-0.4749   Mean   :-0.4322  \n",
       " 3rd Qu.:-0.6128   3rd Qu.:-0.2000   3rd Qu.: 0.1510   3rd Qu.: 0.3150  \n",
       " Max.   : 1.0000   Max.   : 1.0000   Max.   : 1.0000   Max.   : 1.0000  \n",
       "      V153              V154               V155              V156        \n",
       " Min.   :-1.0000   Min.   :-1.00000   Min.   :-1.0000   Min.   :-1.0000  \n",
       " 1st Qu.:-1.0000   1st Qu.:-0.91025   1st Qu.:-0.4477   1st Qu.:-0.8902  \n",
       " Median :-0.9515   Median : 0.00200   Median : 0.8105   Median : 0.2900  \n",
       " Mean   :-0.3517   Mean   :-0.00502   Mean   : 0.3283   Mean   : 0.1084  \n",
       " 3rd Qu.: 0.4790   3rd Qu.: 0.88975   3rd Qu.: 1.0000   3rd Qu.: 0.9790  \n",
       " Max.   : 1.0000   Max.   : 1.00000   Max.   : 1.0000   Max.   : 1.0000  \n",
       "      V157              V158              V159              V160        \n",
       " Min.   :-1.0000   Min.   :-1.0000   Min.   :-1.0000   Min.   :-1.0000  \n",
       " 1st Qu.:-1.0000   1st Qu.:-1.0000   1st Qu.:-1.0000   1st Qu.:-1.0000  \n",
       " Median :-0.9440   Median :-1.0000   Median :-1.0000   Median :-1.0000  \n",
       " Mean   :-0.4305   Mean   :-0.7308   Mean   :-0.8495   Mean   :-0.9013  \n",
       " 3rd Qu.: 0.1437   3rd Qu.:-0.9387   3rd Qu.:-1.0000   3rd Qu.:-1.0000  \n",
       " Max.   : 1.0000   Max.   : 1.0000   Max.   : 1.0000   Max.   : 1.0000  \n",
       "      V161             V162              V163              V164        \n",
       " Min.   :-1.000   Min.   :-1.0000   Min.   :-1.0000   Min.   :-1.0000  \n",
       " 1st Qu.:-1.000   1st Qu.:-1.0000   1st Qu.:-1.0000   1st Qu.:-1.0000  \n",
       " Median :-1.000   Median :-1.0000   Median :-1.0000   Median :-1.0000  \n",
       " Mean   :-0.951   Mean   :-0.8487   Mean   :-0.6593   Mean   :-0.5497  \n",
       " 3rd Qu.:-1.000   3rd Qu.:-1.0000   3rd Qu.:-0.9073   3rd Qu.:-0.2273  \n",
       " Max.   : 0.995   Max.   : 0.9300   Max.   : 1.0000   Max.   : 1.0000  \n",
       "      V165              V166              V167              V168        \n",
       " Min.   :-1.0000   Min.   :-1.0000   Min.   :-1.0000   Min.   :-1.0000  \n",
       " 1st Qu.:-1.0000   1st Qu.:-1.0000   1st Qu.:-1.0000   1st Qu.:-1.0000  \n",
       " Median :-1.0000   Median :-1.0000   Median :-1.0000   Median :-0.9920  \n",
       " Mean   :-0.4497   Mean   :-0.3814   Mean   :-0.3403   Mean   :-0.3136  \n",
       " 3rd Qu.: 0.2150   3rd Qu.: 0.5215   3rd Qu.: 0.6275   3rd Qu.: 0.6980  \n",
       " Max.   : 1.0000   Max.   : 1.0000   Max.   : 1.0000   Max.   : 1.0000  \n",
       "      V169              V170              V171              V172        \n",
       " Min.   :-1.0000   Min.   :-1.0000   Min.   :-1.0000   Min.   :-1.0000  \n",
       " 1st Qu.:-1.0000   1st Qu.:-0.4662   1st Qu.:-0.1465   1st Qu.:-0.9770  \n",
       " Median :-0.3885   Median : 0.6125   Median : 0.8410   Median :-0.0835  \n",
       " Mean   :-0.1527   Mean   : 0.2816   Mean   : 0.3967   Mean   :-0.0434  \n",
       " 3rd Qu.: 0.7897   3rd Qu.: 1.0000   3rd Qu.: 1.0000   3rd Qu.: 0.8952  \n",
       " Max.   : 1.0000   Max.   : 1.0000   Max.   : 1.0000   Max.   : 1.0000  \n",
       "      V173               V174              V175              V176        \n",
       " Min.   :-1.00000   Min.   :-1.0000   Min.   :-1.0000   Min.   :-1.0000  \n",
       " 1st Qu.:-1.00000   1st Qu.:-1.0000   1st Qu.:-1.0000   1st Qu.:-1.0000  \n",
       " Median :-1.00000   Median :-1.0000   Median :-1.0000   Median :-1.0000  \n",
       " Mean   :-0.47203   Mean   :-0.6831   Mean   :-0.7917   Mean   :-0.8603  \n",
       " 3rd Qu.: 0.01925   3rd Qu.:-0.8610   3rd Qu.:-1.0000   3rd Qu.:-1.0000  \n",
       " Max.   : 1.00000   Max.   : 1.0000   Max.   : 1.0000   Max.   : 1.0000  \n",
       "      V177             V178              V179              V180        \n",
       " Min.   :-1.000   Min.   :-1.0000   Min.   :-1.0000   Min.   :-1.0000  \n",
       " 1st Qu.:-1.000   1st Qu.:-1.0000   1st Qu.:-1.0000   1st Qu.:-1.0000  \n",
       " Median :-1.000   Median :-1.0000   Median :-1.0000   Median :-1.0000  \n",
       " Mean   :-0.928   Mean   :-0.7751   Mean   :-0.5321   Mean   :-0.4260  \n",
       " 3rd Qu.:-1.000   3rd Qu.:-1.0000   3rd Qu.:-0.1747   3rd Qu.: 0.3563  \n",
       " Max.   : 0.968   Max.   : 0.9660   Max.   : 1.0000   Max.   : 1.0000  \n",
       "      V181              V182              V183              V184        \n",
       " Min.   :-1.0000   Min.   :-1.0000   Min.   :-1.0000   Min.   :-1.0000  \n",
       " 1st Qu.:-1.0000   1st Qu.:-1.0000   1st Qu.:-1.0000   1st Qu.:-1.0000  \n",
       " Median :-1.0000   Median :-1.0000   Median :-1.0000   Median :-0.8580  \n",
       " Mean   :-0.3845   Mean   :-0.3689   Mean   :-0.3684   Mean   :-0.2931  \n",
       " 3rd Qu.: 0.5515   3rd Qu.: 0.5603   3rd Qu.: 0.5600   3rd Qu.: 0.6522  \n",
       " Max.   : 1.0000   Max.   : 1.0000   Max.   : 1.0000   Max.   : 1.0000  \n",
       "      V185               V186               V187              V188        \n",
       " Min.   :-1.00000   Min.   :-1.00000   Min.   :-1.0000   Min.   :-1.0000  \n",
       " 1st Qu.:-0.89050   1st Qu.:-0.04725   1st Qu.:-0.3812   1st Qu.:-1.0000  \n",
       " Median : 0.08300   Median : 0.88450   Median : 0.6995   Median :-0.4350  \n",
       " Mean   : 0.03053   Mean   : 0.43792   Mean   : 0.3161   Mean   :-0.1907  \n",
       " 3rd Qu.: 0.92725   3rd Qu.: 1.00000   3rd Qu.: 1.0000   3rd Qu.: 0.6997  \n",
       " Max.   : 1.00000   Max.   : 1.00000   Max.   : 1.0000   Max.   : 1.0000  \n",
       "      V189              V190              V191              V192       \n",
       " Min.   :-1.0000   Min.   :-1.0000   Min.   :-1.0000   Min.   :-1.000  \n",
       " 1st Qu.:-1.0000   1st Qu.:-1.0000   1st Qu.:-1.0000   1st Qu.:-1.000  \n",
       " Median :-1.0000   Median :-1.0000   Median :-1.0000   Median :-1.000  \n",
       " Mean   :-0.4593   Mean   :-0.5918   Mean   :-0.7061   Mean   :-0.797  \n",
       " 3rd Qu.: 0.1995   3rd Qu.:-0.4165   3rd Qu.:-0.9630   3rd Qu.:-1.000  \n",
       " Max.   : 1.0000   Max.   : 1.0000   Max.   : 1.0000   Max.   : 1.000  \n",
       "      V193              V194              V195              V196        \n",
       " Min.   :-1.0000   Min.   :-1.0000   Min.   :-1.0000   Min.   :-1.0000  \n",
       " 1st Qu.:-1.0000   1st Qu.:-1.0000   1st Qu.:-1.0000   1st Qu.:-1.0000  \n",
       " Median :-1.0000   Median :-1.0000   Median :-1.0000   Median :-1.0000  \n",
       " Mean   :-0.8955   Mean   :-0.7795   Mean   :-0.4925   Mean   :-0.3952  \n",
       " 3rd Qu.:-1.0000   3rd Qu.:-0.9968   3rd Qu.: 0.1583   3rd Qu.: 0.4760  \n",
       " Max.   : 0.8990   Max.   : 0.9750   Max.   : 1.0000   Max.   : 1.0000  \n",
       "      V197              V198              V199              V200       \n",
       " Min.   :-1.0000   Min.   :-1.0000   Min.   :-1.0000   Min.   :-1.000  \n",
       " 1st Qu.:-1.0000   1st Qu.:-1.0000   1st Qu.:-1.0000   1st Qu.:-1.000  \n",
       " Median :-1.0000   Median :-1.0000   Median :-1.0000   Median :-0.643  \n",
       " Mean   :-0.3806   Mean   :-0.4045   Mean   :-0.4032   Mean   :-0.238  \n",
       " 3rd Qu.: 0.4860   3rd Qu.: 0.4200   3rd Qu.: 0.4135   3rd Qu.: 0.673  \n",
       " Max.   : 1.0000   Max.   : 1.0000   Max.   : 1.0000   Max.   : 1.000  \n",
       "      V201              V202              V203               V204        \n",
       " Min.   :-1.0000   Min.   :-1.0000   Min.   :-1.00000   Min.   :-1.0000  \n",
       " 1st Qu.:-0.6705   1st Qu.:-0.1052   1st Qu.:-0.85125   1st Qu.:-1.0000  \n",
       " Median : 0.4395   Median : 0.8980   Median : 0.14900   Median :-0.9185  \n",
       " Mean   : 0.1871   Mean   : 0.4180   Mean   : 0.05043   Mean   :-0.3523  \n",
       " 3rd Qu.: 0.9950   3rd Qu.: 1.0000   3rd Qu.: 0.92325   3rd Qu.: 0.5485  \n",
       " Max.   : 1.0000   Max.   : 1.0000   Max.   : 1.00000   Max.   : 1.0000  \n",
       "      V205              V206              V207              V208        \n",
       " Min.   :-1.0000   Min.   :-1.0000   Min.   :-1.0000   Min.   :-1.0000  \n",
       " 1st Qu.:-1.0000   1st Qu.:-1.0000   1st Qu.:-1.0000   1st Qu.:-1.0000  \n",
       " Median :-1.0000   Median :-1.0000   Median :-1.0000   Median :-1.0000  \n",
       " Mean   :-0.4437   Mean   :-0.5225   Mean   :-0.6142   Mean   :-0.7346  \n",
       " 3rd Qu.: 0.3332   3rd Qu.:-0.0970   3rd Qu.:-0.5590   3rd Qu.:-0.9805  \n",
       " Max.   : 1.0000   Max.   : 1.0000   Max.   : 1.0000   Max.   : 1.0000  \n",
       "      V209              V210              V211              V212        \n",
       " Min.   :-1.0000   Min.   :-1.0000   Min.   :-1.0000   Min.   :-1.0000  \n",
       " 1st Qu.:-1.0000   1st Qu.:-1.0000   1st Qu.:-1.0000   1st Qu.:-1.0000  \n",
       " Median :-1.0000   Median :-1.0000   Median :-1.0000   Median :-1.0000  \n",
       " Mean   :-0.8717   Mean   :-0.8411   Mean   :-0.5630   Mean   :-0.3961  \n",
       " 3rd Qu.:-1.0000   3rd Qu.:-1.0000   3rd Qu.:-0.3355   3rd Qu.: 0.5340  \n",
       " Max.   : 0.9870   Max.   : 0.9790   Max.   : 1.0000   Max.   : 1.0000  \n",
       "      V213              V214              V215              V216        \n",
       " Min.   :-1.0000   Min.   :-1.0000   Min.   :-1.0000   Min.   :-1.0000  \n",
       " 1st Qu.:-1.0000   1st Qu.:-1.0000   1st Qu.:-1.0000   1st Qu.:-1.0000  \n",
       " Median :-1.0000   Median :-1.0000   Median :-0.9380   Median :-0.2370  \n",
       " Mean   :-0.3594   Mean   :-0.3680   Mean   :-0.3347   Mean   :-0.1044  \n",
       " 3rd Qu.: 0.5697   3rd Qu.: 0.5357   3rd Qu.: 0.5978   3rd Qu.: 0.8590  \n",
       " Max.   : 1.0000   Max.   : 1.0000   Max.   : 1.0000   Max.   : 1.0000  \n",
       "      V217              V218              V219              V220        \n",
       " Min.   :-1.0000   Min.   :-1.0000   Min.   :-1.0000   Min.   :-1.0000  \n",
       " 1st Qu.:-0.6518   1st Qu.:-0.7837   1st Qu.:-1.0000   1st Qu.:-1.0000  \n",
       " Median : 0.6100   Median : 0.5555   Median :-0.6360   Median :-1.0000  \n",
       " Mean   : 0.2375   Mean   : 0.2061   Mean   :-0.2715   Mean   :-0.5362  \n",
       " 3rd Qu.: 1.0000   3rd Qu.: 1.0000   3rd Qu.: 0.5487   3rd Qu.:-0.2180  \n",
       " Max.   : 1.0000   Max.   : 1.0000   Max.   : 1.0000   Max.   : 1.0000  \n",
       "      V221              V222              V223              V224        \n",
       " Min.   :-1.0000   Min.   :-1.0000   Min.   :-1.0000   Min.   :-1.0000  \n",
       " 1st Qu.:-1.0000   1st Qu.:-1.0000   1st Qu.:-1.0000   1st Qu.:-1.0000  \n",
       " Median :-1.0000   Median :-1.0000   Median :-1.0000   Median :-1.0000  \n",
       " Mean   :-0.5529   Mean   :-0.5526   Mean   :-0.6020   Mean   :-0.7058  \n",
       " 3rd Qu.:-0.2910   3rd Qu.:-0.1883   3rd Qu.:-0.5345   3rd Qu.:-0.9998  \n",
       " Max.   : 1.0000   Max.   : 1.0000   Max.   : 1.0000   Max.   : 1.0000  \n",
       "      V225              V226              V227              V228        \n",
       " Min.   :-1.0000   Min.   :-1.0000   Min.   :-1.0000   Min.   :-1.0000  \n",
       " 1st Qu.:-1.0000   1st Qu.:-1.0000   1st Qu.:-1.0000   1st Qu.:-1.0000  \n",
       " Median :-1.0000   Median :-1.0000   Median :-1.0000   Median :-1.0000  \n",
       " Mean   :-0.8725   Mean   :-0.9247   Mean   :-0.7542   Mean   :-0.5710  \n",
       " 3rd Qu.:-1.0000   3rd Qu.:-1.0000   3rd Qu.:-1.0000   3rd Qu.:-0.3545  \n",
       " Max.   : 0.9480   Max.   : 0.9460   Max.   : 1.0000   Max.   : 1.0000  \n",
       "      V229              V230              V231              V232         \n",
       " Min.   :-1.0000   Min.   :-1.0000   Min.   :-1.0000   Min.   :-1.00000  \n",
       " 1st Qu.:-1.0000   1st Qu.:-1.0000   1st Qu.:-1.0000   1st Qu.:-1.00000  \n",
       " Median :-1.0000   Median :-1.0000   Median :-0.9705   Median :-0.21050  \n",
       " Mean   :-0.4585   Mean   :-0.3987   Mean   :-0.3275   Mean   :-0.09245  \n",
       " 3rd Qu.: 0.2975   3rd Qu.: 0.5062   3rd Qu.: 0.6325   3rd Qu.: 0.87600  \n",
       " Max.   : 1.0000   Max.   : 1.0000   Max.   : 1.0000   Max.   : 1.00000  \n",
       "      V233               V234              V235              V236        \n",
       " Min.   :-1.00000   Min.   :-1.0000   Min.   :-1.0000   Min.   :-1.0000  \n",
       " 1st Qu.:-1.00000   1st Qu.:-1.0000   1st Qu.:-1.0000   1st Qu.:-1.0000  \n",
       " Median : 0.35800   Median :-0.2840   Median :-1.0000   Median :-1.0000  \n",
       " Mean   : 0.09358   Mean   :-0.1184   Mean   :-0.5568   Mean   :-0.7225  \n",
       " 3rd Qu.: 1.00000   3rd Qu.: 0.8585   3rd Qu.:-0.2870   3rd Qu.:-0.9898  \n",
       " Max.   : 1.00000   Max.   : 1.0000   Max.   : 1.0000   Max.   : 1.0000  \n",
       "      V237              V238              V239              V240       \n",
       " Min.   :-1.0000   Min.   :-1.0000   Min.   :-1.0000   Min.   :-1.000  \n",
       " 1st Qu.:-1.0000   1st Qu.:-1.0000   1st Qu.:-1.0000   1st Qu.:-1.000  \n",
       " Median :-1.0000   Median :-1.0000   Median :-1.0000   Median :-1.000  \n",
       " Mean   :-0.6988   Mean   :-0.6676   Mean   :-0.7020   Mean   :-0.782  \n",
       " 3rd Qu.:-1.0000   3rd Qu.:-0.9507   3rd Qu.:-0.9988   3rd Qu.:-1.000  \n",
       " Max.   : 1.0000   Max.   : 1.0000   Max.   : 1.0000   Max.   : 1.000  \n",
       "      V241              V242             V243              V244        \n",
       " Min.   :-1.0000   Min.   :-1.000   Min.   :-1.0000   Min.   :-1.0000  \n",
       " 1st Qu.:-1.0000   1st Qu.:-1.000   1st Qu.:-1.0000   1st Qu.:-1.0000  \n",
       " Median :-1.0000   Median :-1.000   Median :-1.0000   Median :-1.0000  \n",
       " Mean   :-0.9106   Mean   :-0.985   Mean   :-0.9336   Mean   :-0.8517  \n",
       " 3rd Qu.:-1.0000   3rd Qu.:-1.000   3rd Qu.:-1.0000   3rd Qu.:-1.0000  \n",
       " Max.   : 0.8530   Max.   : 0.361   Max.   : 1.0000   Max.   : 1.0000  \n",
       "      V245              V246              V247              V248        \n",
       " Min.   :-1.0000   Min.   :-1.0000   Min.   :-1.0000   Min.   :-1.0000  \n",
       " 1st Qu.:-1.0000   1st Qu.:-1.0000   1st Qu.:-1.0000   1st Qu.:-1.0000  \n",
       " Median :-1.0000   Median :-1.0000   Median :-1.0000   Median :-0.9415  \n",
       " Mean   :-0.7481   Mean   :-0.6655   Mean   :-0.6105   Mean   :-0.4592  \n",
       " 3rd Qu.:-0.9920   3rd Qu.:-0.7285   3rd Qu.:-0.4617   3rd Qu.: 0.1197  \n",
       " Max.   : 1.0000   Max.   : 1.0000   Max.   : 1.0000   Max.   : 1.0000  \n",
       "      V249              V250               V251              V252        \n",
       " Min.   :-1.0000   Min.   :-1.00000   Min.   :-1.0000   Min.   :-1.0000  \n",
       " 1st Qu.:-1.0000   1st Qu.:-1.00000   1st Qu.:-1.0000   1st Qu.:-1.0000  \n",
       " Median :-0.7615   Median :-1.00000   Median :-1.0000   Median :-1.0000  \n",
       " Mean   :-0.3285   Mean   :-0.53385   Mean   :-0.8228   Mean   :-0.9051  \n",
       " 3rd Qu.: 0.4358   3rd Qu.:-0.09775   3rd Qu.:-0.9920   3rd Qu.:-1.0000  \n",
       " Max.   : 1.0000   Max.   : 1.00000   Max.   : 1.0000   Max.   : 1.0000  \n",
       "      V253              V254              V255              V256        \n",
       " Min.   :-1.0000   Min.   :-1.0000   Min.   :-1.0000   Min.   :-1.0000  \n",
       " 1st Qu.:-1.0000   1st Qu.:-1.0000   1st Qu.:-1.0000   1st Qu.:-1.0000  \n",
       " Median :-1.0000   Median :-1.0000   Median :-1.0000   Median :-1.0000  \n",
       " Mean   :-0.8892   Mean   :-0.8499   Mean   :-0.8529   Mean   :-0.9072  \n",
       " 3rd Qu.:-1.0000   3rd Qu.:-1.0000   3rd Qu.:-1.0000   3rd Qu.:-1.0000  \n",
       " Max.   : 1.0000   Max.   : 1.0000   Max.   : 1.0000   Max.   : 1.0000  \n",
       "      V257        \n",
       " Min.   :-1.0000  \n",
       " 1st Qu.:-1.0000  \n",
       " Median :-1.0000  \n",
       " Mean   :-0.9728  \n",
       " 3rd Qu.:-1.0000  \n",
       " Max.   : 0.5920  "
      ]
     },
     "metadata": {},
     "output_type": "display_data"
    }
   ],
   "source": [
    "#summary of all variables\n",
    "summary(ziptrain27);"
   ]
  },
  {
   "cell_type": "code",
   "execution_count": 32,
   "id": "01d2ea55",
   "metadata": {},
   "outputs": [
    {
     "name": "stderr",
     "output_type": "stream",
     "text": [
      "Warning message in ziptrain27$V2:ziptrain27$V257:\n",
      "\"numerical expression has 1376 elements: only the first used\"\n",
      "Warning message in ziptrain27$V2:ziptrain27$V257:\n",
      "\"numerical expression has 1376 elements: only the first used\"\n"
     ]
    },
    {
     "data": {
      "image/png": "[encoded data removed]",
      "text/plain": [
       "Plot with title \"Histogram of combined_values\""
      ]
     },
     "metadata": {
      "image/png": {
       "height": 420,
       "width": 420
      }
     },
     "output_type": "display_data"
    }
   ],
   "source": [
    "combined_values <- unlist(apply(ziptrain27[, ziptrain27$V2:ziptrain27$V257], 2, unlist))\n",
    "hist(combined_values)"
   ]
  },
  {
   "cell_type": "code",
   "execution_count": 33,
   "id": "5173990a",
   "metadata": {},
   "outputs": [
    {
     "data": {
      "image/png": "[encoded data removed]",
      "text/plain": [
       "Plot with title \"Distribution of Means\""
      ]
     },
     "metadata": {
      "image/png": {
       "height": 420,
       "width": 420
      }
     },
     "output_type": "display_data"
    }
   ],
   "source": [
    "means <- NULL\n",
    "for (col_name in colnames(ziptrain27)) {\n",
    "  cmean <- mean(ziptrain27[[col_name]], na.rm = TRUE)\n",
    "  means = rbind(means, cmean)\n",
    "}\n",
    "hist(means, breaks = 100, xlim = c(-1, 1), main = \"Distribution of Means\", col = \"Orange\")"
   ]
  },
  {
   "cell_type": "code",
   "execution_count": 34,
   "id": "62a56471",
   "metadata": {},
   "outputs": [
    {
     "data": {
      "text/html": [
       "<table class=\"dataframe\">\n",
       "<caption>A matrix: 257 × 257 of type dbl</caption>\n",
       "<thead>\n",
       "\t<tr><th></th><th scope=col>V1</th><th scope=col>V2</th><th scope=col>V3</th><th scope=col>V4</th><th scope=col>V5</th><th scope=col>V6</th><th scope=col>V7</th><th scope=col>V8</th><th scope=col>V9</th><th scope=col>V10</th><th scope=col>...</th><th scope=col>V248</th><th scope=col>V249</th><th scope=col>V250</th><th scope=col>V251</th><th scope=col>V252</th><th scope=col>V253</th><th scope=col>V254</th><th scope=col>V255</th><th scope=col>V256</th><th scope=col>V257</th></tr>\n",
       "</thead>\n",
       "<tbody>\n",
       "\t<tr><th scope=row>V1</th><td> 1.00</td><td>0.08</td><td>0.13</td><td>0.16</td><td>0.18</td><td>0.14</td><td> 0.05</td><td>-0.03</td><td>-0.03</td><td> 0.12</td><td>...</td><td>0.14</td><td>0.50</td><td> 0.40</td><td> 0.03</td><td>-0.19</td><td>-0.27</td><td>-0.32</td><td>-0.32</td><td>-0.26</td><td>-0.17</td></tr>\n",
       "\t<tr><th scope=row>V2</th><td> 0.08</td><td>1.00</td><td>0.71</td><td>0.40</td><td>0.22</td><td>0.10</td><td> 0.05</td><td> 0.02</td><td> 0.01</td><td> 0.02</td><td>...</td><td>0.12</td><td>0.02</td><td>-0.04</td><td>-0.02</td><td>-0.01</td><td>-0.02</td><td>-0.04</td><td>-0.04</td><td>-0.03</td><td>-0.02</td></tr>\n",
       "\t<tr><th scope=row>V3</th><td> 0.13</td><td>0.71</td><td>1.00</td><td>0.77</td><td>0.45</td><td>0.23</td><td> 0.12</td><td> 0.04</td><td> 0.00</td><td> 0.00</td><td>...</td><td>0.17</td><td>0.04</td><td>-0.07</td><td>-0.05</td><td>-0.03</td><td>-0.05</td><td>-0.06</td><td>-0.05</td><td>-0.03</td><td>-0.03</td></tr>\n",
       "\t<tr><th scope=row>V4</th><td> 0.16</td><td>0.40</td><td>0.77</td><td>1.00</td><td>0.75</td><td>0.43</td><td> 0.24</td><td> 0.12</td><td> 0.04</td><td> 0.02</td><td>...</td><td>0.22</td><td>0.08</td><td>-0.06</td><td>-0.06</td><td>-0.03</td><td>-0.05</td><td>-0.08</td><td>-0.07</td><td>-0.04</td><td>-0.03</td></tr>\n",
       "\t<tr><th scope=row>V5</th><td> 0.18</td><td>0.22</td><td>0.45</td><td>0.75</td><td>1.00</td><td>0.74</td><td> 0.44</td><td> 0.24</td><td> 0.12</td><td> 0.07</td><td>...</td><td>0.32</td><td>0.15</td><td>-0.04</td><td>-0.06</td><td>-0.04</td><td>-0.05</td><td>-0.08</td><td>-0.07</td><td>-0.03</td><td>-0.02</td></tr>\n",
       "\t<tr><th scope=row>V6</th><td> 0.14</td><td>0.10</td><td>0.23</td><td>0.43</td><td>0.74</td><td>1.00</td><td> 0.77</td><td> 0.46</td><td> 0.25</td><td> 0.14</td><td>...</td><td>0.40</td><td>0.22</td><td>-0.03</td><td>-0.06</td><td>-0.04</td><td>-0.05</td><td>-0.07</td><td>-0.04</td><td> 0.01</td><td> 0.00</td></tr>\n",
       "\t<tr><th scope=row>V7</th><td> 0.05</td><td>0.05</td><td>0.12</td><td>0.24</td><td>0.44</td><td>0.77</td><td> 1.00</td><td> 0.78</td><td> 0.49</td><td> 0.28</td><td>...</td><td>0.44</td><td>0.27</td><td> 0.02</td><td>-0.01</td><td> 0.01</td><td> 0.01</td><td> 0.02</td><td> 0.06</td><td> 0.08</td><td> 0.03</td></tr>\n",
       "\t<tr><th scope=row>V8</th><td>-0.03</td><td>0.02</td><td>0.04</td><td>0.12</td><td>0.24</td><td>0.46</td><td> 0.78</td><td> 1.00</td><td> 0.81</td><td> 0.53</td><td>...</td><td>0.39</td><td>0.27</td><td> 0.03</td><td> 0.03</td><td> 0.09</td><td> 0.12</td><td> 0.16</td><td> 0.19</td><td> 0.16</td><td> 0.07</td></tr>\n",
       "\t<tr><th scope=row>V9</th><td>-0.03</td><td>0.01</td><td>0.00</td><td>0.04</td><td>0.12</td><td>0.25</td><td> 0.49</td><td> 0.81</td><td> 1.00</td><td> 0.83</td><td>...</td><td>0.31</td><td>0.26</td><td> 0.07</td><td> 0.07</td><td> 0.18</td><td> 0.25</td><td> 0.29</td><td> 0.29</td><td> 0.21</td><td> 0.09</td></tr>\n",
       "\t<tr><th scope=row>V10</th><td> 0.12</td><td>0.02</td><td>0.00</td><td>0.02</td><td>0.07</td><td>0.14</td><td> 0.28</td><td> 0.53</td><td> 0.83</td><td> 1.00</td><td>...</td><td>0.21</td><td>0.30</td><td> 0.16</td><td> 0.09</td><td> 0.16</td><td> 0.24</td><td> 0.29</td><td> 0.24</td><td> 0.16</td><td> 0.06</td></tr>\n",
       "\t<tr><th scope=row>V11</th><td> 0.37</td><td>0.05</td><td>0.03</td><td>0.05</td><td>0.07</td><td>0.09</td><td> 0.14</td><td> 0.28</td><td> 0.51</td><td> 0.82</td><td>...</td><td>0.14</td><td>0.39</td><td> 0.31</td><td> 0.11</td><td> 0.06</td><td> 0.13</td><td> 0.14</td><td> 0.09</td><td> 0.02</td><td>-0.03</td></tr>\n",
       "\t<tr><th scope=row>V12</th><td> 0.57</td><td>0.06</td><td>0.05</td><td>0.07</td><td>0.09</td><td>0.07</td><td> 0.05</td><td> 0.11</td><td> 0.24</td><td> 0.50</td><td>...</td><td>0.07</td><td>0.45</td><td> 0.44</td><td> 0.12</td><td>-0.03</td><td>-0.04</td><td>-0.06</td><td>-0.09</td><td>-0.10</td><td>-0.10</td></tr>\n",
       "\t<tr><th scope=row>V13</th><td> 0.61</td><td>0.08</td><td>0.08</td><td>0.10</td><td>0.12</td><td>0.07</td><td> 0.02</td><td> 0.00</td><td> 0.06</td><td> 0.25</td><td>...</td><td>0.03</td><td>0.43</td><td> 0.45</td><td> 0.13</td><td>-0.08</td><td>-0.12</td><td>-0.16</td><td>-0.16</td><td>-0.14</td><td>-0.11</td></tr>\n",
       "\t<tr><th scope=row>V14</th><td> 0.52</td><td>0.10</td><td>0.12</td><td>0.16</td><td>0.13</td><td>0.06</td><td>-0.01</td><td>-0.05</td><td>-0.03</td><td> 0.09</td><td>...</td><td>0.02</td><td>0.37</td><td> 0.39</td><td> 0.15</td><td>-0.05</td><td>-0.12</td><td>-0.16</td><td>-0.16</td><td>-0.13</td><td>-0.08</td></tr>\n",
       "\t<tr><th scope=row>V15</th><td> 0.39</td><td>0.13</td><td>0.18</td><td>0.20</td><td>0.13</td><td>0.04</td><td>-0.01</td><td>-0.06</td><td>-0.06</td><td> 0.01</td><td>...</td><td>0.03</td><td>0.27</td><td> 0.29</td><td> 0.14</td><td>-0.03</td><td>-0.09</td><td>-0.12</td><td>-0.12</td><td>-0.10</td><td>-0.06</td></tr>\n",
       "\t<tr><th scope=row>V16</th><td> 0.25</td><td>0.17</td><td>0.19</td><td>0.15</td><td>0.09</td><td>0.02</td><td>-0.02</td><td>-0.05</td><td>-0.06</td><td>-0.02</td><td>...</td><td>0.04</td><td>0.16</td><td> 0.14</td><td> 0.06</td><td>-0.03</td><td>-0.06</td><td>-0.08</td><td>-0.08</td><td>-0.06</td><td>-0.04</td></tr>\n",
       "\t<tr><th scope=row>V17</th><td> 0.13</td><td>0.06</td><td>0.08</td><td>0.07</td><td>0.04</td><td>0.02</td><td> 0.00</td><td>-0.03</td><td>-0.03</td><td>-0.03</td><td>...</td><td>0.00</td><td>0.07</td><td> 0.06</td><td> 0.00</td><td>-0.03</td><td>-0.04</td><td>-0.04</td><td>-0.04</td><td>-0.03</td><td>-0.02</td></tr>\n",
       "\t<tr><th scope=row>V18</th><td> 0.11</td><td>0.56</td><td>0.49</td><td>0.36</td><td>0.23</td><td>0.12</td><td> 0.05</td><td> 0.01</td><td>-0.01</td><td> 0.00</td><td>...</td><td>0.11</td><td>0.01</td><td>-0.09</td><td>-0.06</td><td>-0.04</td><td>-0.04</td><td>-0.05</td><td>-0.05</td><td>-0.04</td><td>-0.03</td></tr>\n",
       "\t<tr><th scope=row>V19</th><td> 0.13</td><td>0.48</td><td>0.68</td><td>0.67</td><td>0.47</td><td>0.28</td><td> 0.16</td><td> 0.07</td><td> 0.03</td><td> 0.02</td><td>...</td><td>0.17</td><td>0.06</td><td>-0.10</td><td>-0.09</td><td>-0.06</td><td>-0.07</td><td>-0.09</td><td>-0.08</td><td>-0.05</td><td>-0.04</td></tr>\n",
       "\t<tr><th scope=row>V20</th><td> 0.14</td><td>0.30</td><td>0.54</td><td>0.72</td><td>0.64</td><td>0.44</td><td> 0.28</td><td> 0.15</td><td> 0.08</td><td> 0.06</td><td>...</td><td>0.23</td><td>0.09</td><td>-0.07</td><td>-0.09</td><td>-0.07</td><td>-0.08</td><td>-0.11</td><td>-0.09</td><td>-0.04</td><td>-0.03</td></tr>\n",
       "\t<tr><th scope=row>V21</th><td> 0.16</td><td>0.18</td><td>0.35</td><td>0.51</td><td>0.67</td><td>0.64</td><td> 0.48</td><td> 0.31</td><td> 0.19</td><td> 0.15</td><td>...</td><td>0.34</td><td>0.21</td><td>-0.03</td><td>-0.08</td><td>-0.06</td><td>-0.06</td><td>-0.08</td><td>-0.05</td><td>-0.02</td><td>-0.01</td></tr>\n",
       "\t<tr><th scope=row>V22</th><td> 0.15</td><td>0.11</td><td>0.21</td><td>0.32</td><td>0.48</td><td>0.64</td><td> 0.65</td><td> 0.50</td><td> 0.35</td><td> 0.26</td><td>...</td><td>0.39</td><td>0.31</td><td> 0.03</td><td>-0.07</td><td>-0.06</td><td>-0.06</td><td>-0.05</td><td> 0.01</td><td> 0.02</td><td> 0.00</td></tr>\n",
       "\t<tr><th scope=row>V23</th><td> 0.14</td><td>0.05</td><td>0.11</td><td>0.19</td><td>0.30</td><td>0.46</td><td> 0.61</td><td> 0.61</td><td> 0.49</td><td> 0.39</td><td>...</td><td>0.39</td><td>0.37</td><td> 0.09</td><td>-0.03</td><td>-0.01</td><td> 0.02</td><td> 0.05</td><td> 0.08</td><td> 0.09</td><td> 0.06</td></tr>\n",
       "\t<tr><th scope=row>V24</th><td> 0.12</td><td>0.02</td><td>0.05</td><td>0.12</td><td>0.22</td><td>0.33</td><td> 0.45</td><td> 0.57</td><td> 0.55</td><td> 0.48</td><td>...</td><td>0.35</td><td>0.36</td><td> 0.14</td><td> 0.02</td><td> 0.07</td><td> 0.12</td><td> 0.16</td><td> 0.16</td><td> 0.12</td><td> 0.07</td></tr>\n",
       "\t<tr><th scope=row>V25</th><td> 0.13</td><td>0.02</td><td>0.04</td><td>0.09</td><td>0.18</td><td>0.25</td><td> 0.37</td><td> 0.49</td><td> 0.54</td><td> 0.52</td><td>...</td><td>0.28</td><td>0.35</td><td> 0.21</td><td> 0.09</td><td> 0.10</td><td> 0.16</td><td> 0.20</td><td> 0.19</td><td> 0.13</td><td> 0.08</td></tr>\n",
       "\t<tr><th scope=row>V26</th><td> 0.21</td><td>0.02</td><td>0.03</td><td>0.07</td><td>0.15</td><td>0.20</td><td> 0.31</td><td> 0.46</td><td> 0.57</td><td> 0.57</td><td>...</td><td>0.24</td><td>0.36</td><td> 0.27</td><td> 0.15</td><td> 0.12</td><td> 0.16</td><td> 0.19</td><td> 0.21</td><td> 0.15</td><td> 0.07</td></tr>\n",
       "\t<tr><th scope=row>V27</th><td> 0.37</td><td>0.04</td><td>0.05</td><td>0.09</td><td>0.15</td><td>0.16</td><td> 0.22</td><td> 0.36</td><td> 0.51</td><td> 0.61</td><td>...</td><td>0.20</td><td>0.40</td><td> 0.33</td><td> 0.18</td><td> 0.11</td><td> 0.14</td><td> 0.16</td><td> 0.15</td><td> 0.12</td><td> 0.04</td></tr>\n",
       "\t<tr><th scope=row>V28</th><td> 0.59</td><td>0.07</td><td>0.08</td><td>0.12</td><td>0.17</td><td>0.15</td><td> 0.15</td><td> 0.18</td><td> 0.30</td><td> 0.51</td><td>...</td><td>0.16</td><td>0.48</td><td> 0.42</td><td> 0.17</td><td> 0.03</td><td> 0.05</td><td> 0.06</td><td> 0.03</td><td> 0.00</td><td>-0.04</td></tr>\n",
       "\t<tr><th scope=row>V29</th><td> 0.72</td><td>0.09</td><td>0.13</td><td>0.16</td><td>0.19</td><td>0.14</td><td> 0.08</td><td> 0.04</td><td> 0.10</td><td> 0.30</td><td>...</td><td>0.12</td><td>0.50</td><td> 0.45</td><td> 0.16</td><td>-0.03</td><td>-0.08</td><td>-0.10</td><td>-0.11</td><td>-0.10</td><td>-0.10</td></tr>\n",
       "\t<tr><th scope=row>V30</th><td> 0.67</td><td>0.13</td><td>0.19</td><td>0.24</td><td>0.23</td><td>0.14</td><td> 0.04</td><td>-0.03</td><td>-0.02</td><td> 0.12</td><td>...</td><td>0.11</td><td>0.41</td><td> 0.35</td><td> 0.12</td><td>-0.06</td><td>-0.12</td><td>-0.16</td><td>-0.16</td><td>-0.14</td><td>-0.11</td></tr>\n",
       "\t<tr><th scope=row>...</th><td>...</td><td>...</td><td>...</td><td>...</td><td>...</td><td>...</td><td>...</td><td>...</td><td>...</td><td>...</td><td></td><td>...</td><td>...</td><td>...</td><td>...</td><td>...</td><td>...</td><td>...</td><td>...</td><td>...</td><td>...</td></tr>\n",
       "\t<tr><th scope=row>V228</th><td>-0.55</td><td> 0.00</td><td> 0.01</td><td> 0.04</td><td> 0.06</td><td> 0.12</td><td> 0.17</td><td> 0.18</td><td> 0.11</td><td>-0.04</td><td>...</td><td>-0.06</td><td>-0.29</td><td>-0.23</td><td>-0.04</td><td> 0.07</td><td> 0.10</td><td> 0.14</td><td> 0.24</td><td> 0.26</td><td> 0.18</td></tr>\n",
       "\t<tr><th scope=row>V229</th><td>-0.62</td><td> 0.00</td><td> 0.01</td><td> 0.04</td><td> 0.06</td><td> 0.13</td><td> 0.22</td><td> 0.27</td><td> 0.21</td><td> 0.02</td><td>...</td><td> 0.07</td><td>-0.24</td><td>-0.21</td><td> 0.01</td><td> 0.13</td><td> 0.16</td><td> 0.20</td><td> 0.25</td><td> 0.24</td><td> 0.14</td></tr>\n",
       "\t<tr><th scope=row>V230</th><td>-0.59</td><td> 0.01</td><td> 0.03</td><td> 0.07</td><td> 0.10</td><td> 0.17</td><td> 0.27</td><td> 0.33</td><td> 0.28</td><td> 0.07</td><td>...</td><td> 0.18</td><td>-0.20</td><td>-0.19</td><td> 0.05</td><td> 0.18</td><td> 0.22</td><td> 0.22</td><td> 0.22</td><td> 0.18</td><td> 0.10</td></tr>\n",
       "\t<tr><th scope=row>V231</th><td>-0.44</td><td> 0.09</td><td> 0.13</td><td> 0.18</td><td> 0.22</td><td> 0.29</td><td> 0.35</td><td> 0.37</td><td> 0.29</td><td> 0.09</td><td>...</td><td> 0.36</td><td>-0.14</td><td>-0.18</td><td> 0.04</td><td> 0.17</td><td> 0.20</td><td> 0.19</td><td> 0.15</td><td> 0.11</td><td> 0.06</td></tr>\n",
       "\t<tr><th scope=row>V232</th><td> 0.02</td><td> 0.13</td><td> 0.21</td><td> 0.28</td><td> 0.36</td><td> 0.44</td><td> 0.47</td><td> 0.44</td><td> 0.35</td><td> 0.21</td><td>...</td><td> 0.75</td><td> 0.31</td><td>-0.07</td><td> 0.00</td><td> 0.10</td><td> 0.10</td><td> 0.07</td><td> 0.00</td><td>-0.02</td><td>-0.03</td></tr>\n",
       "\t<tr><th scope=row>V233</th><td> 0.42</td><td> 0.06</td><td> 0.10</td><td> 0.14</td><td> 0.23</td><td> 0.30</td><td> 0.36</td><td> 0.36</td><td> 0.34</td><td> 0.34</td><td>...</td><td> 0.62</td><td> 0.79</td><td> 0.40</td><td> 0.12</td><td> 0.06</td><td> 0.02</td><td>-0.04</td><td>-0.11</td><td>-0.12</td><td>-0.09</td></tr>\n",
       "\t<tr><th scope=row>V234</th><td> 0.35</td><td>-0.04</td><td>-0.05</td><td>-0.03</td><td> 0.01</td><td> 0.04</td><td> 0.11</td><td> 0.15</td><td> 0.20</td><td> 0.27</td><td>...</td><td> 0.24</td><td> 0.65</td><td> 0.78</td><td> 0.45</td><td> 0.22</td><td> 0.13</td><td> 0.03</td><td>-0.06</td><td>-0.08</td><td>-0.07</td></tr>\n",
       "\t<tr><th scope=row>V235</th><td>-0.07</td><td>-0.04</td><td>-0.08</td><td>-0.08</td><td>-0.07</td><td>-0.06</td><td> 0.03</td><td> 0.11</td><td> 0.17</td><td> 0.18</td><td>...</td><td> 0.13</td><td> 0.22</td><td> 0.57</td><td> 0.73</td><td> 0.52</td><td> 0.40</td><td> 0.24</td><td> 0.12</td><td> 0.05</td><td> 0.00</td></tr>\n",
       "\t<tr><th scope=row>V236</th><td>-0.34</td><td>-0.03</td><td>-0.07</td><td>-0.07</td><td>-0.07</td><td>-0.05</td><td> 0.04</td><td> 0.15</td><td> 0.24</td><td> 0.21</td><td>...</td><td> 0.10</td><td> 0.01</td><td> 0.17</td><td> 0.53</td><td> 0.68</td><td> 0.66</td><td> 0.49</td><td> 0.32</td><td> 0.19</td><td> 0.05</td></tr>\n",
       "\t<tr><th scope=row>V237</th><td>-0.43</td><td>-0.04</td><td>-0.07</td><td>-0.09</td><td>-0.09</td><td>-0.06</td><td> 0.04</td><td> 0.16</td><td> 0.28</td><td> 0.25</td><td>...</td><td> 0.02</td><td>-0.11</td><td> 0.00</td><td> 0.32</td><td> 0.54</td><td> 0.70</td><td> 0.70</td><td> 0.51</td><td> 0.29</td><td> 0.10</td></tr>\n",
       "\t<tr><th scope=row>V238</th><td>-0.46</td><td>-0.04</td><td>-0.08</td><td>-0.10</td><td>-0.11</td><td>-0.07</td><td> 0.06</td><td> 0.20</td><td> 0.31</td><td> 0.26</td><td>...</td><td>-0.03</td><td>-0.18</td><td>-0.09</td><td> 0.17</td><td> 0.36</td><td> 0.53</td><td> 0.72</td><td> 0.69</td><td> 0.45</td><td> 0.17</td></tr>\n",
       "\t<tr><th scope=row>V239</th><td>-0.44</td><td>-0.04</td><td>-0.07</td><td>-0.09</td><td>-0.10</td><td>-0.06</td><td> 0.05</td><td> 0.19</td><td> 0.27</td><td> 0.22</td><td>...</td><td>-0.08</td><td>-0.22</td><td>-0.14</td><td> 0.09</td><td> 0.25</td><td> 0.34</td><td> 0.53</td><td> 0.73</td><td> 0.63</td><td> 0.35</td></tr>\n",
       "\t<tr><th scope=row>V240</th><td>-0.38</td><td>-0.03</td><td>-0.05</td><td>-0.07</td><td>-0.08</td><td>-0.05</td><td> 0.01</td><td> 0.09</td><td> 0.13</td><td> 0.08</td><td>...</td><td>-0.12</td><td>-0.22</td><td>-0.15</td><td> 0.01</td><td> 0.13</td><td> 0.19</td><td> 0.29</td><td> 0.52</td><td> 0.68</td><td> 0.51</td></tr>\n",
       "\t<tr><th scope=row>V241</th><td>-0.27</td><td>-0.02</td><td>-0.04</td><td>-0.06</td><td>-0.07</td><td>-0.07</td><td>-0.07</td><td>-0.04</td><td>-0.04</td><td>-0.06</td><td>...</td><td>-0.12</td><td>-0.18</td><td>-0.13</td><td>-0.04</td><td> 0.02</td><td> 0.05</td><td> 0.08</td><td> 0.18</td><td> 0.39</td><td> 0.49</td></tr>\n",
       "\t<tr><th scope=row>V242</th><td>-0.14</td><td> 0.07</td><td> 0.06</td><td> 0.06</td><td> 0.04</td><td> 0.03</td><td> 0.05</td><td> 0.07</td><td> 0.03</td><td> 0.01</td><td>...</td><td>-0.09</td><td>-0.11</td><td>-0.08</td><td>-0.02</td><td> 0.00</td><td> 0.00</td><td> 0.00</td><td> 0.01</td><td> 0.01</td><td> 0.02</td></tr>\n",
       "\t<tr><th scope=row>V243</th><td>-0.22</td><td> 0.05</td><td> 0.05</td><td> 0.07</td><td> 0.08</td><td> 0.09</td><td> 0.12</td><td> 0.12</td><td> 0.07</td><td> 0.00</td><td>...</td><td>-0.12</td><td>-0.17</td><td>-0.13</td><td>-0.03</td><td> 0.01</td><td> 0.01</td><td> 0.00</td><td> 0.03</td><td> 0.05</td><td> 0.06</td></tr>\n",
       "\t<tr><th scope=row>V244</th><td>-0.33</td><td> 0.01</td><td> 0.04</td><td> 0.11</td><td> 0.14</td><td> 0.18</td><td> 0.22</td><td> 0.22</td><td> 0.15</td><td> 0.03</td><td>...</td><td>-0.07</td><td>-0.22</td><td>-0.17</td><td>-0.05</td><td> 0.01</td><td> 0.02</td><td> 0.04</td><td> 0.10</td><td> 0.12</td><td> 0.08</td></tr>\n",
       "\t<tr><th scope=row>V245</th><td>-0.40</td><td> 0.02</td><td> 0.06</td><td> 0.12</td><td> 0.17</td><td> 0.23</td><td> 0.29</td><td> 0.31</td><td> 0.23</td><td> 0.05</td><td>...</td><td> 0.06</td><td>-0.19</td><td>-0.17</td><td>-0.03</td><td> 0.05</td><td> 0.05</td><td> 0.08</td><td> 0.12</td><td> 0.11</td><td> 0.07</td></tr>\n",
       "\t<tr><th scope=row>V246</th><td>-0.42</td><td> 0.03</td><td> 0.08</td><td> 0.14</td><td> 0.18</td><td> 0.26</td><td> 0.34</td><td> 0.36</td><td> 0.28</td><td> 0.07</td><td>...</td><td> 0.28</td><td>-0.11</td><td>-0.14</td><td> 0.01</td><td> 0.09</td><td> 0.10</td><td> 0.11</td><td> 0.09</td><td> 0.07</td><td> 0.04</td></tr>\n",
       "\t<tr><th scope=row>V247</th><td>-0.27</td><td> 0.08</td><td> 0.13</td><td> 0.19</td><td> 0.26</td><td> 0.32</td><td> 0.37</td><td> 0.36</td><td> 0.27</td><td> 0.08</td><td>...</td><td> 0.60</td><td> 0.02</td><td>-0.09</td><td> 0.03</td><td> 0.11</td><td> 0.11</td><td> 0.09</td><td> 0.04</td><td> 0.01</td><td> 0.01</td></tr>\n",
       "\t<tr><th scope=row>V248</th><td> 0.14</td><td> 0.12</td><td> 0.17</td><td> 0.22</td><td> 0.32</td><td> 0.40</td><td> 0.44</td><td> 0.39</td><td> 0.31</td><td> 0.21</td><td>...</td><td> 1.00</td><td> 0.51</td><td> 0.01</td><td> 0.02</td><td> 0.06</td><td> 0.02</td><td>-0.02</td><td>-0.09</td><td>-0.09</td><td>-0.05</td></tr>\n",
       "\t<tr><th scope=row>V249</th><td> 0.50</td><td> 0.02</td><td> 0.04</td><td> 0.08</td><td> 0.15</td><td> 0.22</td><td> 0.27</td><td> 0.27</td><td> 0.26</td><td> 0.30</td><td>...</td><td> 0.51</td><td> 1.00</td><td> 0.54</td><td> 0.13</td><td> 0.04</td><td>-0.05</td><td>-0.13</td><td>-0.18</td><td>-0.16</td><td>-0.10</td></tr>\n",
       "\t<tr><th scope=row>V250</th><td> 0.40</td><td>-0.04</td><td>-0.07</td><td>-0.06</td><td>-0.04</td><td>-0.03</td><td> 0.02</td><td> 0.03</td><td> 0.07</td><td> 0.16</td><td>...</td><td> 0.01</td><td> 0.54</td><td> 1.00</td><td> 0.59</td><td> 0.20</td><td> 0.06</td><td>-0.05</td><td>-0.11</td><td>-0.12</td><td>-0.09</td></tr>\n",
       "\t<tr><th scope=row>V251</th><td> 0.03</td><td>-0.02</td><td>-0.05</td><td>-0.06</td><td>-0.06</td><td>-0.06</td><td>-0.01</td><td> 0.03</td><td> 0.07</td><td> 0.09</td><td>...</td><td> 0.02</td><td> 0.13</td><td> 0.59</td><td> 1.00</td><td> 0.67</td><td> 0.41</td><td> 0.19</td><td> 0.06</td><td>-0.01</td><td>-0.05</td></tr>\n",
       "\t<tr><th scope=row>V252</th><td>-0.19</td><td>-0.01</td><td>-0.03</td><td>-0.03</td><td>-0.04</td><td>-0.04</td><td> 0.01</td><td> 0.09</td><td> 0.18</td><td> 0.16</td><td>...</td><td> 0.06</td><td> 0.04</td><td> 0.20</td><td> 0.67</td><td> 1.00</td><td> 0.79</td><td> 0.43</td><td> 0.23</td><td> 0.09</td><td>-0.01</td></tr>\n",
       "\t<tr><th scope=row>V253</th><td>-0.27</td><td>-0.02</td><td>-0.05</td><td>-0.05</td><td>-0.05</td><td>-0.05</td><td> 0.01</td><td> 0.12</td><td> 0.25</td><td> 0.24</td><td>...</td><td> 0.02</td><td>-0.05</td><td> 0.06</td><td> 0.41</td><td> 0.79</td><td> 1.00</td><td> 0.75</td><td> 0.39</td><td> 0.17</td><td> 0.02</td></tr>\n",
       "\t<tr><th scope=row>V254</th><td>-0.32</td><td>-0.04</td><td>-0.06</td><td>-0.08</td><td>-0.08</td><td>-0.07</td><td> 0.02</td><td> 0.16</td><td> 0.29</td><td> 0.29</td><td>...</td><td>-0.02</td><td>-0.13</td><td>-0.05</td><td> 0.19</td><td> 0.43</td><td> 0.75</td><td> 1.00</td><td> 0.72</td><td> 0.33</td><td> 0.08</td></tr>\n",
       "\t<tr><th scope=row>V255</th><td>-0.32</td><td>-0.04</td><td>-0.05</td><td>-0.07</td><td>-0.07</td><td>-0.04</td><td> 0.06</td><td> 0.19</td><td> 0.29</td><td> 0.24</td><td>...</td><td>-0.09</td><td>-0.18</td><td>-0.11</td><td> 0.06</td><td> 0.23</td><td> 0.39</td><td> 0.72</td><td> 1.00</td><td> 0.68</td><td> 0.22</td></tr>\n",
       "\t<tr><th scope=row>V256</th><td>-0.26</td><td>-0.03</td><td>-0.03</td><td>-0.04</td><td>-0.03</td><td> 0.01</td><td> 0.08</td><td> 0.16</td><td> 0.21</td><td> 0.16</td><td>...</td><td>-0.09</td><td>-0.16</td><td>-0.12</td><td>-0.01</td><td> 0.09</td><td> 0.17</td><td> 0.33</td><td> 0.68</td><td> 1.00</td><td> 0.64</td></tr>\n",
       "\t<tr><th scope=row>V257</th><td>-0.17</td><td>-0.02</td><td>-0.03</td><td>-0.03</td><td>-0.02</td><td> 0.00</td><td> 0.03</td><td> 0.07</td><td> 0.09</td><td> 0.06</td><td>...</td><td>-0.05</td><td>-0.10</td><td>-0.09</td><td>-0.05</td><td>-0.01</td><td> 0.02</td><td> 0.08</td><td> 0.22</td><td> 0.64</td><td> 1.00</td></tr>\n",
       "</tbody>\n",
       "</table>\n"
      ],
      "text/latex": [
       "A matrix: 257 × 257 of type dbl\n",
       "\\begin{tabular}{r|lllllllllllllllllllll}\n",
       "  & V1 & V2 & V3 & V4 & V5 & V6 & V7 & V8 & V9 & V10 & ... & V248 & V249 & V250 & V251 & V252 & V253 & V254 & V255 & V256 & V257\\\\\n",
       "\\hline\n",
       "\tV1 &  1.00 & 0.08 & 0.13 & 0.16 & 0.18 & 0.14 &  0.05 & -0.03 & -0.03 &  0.12 & ... & 0.14 & 0.50 &  0.40 &  0.03 & -0.19 & -0.27 & -0.32 & -0.32 & -0.26 & -0.17\\\\\n",
       "\tV2 &  0.08 & 1.00 & 0.71 & 0.40 & 0.22 & 0.10 &  0.05 &  0.02 &  0.01 &  0.02 & ... & 0.12 & 0.02 & -0.04 & -0.02 & -0.01 & -0.02 & -0.04 & -0.04 & -0.03 & -0.02\\\\\n",
       "\tV3 &  0.13 & 0.71 & 1.00 & 0.77 & 0.45 & 0.23 &  0.12 &  0.04 &  0.00 &  0.00 & ... & 0.17 & 0.04 & -0.07 & -0.05 & -0.03 & -0.05 & -0.06 & -0.05 & -0.03 & -0.03\\\\\n",
       "\tV4 &  0.16 & 0.40 & 0.77 & 1.00 & 0.75 & 0.43 &  0.24 &  0.12 &  0.04 &  0.02 & ... & 0.22 & 0.08 & -0.06 & -0.06 & -0.03 & -0.05 & -0.08 & -0.07 & -0.04 & -0.03\\\\\n",
       "\tV5 &  0.18 & 0.22 & 0.45 & 0.75 & 1.00 & 0.74 &  0.44 &  0.24 &  0.12 &  0.07 & ... & 0.32 & 0.15 & -0.04 & -0.06 & -0.04 & -0.05 & -0.08 & -0.07 & -0.03 & -0.02\\\\\n",
       "\tV6 &  0.14 & 0.10 & 0.23 & 0.43 & 0.74 & 1.00 &  0.77 &  0.46 &  0.25 &  0.14 & ... & 0.40 & 0.22 & -0.03 & -0.06 & -0.04 & -0.05 & -0.07 & -0.04 &  0.01 &  0.00\\\\\n",
       "\tV7 &  0.05 & 0.05 & 0.12 & 0.24 & 0.44 & 0.77 &  1.00 &  0.78 &  0.49 &  0.28 & ... & 0.44 & 0.27 &  0.02 & -0.01 &  0.01 &  0.01 &  0.02 &  0.06 &  0.08 &  0.03\\\\\n",
       "\tV8 & -0.03 & 0.02 & 0.04 & 0.12 & 0.24 & 0.46 &  0.78 &  1.00 &  0.81 &  0.53 & ... & 0.39 & 0.27 &  0.03 &  0.03 &  0.09 &  0.12 &  0.16 &  0.19 &  0.16 &  0.07\\\\\n",
       "\tV9 & -0.03 & 0.01 & 0.00 & 0.04 & 0.12 & 0.25 &  0.49 &  0.81 &  1.00 &  0.83 & ... & 0.31 & 0.26 &  0.07 &  0.07 &  0.18 &  0.25 &  0.29 &  0.29 &  0.21 &  0.09\\\\\n",
       "\tV10 &  0.12 & 0.02 & 0.00 & 0.02 & 0.07 & 0.14 &  0.28 &  0.53 &  0.83 &  1.00 & ... & 0.21 & 0.30 &  0.16 &  0.09 &  0.16 &  0.24 &  0.29 &  0.24 &  0.16 &  0.06\\\\\n",
       "\tV11 &  0.37 & 0.05 & 0.03 & 0.05 & 0.07 & 0.09 &  0.14 &  0.28 &  0.51 &  0.82 & ... & 0.14 & 0.39 &  0.31 &  0.11 &  0.06 &  0.13 &  0.14 &  0.09 &  0.02 & -0.03\\\\\n",
       "\tV12 &  0.57 & 0.06 & 0.05 & 0.07 & 0.09 & 0.07 &  0.05 &  0.11 &  0.24 &  0.50 & ... & 0.07 & 0.45 &  0.44 &  0.12 & -0.03 & -0.04 & -0.06 & -0.09 & -0.10 & -0.10\\\\\n",
       "\tV13 &  0.61 & 0.08 & 0.08 & 0.10 & 0.12 & 0.07 &  0.02 &  0.00 &  0.06 &  0.25 & ... & 0.03 & 0.43 &  0.45 &  0.13 & -0.08 & -0.12 & -0.16 & -0.16 & -0.14 & -0.11\\\\\n",
       "\tV14 &  0.52 & 0.10 & 0.12 & 0.16 & 0.13 & 0.06 & -0.01 & -0.05 & -0.03 &  0.09 & ... & 0.02 & 0.37 &  0.39 &  0.15 & -0.05 & -0.12 & -0.16 & -0.16 & -0.13 & -0.08\\\\\n",
       "\tV15 &  0.39 & 0.13 & 0.18 & 0.20 & 0.13 & 0.04 & -0.01 & -0.06 & -0.06 &  0.01 & ... & 0.03 & 0.27 &  0.29 &  0.14 & -0.03 & -0.09 & -0.12 & -0.12 & -0.10 & -0.06\\\\\n",
       "\tV16 &  0.25 & 0.17 & 0.19 & 0.15 & 0.09 & 0.02 & -0.02 & -0.05 & -0.06 & -0.02 & ... & 0.04 & 0.16 &  0.14 &  0.06 & -0.03 & -0.06 & -0.08 & -0.08 & -0.06 & -0.04\\\\\n",
       "\tV17 &  0.13 & 0.06 & 0.08 & 0.07 & 0.04 & 0.02 &  0.00 & -0.03 & -0.03 & -0.03 & ... & 0.00 & 0.07 &  0.06 &  0.00 & -0.03 & -0.04 & -0.04 & -0.04 & -0.03 & -0.02\\\\\n",
       "\tV18 &  0.11 & 0.56 & 0.49 & 0.36 & 0.23 & 0.12 &  0.05 &  0.01 & -0.01 &  0.00 & ... & 0.11 & 0.01 & -0.09 & -0.06 & -0.04 & -0.04 & -0.05 & -0.05 & -0.04 & -0.03\\\\\n",
       "\tV19 &  0.13 & 0.48 & 0.68 & 0.67 & 0.47 & 0.28 &  0.16 &  0.07 &  0.03 &  0.02 & ... & 0.17 & 0.06 & -0.10 & -0.09 & -0.06 & -0.07 & -0.09 & -0.08 & -0.05 & -0.04\\\\\n",
       "\tV20 &  0.14 & 0.30 & 0.54 & 0.72 & 0.64 & 0.44 &  0.28 &  0.15 &  0.08 &  0.06 & ... & 0.23 & 0.09 & -0.07 & -0.09 & -0.07 & -0.08 & -0.11 & -0.09 & -0.04 & -0.03\\\\\n",
       "\tV21 &  0.16 & 0.18 & 0.35 & 0.51 & 0.67 & 0.64 &  0.48 &  0.31 &  0.19 &  0.15 & ... & 0.34 & 0.21 & -0.03 & -0.08 & -0.06 & -0.06 & -0.08 & -0.05 & -0.02 & -0.01\\\\\n",
       "\tV22 &  0.15 & 0.11 & 0.21 & 0.32 & 0.48 & 0.64 &  0.65 &  0.50 &  0.35 &  0.26 & ... & 0.39 & 0.31 &  0.03 & -0.07 & -0.06 & -0.06 & -0.05 &  0.01 &  0.02 &  0.00\\\\\n",
       "\tV23 &  0.14 & 0.05 & 0.11 & 0.19 & 0.30 & 0.46 &  0.61 &  0.61 &  0.49 &  0.39 & ... & 0.39 & 0.37 &  0.09 & -0.03 & -0.01 &  0.02 &  0.05 &  0.08 &  0.09 &  0.06\\\\\n",
       "\tV24 &  0.12 & 0.02 & 0.05 & 0.12 & 0.22 & 0.33 &  0.45 &  0.57 &  0.55 &  0.48 & ... & 0.35 & 0.36 &  0.14 &  0.02 &  0.07 &  0.12 &  0.16 &  0.16 &  0.12 &  0.07\\\\\n",
       "\tV25 &  0.13 & 0.02 & 0.04 & 0.09 & 0.18 & 0.25 &  0.37 &  0.49 &  0.54 &  0.52 & ... & 0.28 & 0.35 &  0.21 &  0.09 &  0.10 &  0.16 &  0.20 &  0.19 &  0.13 &  0.08\\\\\n",
       "\tV26 &  0.21 & 0.02 & 0.03 & 0.07 & 0.15 & 0.20 &  0.31 &  0.46 &  0.57 &  0.57 & ... & 0.24 & 0.36 &  0.27 &  0.15 &  0.12 &  0.16 &  0.19 &  0.21 &  0.15 &  0.07\\\\\n",
       "\tV27 &  0.37 & 0.04 & 0.05 & 0.09 & 0.15 & 0.16 &  0.22 &  0.36 &  0.51 &  0.61 & ... & 0.20 & 0.40 &  0.33 &  0.18 &  0.11 &  0.14 &  0.16 &  0.15 &  0.12 &  0.04\\\\\n",
       "\tV28 &  0.59 & 0.07 & 0.08 & 0.12 & 0.17 & 0.15 &  0.15 &  0.18 &  0.30 &  0.51 & ... & 0.16 & 0.48 &  0.42 &  0.17 &  0.03 &  0.05 &  0.06 &  0.03 &  0.00 & -0.04\\\\\n",
       "\tV29 &  0.72 & 0.09 & 0.13 & 0.16 & 0.19 & 0.14 &  0.08 &  0.04 &  0.10 &  0.30 & ... & 0.12 & 0.50 &  0.45 &  0.16 & -0.03 & -0.08 & -0.10 & -0.11 & -0.10 & -0.10\\\\\n",
       "\tV30 &  0.67 & 0.13 & 0.19 & 0.24 & 0.23 & 0.14 &  0.04 & -0.03 & -0.02 &  0.12 & ... & 0.11 & 0.41 &  0.35 &  0.12 & -0.06 & -0.12 & -0.16 & -0.16 & -0.14 & -0.11\\\\\n",
       "\t... & ... & ... & ... & ... & ... & ... & ... & ... & ... & ... &  & ... & ... & ... & ... & ... & ... & ... & ... & ... & ...\\\\\n",
       "\tV228 & -0.55 &  0.00 &  0.01 &  0.04 &  0.06 &  0.12 &  0.17 &  0.18 &  0.11 & -0.04 & ... & -0.06 & -0.29 & -0.23 & -0.04 &  0.07 &  0.10 &  0.14 &  0.24 &  0.26 &  0.18\\\\\n",
       "\tV229 & -0.62 &  0.00 &  0.01 &  0.04 &  0.06 &  0.13 &  0.22 &  0.27 &  0.21 &  0.02 & ... &  0.07 & -0.24 & -0.21 &  0.01 &  0.13 &  0.16 &  0.20 &  0.25 &  0.24 &  0.14\\\\\n",
       "\tV230 & -0.59 &  0.01 &  0.03 &  0.07 &  0.10 &  0.17 &  0.27 &  0.33 &  0.28 &  0.07 & ... &  0.18 & -0.20 & -0.19 &  0.05 &  0.18 &  0.22 &  0.22 &  0.22 &  0.18 &  0.10\\\\\n",
       "\tV231 & -0.44 &  0.09 &  0.13 &  0.18 &  0.22 &  0.29 &  0.35 &  0.37 &  0.29 &  0.09 & ... &  0.36 & -0.14 & -0.18 &  0.04 &  0.17 &  0.20 &  0.19 &  0.15 &  0.11 &  0.06\\\\\n",
       "\tV232 &  0.02 &  0.13 &  0.21 &  0.28 &  0.36 &  0.44 &  0.47 &  0.44 &  0.35 &  0.21 & ... &  0.75 &  0.31 & -0.07 &  0.00 &  0.10 &  0.10 &  0.07 &  0.00 & -0.02 & -0.03\\\\\n",
       "\tV233 &  0.42 &  0.06 &  0.10 &  0.14 &  0.23 &  0.30 &  0.36 &  0.36 &  0.34 &  0.34 & ... &  0.62 &  0.79 &  0.40 &  0.12 &  0.06 &  0.02 & -0.04 & -0.11 & -0.12 & -0.09\\\\\n",
       "\tV234 &  0.35 & -0.04 & -0.05 & -0.03 &  0.01 &  0.04 &  0.11 &  0.15 &  0.20 &  0.27 & ... &  0.24 &  0.65 &  0.78 &  0.45 &  0.22 &  0.13 &  0.03 & -0.06 & -0.08 & -0.07\\\\\n",
       "\tV235 & -0.07 & -0.04 & -0.08 & -0.08 & -0.07 & -0.06 &  0.03 &  0.11 &  0.17 &  0.18 & ... &  0.13 &  0.22 &  0.57 &  0.73 &  0.52 &  0.40 &  0.24 &  0.12 &  0.05 &  0.00\\\\\n",
       "\tV236 & -0.34 & -0.03 & -0.07 & -0.07 & -0.07 & -0.05 &  0.04 &  0.15 &  0.24 &  0.21 & ... &  0.10 &  0.01 &  0.17 &  0.53 &  0.68 &  0.66 &  0.49 &  0.32 &  0.19 &  0.05\\\\\n",
       "\tV237 & -0.43 & -0.04 & -0.07 & -0.09 & -0.09 & -0.06 &  0.04 &  0.16 &  0.28 &  0.25 & ... &  0.02 & -0.11 &  0.00 &  0.32 &  0.54 &  0.70 &  0.70 &  0.51 &  0.29 &  0.10\\\\\n",
       "\tV238 & -0.46 & -0.04 & -0.08 & -0.10 & -0.11 & -0.07 &  0.06 &  0.20 &  0.31 &  0.26 & ... & -0.03 & -0.18 & -0.09 &  0.17 &  0.36 &  0.53 &  0.72 &  0.69 &  0.45 &  0.17\\\\\n",
       "\tV239 & -0.44 & -0.04 & -0.07 & -0.09 & -0.10 & -0.06 &  0.05 &  0.19 &  0.27 &  0.22 & ... & -0.08 & -0.22 & -0.14 &  0.09 &  0.25 &  0.34 &  0.53 &  0.73 &  0.63 &  0.35\\\\\n",
       "\tV240 & -0.38 & -0.03 & -0.05 & -0.07 & -0.08 & -0.05 &  0.01 &  0.09 &  0.13 &  0.08 & ... & -0.12 & -0.22 & -0.15 &  0.01 &  0.13 &  0.19 &  0.29 &  0.52 &  0.68 &  0.51\\\\\n",
       "\tV241 & -0.27 & -0.02 & -0.04 & -0.06 & -0.07 & -0.07 & -0.07 & -0.04 & -0.04 & -0.06 & ... & -0.12 & -0.18 & -0.13 & -0.04 &  0.02 &  0.05 &  0.08 &  0.18 &  0.39 &  0.49\\\\\n",
       "\tV242 & -0.14 &  0.07 &  0.06 &  0.06 &  0.04 &  0.03 &  0.05 &  0.07 &  0.03 &  0.01 & ... & -0.09 & -0.11 & -0.08 & -0.02 &  0.00 &  0.00 &  0.00 &  0.01 &  0.01 &  0.02\\\\\n",
       "\tV243 & -0.22 &  0.05 &  0.05 &  0.07 &  0.08 &  0.09 &  0.12 &  0.12 &  0.07 &  0.00 & ... & -0.12 & -0.17 & -0.13 & -0.03 &  0.01 &  0.01 &  0.00 &  0.03 &  0.05 &  0.06\\\\\n",
       "\tV244 & -0.33 &  0.01 &  0.04 &  0.11 &  0.14 &  0.18 &  0.22 &  0.22 &  0.15 &  0.03 & ... & -0.07 & -0.22 & -0.17 & -0.05 &  0.01 &  0.02 &  0.04 &  0.10 &  0.12 &  0.08\\\\\n",
       "\tV245 & -0.40 &  0.02 &  0.06 &  0.12 &  0.17 &  0.23 &  0.29 &  0.31 &  0.23 &  0.05 & ... &  0.06 & -0.19 & -0.17 & -0.03 &  0.05 &  0.05 &  0.08 &  0.12 &  0.11 &  0.07\\\\\n",
       "\tV246 & -0.42 &  0.03 &  0.08 &  0.14 &  0.18 &  0.26 &  0.34 &  0.36 &  0.28 &  0.07 & ... &  0.28 & -0.11 & -0.14 &  0.01 &  0.09 &  0.10 &  0.11 &  0.09 &  0.07 &  0.04\\\\\n",
       "\tV247 & -0.27 &  0.08 &  0.13 &  0.19 &  0.26 &  0.32 &  0.37 &  0.36 &  0.27 &  0.08 & ... &  0.60 &  0.02 & -0.09 &  0.03 &  0.11 &  0.11 &  0.09 &  0.04 &  0.01 &  0.01\\\\\n",
       "\tV248 &  0.14 &  0.12 &  0.17 &  0.22 &  0.32 &  0.40 &  0.44 &  0.39 &  0.31 &  0.21 & ... &  1.00 &  0.51 &  0.01 &  0.02 &  0.06 &  0.02 & -0.02 & -0.09 & -0.09 & -0.05\\\\\n",
       "\tV249 &  0.50 &  0.02 &  0.04 &  0.08 &  0.15 &  0.22 &  0.27 &  0.27 &  0.26 &  0.30 & ... &  0.51 &  1.00 &  0.54 &  0.13 &  0.04 & -0.05 & -0.13 & -0.18 & -0.16 & -0.10\\\\\n",
       "\tV250 &  0.40 & -0.04 & -0.07 & -0.06 & -0.04 & -0.03 &  0.02 &  0.03 &  0.07 &  0.16 & ... &  0.01 &  0.54 &  1.00 &  0.59 &  0.20 &  0.06 & -0.05 & -0.11 & -0.12 & -0.09\\\\\n",
       "\tV251 &  0.03 & -0.02 & -0.05 & -0.06 & -0.06 & -0.06 & -0.01 &  0.03 &  0.07 &  0.09 & ... &  0.02 &  0.13 &  0.59 &  1.00 &  0.67 &  0.41 &  0.19 &  0.06 & -0.01 & -0.05\\\\\n",
       "\tV252 & -0.19 & -0.01 & -0.03 & -0.03 & -0.04 & -0.04 &  0.01 &  0.09 &  0.18 &  0.16 & ... &  0.06 &  0.04 &  0.20 &  0.67 &  1.00 &  0.79 &  0.43 &  0.23 &  0.09 & -0.01\\\\\n",
       "\tV253 & -0.27 & -0.02 & -0.05 & -0.05 & -0.05 & -0.05 &  0.01 &  0.12 &  0.25 &  0.24 & ... &  0.02 & -0.05 &  0.06 &  0.41 &  0.79 &  1.00 &  0.75 &  0.39 &  0.17 &  0.02\\\\\n",
       "\tV254 & -0.32 & -0.04 & -0.06 & -0.08 & -0.08 & -0.07 &  0.02 &  0.16 &  0.29 &  0.29 & ... & -0.02 & -0.13 & -0.05 &  0.19 &  0.43 &  0.75 &  1.00 &  0.72 &  0.33 &  0.08\\\\\n",
       "\tV255 & -0.32 & -0.04 & -0.05 & -0.07 & -0.07 & -0.04 &  0.06 &  0.19 &  0.29 &  0.24 & ... & -0.09 & -0.18 & -0.11 &  0.06 &  0.23 &  0.39 &  0.72 &  1.00 &  0.68 &  0.22\\\\\n",
       "\tV256 & -0.26 & -0.03 & -0.03 & -0.04 & -0.03 &  0.01 &  0.08 &  0.16 &  0.21 &  0.16 & ... & -0.09 & -0.16 & -0.12 & -0.01 &  0.09 &  0.17 &  0.33 &  0.68 &  1.00 &  0.64\\\\\n",
       "\tV257 & -0.17 & -0.02 & -0.03 & -0.03 & -0.02 &  0.00 &  0.03 &  0.07 &  0.09 &  0.06 & ... & -0.05 & -0.10 & -0.09 & -0.05 & -0.01 &  0.02 &  0.08 &  0.22 &  0.64 &  1.00\\\\\n",
       "\\end{tabular}\n"
      ],
      "text/markdown": [
       "\n",
       "A matrix: 257 × 257 of type dbl\n",
       "\n",
       "| <!--/--> | V1 | V2 | V3 | V4 | V5 | V6 | V7 | V8 | V9 | V10 | ... | V248 | V249 | V250 | V251 | V252 | V253 | V254 | V255 | V256 | V257 |\n",
       "|---|---|---|---|---|---|---|---|---|---|---|---|---|---|---|---|---|---|---|---|---|---|\n",
       "| V1 |  1.00 | 0.08 | 0.13 | 0.16 | 0.18 | 0.14 |  0.05 | -0.03 | -0.03 |  0.12 | ... | 0.14 | 0.50 |  0.40 |  0.03 | -0.19 | -0.27 | -0.32 | -0.32 | -0.26 | -0.17 |\n",
       "| V2 |  0.08 | 1.00 | 0.71 | 0.40 | 0.22 | 0.10 |  0.05 |  0.02 |  0.01 |  0.02 | ... | 0.12 | 0.02 | -0.04 | -0.02 | -0.01 | -0.02 | -0.04 | -0.04 | -0.03 | -0.02 |\n",
       "| V3 |  0.13 | 0.71 | 1.00 | 0.77 | 0.45 | 0.23 |  0.12 |  0.04 |  0.00 |  0.00 | ... | 0.17 | 0.04 | -0.07 | -0.05 | -0.03 | -0.05 | -0.06 | -0.05 | -0.03 | -0.03 |\n",
       "| V4 |  0.16 | 0.40 | 0.77 | 1.00 | 0.75 | 0.43 |  0.24 |  0.12 |  0.04 |  0.02 | ... | 0.22 | 0.08 | -0.06 | -0.06 | -0.03 | -0.05 | -0.08 | -0.07 | -0.04 | -0.03 |\n",
       "| V5 |  0.18 | 0.22 | 0.45 | 0.75 | 1.00 | 0.74 |  0.44 |  0.24 |  0.12 |  0.07 | ... | 0.32 | 0.15 | -0.04 | -0.06 | -0.04 | -0.05 | -0.08 | -0.07 | -0.03 | -0.02 |\n",
       "| V6 |  0.14 | 0.10 | 0.23 | 0.43 | 0.74 | 1.00 |  0.77 |  0.46 |  0.25 |  0.14 | ... | 0.40 | 0.22 | -0.03 | -0.06 | -0.04 | -0.05 | -0.07 | -0.04 |  0.01 |  0.00 |\n",
       "| V7 |  0.05 | 0.05 | 0.12 | 0.24 | 0.44 | 0.77 |  1.00 |  0.78 |  0.49 |  0.28 | ... | 0.44 | 0.27 |  0.02 | -0.01 |  0.01 |  0.01 |  0.02 |  0.06 |  0.08 |  0.03 |\n",
       "| V8 | -0.03 | 0.02 | 0.04 | 0.12 | 0.24 | 0.46 |  0.78 |  1.00 |  0.81 |  0.53 | ... | 0.39 | 0.27 |  0.03 |  0.03 |  0.09 |  0.12 |  0.16 |  0.19 |  0.16 |  0.07 |\n",
       "| V9 | -0.03 | 0.01 | 0.00 | 0.04 | 0.12 | 0.25 |  0.49 |  0.81 |  1.00 |  0.83 | ... | 0.31 | 0.26 |  0.07 |  0.07 |  0.18 |  0.25 |  0.29 |  0.29 |  0.21 |  0.09 |\n",
       "| V10 |  0.12 | 0.02 | 0.00 | 0.02 | 0.07 | 0.14 |  0.28 |  0.53 |  0.83 |  1.00 | ... | 0.21 | 0.30 |  0.16 |  0.09 |  0.16 |  0.24 |  0.29 |  0.24 |  0.16 |  0.06 |\n",
       "| V11 |  0.37 | 0.05 | 0.03 | 0.05 | 0.07 | 0.09 |  0.14 |  0.28 |  0.51 |  0.82 | ... | 0.14 | 0.39 |  0.31 |  0.11 |  0.06 |  0.13 |  0.14 |  0.09 |  0.02 | -0.03 |\n",
       "| V12 |  0.57 | 0.06 | 0.05 | 0.07 | 0.09 | 0.07 |  0.05 |  0.11 |  0.24 |  0.50 | ... | 0.07 | 0.45 |  0.44 |  0.12 | -0.03 | -0.04 | -0.06 | -0.09 | -0.10 | -0.10 |\n",
       "| V13 |  0.61 | 0.08 | 0.08 | 0.10 | 0.12 | 0.07 |  0.02 |  0.00 |  0.06 |  0.25 | ... | 0.03 | 0.43 |  0.45 |  0.13 | -0.08 | -0.12 | -0.16 | -0.16 | -0.14 | -0.11 |\n",
       "| V14 |  0.52 | 0.10 | 0.12 | 0.16 | 0.13 | 0.06 | -0.01 | -0.05 | -0.03 |  0.09 | ... | 0.02 | 0.37 |  0.39 |  0.15 | -0.05 | -0.12 | -0.16 | -0.16 | -0.13 | -0.08 |\n",
       "| V15 |  0.39 | 0.13 | 0.18 | 0.20 | 0.13 | 0.04 | -0.01 | -0.06 | -0.06 |  0.01 | ... | 0.03 | 0.27 |  0.29 |  0.14 | -0.03 | -0.09 | -0.12 | -0.12 | -0.10 | -0.06 |\n",
       "| V16 |  0.25 | 0.17 | 0.19 | 0.15 | 0.09 | 0.02 | -0.02 | -0.05 | -0.06 | -0.02 | ... | 0.04 | 0.16 |  0.14 |  0.06 | -0.03 | -0.06 | -0.08 | -0.08 | -0.06 | -0.04 |\n",
       "| V17 |  0.13 | 0.06 | 0.08 | 0.07 | 0.04 | 0.02 |  0.00 | -0.03 | -0.03 | -0.03 | ... | 0.00 | 0.07 |  0.06 |  0.00 | -0.03 | -0.04 | -0.04 | -0.04 | -0.03 | -0.02 |\n",
       "| V18 |  0.11 | 0.56 | 0.49 | 0.36 | 0.23 | 0.12 |  0.05 |  0.01 | -0.01 |  0.00 | ... | 0.11 | 0.01 | -0.09 | -0.06 | -0.04 | -0.04 | -0.05 | -0.05 | -0.04 | -0.03 |\n",
       "| V19 |  0.13 | 0.48 | 0.68 | 0.67 | 0.47 | 0.28 |  0.16 |  0.07 |  0.03 |  0.02 | ... | 0.17 | 0.06 | -0.10 | -0.09 | -0.06 | -0.07 | -0.09 | -0.08 | -0.05 | -0.04 |\n",
       "| V20 |  0.14 | 0.30 | 0.54 | 0.72 | 0.64 | 0.44 |  0.28 |  0.15 |  0.08 |  0.06 | ... | 0.23 | 0.09 | -0.07 | -0.09 | -0.07 | -0.08 | -0.11 | -0.09 | -0.04 | -0.03 |\n",
       "| V21 |  0.16 | 0.18 | 0.35 | 0.51 | 0.67 | 0.64 |  0.48 |  0.31 |  0.19 |  0.15 | ... | 0.34 | 0.21 | -0.03 | -0.08 | -0.06 | -0.06 | -0.08 | -0.05 | -0.02 | -0.01 |\n",
       "| V22 |  0.15 | 0.11 | 0.21 | 0.32 | 0.48 | 0.64 |  0.65 |  0.50 |  0.35 |  0.26 | ... | 0.39 | 0.31 |  0.03 | -0.07 | -0.06 | -0.06 | -0.05 |  0.01 |  0.02 |  0.00 |\n",
       "| V23 |  0.14 | 0.05 | 0.11 | 0.19 | 0.30 | 0.46 |  0.61 |  0.61 |  0.49 |  0.39 | ... | 0.39 | 0.37 |  0.09 | -0.03 | -0.01 |  0.02 |  0.05 |  0.08 |  0.09 |  0.06 |\n",
       "| V24 |  0.12 | 0.02 | 0.05 | 0.12 | 0.22 | 0.33 |  0.45 |  0.57 |  0.55 |  0.48 | ... | 0.35 | 0.36 |  0.14 |  0.02 |  0.07 |  0.12 |  0.16 |  0.16 |  0.12 |  0.07 |\n",
       "| V25 |  0.13 | 0.02 | 0.04 | 0.09 | 0.18 | 0.25 |  0.37 |  0.49 |  0.54 |  0.52 | ... | 0.28 | 0.35 |  0.21 |  0.09 |  0.10 |  0.16 |  0.20 |  0.19 |  0.13 |  0.08 |\n",
       "| V26 |  0.21 | 0.02 | 0.03 | 0.07 | 0.15 | 0.20 |  0.31 |  0.46 |  0.57 |  0.57 | ... | 0.24 | 0.36 |  0.27 |  0.15 |  0.12 |  0.16 |  0.19 |  0.21 |  0.15 |  0.07 |\n",
       "| V27 |  0.37 | 0.04 | 0.05 | 0.09 | 0.15 | 0.16 |  0.22 |  0.36 |  0.51 |  0.61 | ... | 0.20 | 0.40 |  0.33 |  0.18 |  0.11 |  0.14 |  0.16 |  0.15 |  0.12 |  0.04 |\n",
       "| V28 |  0.59 | 0.07 | 0.08 | 0.12 | 0.17 | 0.15 |  0.15 |  0.18 |  0.30 |  0.51 | ... | 0.16 | 0.48 |  0.42 |  0.17 |  0.03 |  0.05 |  0.06 |  0.03 |  0.00 | -0.04 |\n",
       "| V29 |  0.72 | 0.09 | 0.13 | 0.16 | 0.19 | 0.14 |  0.08 |  0.04 |  0.10 |  0.30 | ... | 0.12 | 0.50 |  0.45 |  0.16 | -0.03 | -0.08 | -0.10 | -0.11 | -0.10 | -0.10 |\n",
       "| V30 |  0.67 | 0.13 | 0.19 | 0.24 | 0.23 | 0.14 |  0.04 | -0.03 | -0.02 |  0.12 | ... | 0.11 | 0.41 |  0.35 |  0.12 | -0.06 | -0.12 | -0.16 | -0.16 | -0.14 | -0.11 |\n",
       "| ... | ... | ... | ... | ... | ... | ... | ... | ... | ... | ... | <!----> | ... | ... | ... | ... | ... | ... | ... | ... | ... | ... |\n",
       "| V228 | -0.55 |  0.00 |  0.01 |  0.04 |  0.06 |  0.12 |  0.17 |  0.18 |  0.11 | -0.04 | ... | -0.06 | -0.29 | -0.23 | -0.04 |  0.07 |  0.10 |  0.14 |  0.24 |  0.26 |  0.18 |\n",
       "| V229 | -0.62 |  0.00 |  0.01 |  0.04 |  0.06 |  0.13 |  0.22 |  0.27 |  0.21 |  0.02 | ... |  0.07 | -0.24 | -0.21 |  0.01 |  0.13 |  0.16 |  0.20 |  0.25 |  0.24 |  0.14 |\n",
       "| V230 | -0.59 |  0.01 |  0.03 |  0.07 |  0.10 |  0.17 |  0.27 |  0.33 |  0.28 |  0.07 | ... |  0.18 | -0.20 | -0.19 |  0.05 |  0.18 |  0.22 |  0.22 |  0.22 |  0.18 |  0.10 |\n",
       "| V231 | -0.44 |  0.09 |  0.13 |  0.18 |  0.22 |  0.29 |  0.35 |  0.37 |  0.29 |  0.09 | ... |  0.36 | -0.14 | -0.18 |  0.04 |  0.17 |  0.20 |  0.19 |  0.15 |  0.11 |  0.06 |\n",
       "| V232 |  0.02 |  0.13 |  0.21 |  0.28 |  0.36 |  0.44 |  0.47 |  0.44 |  0.35 |  0.21 | ... |  0.75 |  0.31 | -0.07 |  0.00 |  0.10 |  0.10 |  0.07 |  0.00 | -0.02 | -0.03 |\n",
       "| V233 |  0.42 |  0.06 |  0.10 |  0.14 |  0.23 |  0.30 |  0.36 |  0.36 |  0.34 |  0.34 | ... |  0.62 |  0.79 |  0.40 |  0.12 |  0.06 |  0.02 | -0.04 | -0.11 | -0.12 | -0.09 |\n",
       "| V234 |  0.35 | -0.04 | -0.05 | -0.03 |  0.01 |  0.04 |  0.11 |  0.15 |  0.20 |  0.27 | ... |  0.24 |  0.65 |  0.78 |  0.45 |  0.22 |  0.13 |  0.03 | -0.06 | -0.08 | -0.07 |\n",
       "| V235 | -0.07 | -0.04 | -0.08 | -0.08 | -0.07 | -0.06 |  0.03 |  0.11 |  0.17 |  0.18 | ... |  0.13 |  0.22 |  0.57 |  0.73 |  0.52 |  0.40 |  0.24 |  0.12 |  0.05 |  0.00 |\n",
       "| V236 | -0.34 | -0.03 | -0.07 | -0.07 | -0.07 | -0.05 |  0.04 |  0.15 |  0.24 |  0.21 | ... |  0.10 |  0.01 |  0.17 |  0.53 |  0.68 |  0.66 |  0.49 |  0.32 |  0.19 |  0.05 |\n",
       "| V237 | -0.43 | -0.04 | -0.07 | -0.09 | -0.09 | -0.06 |  0.04 |  0.16 |  0.28 |  0.25 | ... |  0.02 | -0.11 |  0.00 |  0.32 |  0.54 |  0.70 |  0.70 |  0.51 |  0.29 |  0.10 |\n",
       "| V238 | -0.46 | -0.04 | -0.08 | -0.10 | -0.11 | -0.07 |  0.06 |  0.20 |  0.31 |  0.26 | ... | -0.03 | -0.18 | -0.09 |  0.17 |  0.36 |  0.53 |  0.72 |  0.69 |  0.45 |  0.17 |\n",
       "| V239 | -0.44 | -0.04 | -0.07 | -0.09 | -0.10 | -0.06 |  0.05 |  0.19 |  0.27 |  0.22 | ... | -0.08 | -0.22 | -0.14 |  0.09 |  0.25 |  0.34 |  0.53 |  0.73 |  0.63 |  0.35 |\n",
       "| V240 | -0.38 | -0.03 | -0.05 | -0.07 | -0.08 | -0.05 |  0.01 |  0.09 |  0.13 |  0.08 | ... | -0.12 | -0.22 | -0.15 |  0.01 |  0.13 |  0.19 |  0.29 |  0.52 |  0.68 |  0.51 |\n",
       "| V241 | -0.27 | -0.02 | -0.04 | -0.06 | -0.07 | -0.07 | -0.07 | -0.04 | -0.04 | -0.06 | ... | -0.12 | -0.18 | -0.13 | -0.04 |  0.02 |  0.05 |  0.08 |  0.18 |  0.39 |  0.49 |\n",
       "| V242 | -0.14 |  0.07 |  0.06 |  0.06 |  0.04 |  0.03 |  0.05 |  0.07 |  0.03 |  0.01 | ... | -0.09 | -0.11 | -0.08 | -0.02 |  0.00 |  0.00 |  0.00 |  0.01 |  0.01 |  0.02 |\n",
       "| V243 | -0.22 |  0.05 |  0.05 |  0.07 |  0.08 |  0.09 |  0.12 |  0.12 |  0.07 |  0.00 | ... | -0.12 | -0.17 | -0.13 | -0.03 |  0.01 |  0.01 |  0.00 |  0.03 |  0.05 |  0.06 |\n",
       "| V244 | -0.33 |  0.01 |  0.04 |  0.11 |  0.14 |  0.18 |  0.22 |  0.22 |  0.15 |  0.03 | ... | -0.07 | -0.22 | -0.17 | -0.05 |  0.01 |  0.02 |  0.04 |  0.10 |  0.12 |  0.08 |\n",
       "| V245 | -0.40 |  0.02 |  0.06 |  0.12 |  0.17 |  0.23 |  0.29 |  0.31 |  0.23 |  0.05 | ... |  0.06 | -0.19 | -0.17 | -0.03 |  0.05 |  0.05 |  0.08 |  0.12 |  0.11 |  0.07 |\n",
       "| V246 | -0.42 |  0.03 |  0.08 |  0.14 |  0.18 |  0.26 |  0.34 |  0.36 |  0.28 |  0.07 | ... |  0.28 | -0.11 | -0.14 |  0.01 |  0.09 |  0.10 |  0.11 |  0.09 |  0.07 |  0.04 |\n",
       "| V247 | -0.27 |  0.08 |  0.13 |  0.19 |  0.26 |  0.32 |  0.37 |  0.36 |  0.27 |  0.08 | ... |  0.60 |  0.02 | -0.09 |  0.03 |  0.11 |  0.11 |  0.09 |  0.04 |  0.01 |  0.01 |\n",
       "| V248 |  0.14 |  0.12 |  0.17 |  0.22 |  0.32 |  0.40 |  0.44 |  0.39 |  0.31 |  0.21 | ... |  1.00 |  0.51 |  0.01 |  0.02 |  0.06 |  0.02 | -0.02 | -0.09 | -0.09 | -0.05 |\n",
       "| V249 |  0.50 |  0.02 |  0.04 |  0.08 |  0.15 |  0.22 |  0.27 |  0.27 |  0.26 |  0.30 | ... |  0.51 |  1.00 |  0.54 |  0.13 |  0.04 | -0.05 | -0.13 | -0.18 | -0.16 | -0.10 |\n",
       "| V250 |  0.40 | -0.04 | -0.07 | -0.06 | -0.04 | -0.03 |  0.02 |  0.03 |  0.07 |  0.16 | ... |  0.01 |  0.54 |  1.00 |  0.59 |  0.20 |  0.06 | -0.05 | -0.11 | -0.12 | -0.09 |\n",
       "| V251 |  0.03 | -0.02 | -0.05 | -0.06 | -0.06 | -0.06 | -0.01 |  0.03 |  0.07 |  0.09 | ... |  0.02 |  0.13 |  0.59 |  1.00 |  0.67 |  0.41 |  0.19 |  0.06 | -0.01 | -0.05 |\n",
       "| V252 | -0.19 | -0.01 | -0.03 | -0.03 | -0.04 | -0.04 |  0.01 |  0.09 |  0.18 |  0.16 | ... |  0.06 |  0.04 |  0.20 |  0.67 |  1.00 |  0.79 |  0.43 |  0.23 |  0.09 | -0.01 |\n",
       "| V253 | -0.27 | -0.02 | -0.05 | -0.05 | -0.05 | -0.05 |  0.01 |  0.12 |  0.25 |  0.24 | ... |  0.02 | -0.05 |  0.06 |  0.41 |  0.79 |  1.00 |  0.75 |  0.39 |  0.17 |  0.02 |\n",
       "| V254 | -0.32 | -0.04 | -0.06 | -0.08 | -0.08 | -0.07 |  0.02 |  0.16 |  0.29 |  0.29 | ... | -0.02 | -0.13 | -0.05 |  0.19 |  0.43 |  0.75 |  1.00 |  0.72 |  0.33 |  0.08 |\n",
       "| V255 | -0.32 | -0.04 | -0.05 | -0.07 | -0.07 | -0.04 |  0.06 |  0.19 |  0.29 |  0.24 | ... | -0.09 | -0.18 | -0.11 |  0.06 |  0.23 |  0.39 |  0.72 |  1.00 |  0.68 |  0.22 |\n",
       "| V256 | -0.26 | -0.03 | -0.03 | -0.04 | -0.03 |  0.01 |  0.08 |  0.16 |  0.21 |  0.16 | ... | -0.09 | -0.16 | -0.12 | -0.01 |  0.09 |  0.17 |  0.33 |  0.68 |  1.00 |  0.64 |\n",
       "| V257 | -0.17 | -0.02 | -0.03 | -0.03 | -0.02 |  0.00 |  0.03 |  0.07 |  0.09 |  0.06 | ... | -0.05 | -0.10 | -0.09 | -0.05 | -0.01 |  0.02 |  0.08 |  0.22 |  0.64 |  1.00 |\n",
       "\n"
      ],
      "text/plain": [
       "     V1    V2    V3    V4    V5    V6    V7    V8    V9    V10   ... V248 \n",
       "V1    1.00 0.08  0.13  0.16  0.18  0.14   0.05 -0.03 -0.03  0.12 ... 0.14 \n",
       "V2    0.08 1.00  0.71  0.40  0.22  0.10   0.05  0.02  0.01  0.02 ... 0.12 \n",
       "V3    0.13 0.71  1.00  0.77  0.45  0.23   0.12  0.04  0.00  0.00 ... 0.17 \n",
       "V4    0.16 0.40  0.77  1.00  0.75  0.43   0.24  0.12  0.04  0.02 ... 0.22 \n",
       "V5    0.18 0.22  0.45  0.75  1.00  0.74   0.44  0.24  0.12  0.07 ... 0.32 \n",
       "V6    0.14 0.10  0.23  0.43  0.74  1.00   0.77  0.46  0.25  0.14 ... 0.40 \n",
       "V7    0.05 0.05  0.12  0.24  0.44  0.77   1.00  0.78  0.49  0.28 ... 0.44 \n",
       "V8   -0.03 0.02  0.04  0.12  0.24  0.46   0.78  1.00  0.81  0.53 ... 0.39 \n",
       "V9   -0.03 0.01  0.00  0.04  0.12  0.25   0.49  0.81  1.00  0.83 ... 0.31 \n",
       "V10   0.12 0.02  0.00  0.02  0.07  0.14   0.28  0.53  0.83  1.00 ... 0.21 \n",
       "V11   0.37 0.05  0.03  0.05  0.07  0.09   0.14  0.28  0.51  0.82 ... 0.14 \n",
       "V12   0.57 0.06  0.05  0.07  0.09  0.07   0.05  0.11  0.24  0.50 ... 0.07 \n",
       "V13   0.61 0.08  0.08  0.10  0.12  0.07   0.02  0.00  0.06  0.25 ... 0.03 \n",
       "V14   0.52 0.10  0.12  0.16  0.13  0.06  -0.01 -0.05 -0.03  0.09 ... 0.02 \n",
       "V15   0.39 0.13  0.18  0.20  0.13  0.04  -0.01 -0.06 -0.06  0.01 ... 0.03 \n",
       "V16   0.25 0.17  0.19  0.15  0.09  0.02  -0.02 -0.05 -0.06 -0.02 ... 0.04 \n",
       "V17   0.13 0.06  0.08  0.07  0.04  0.02   0.00 -0.03 -0.03 -0.03 ... 0.00 \n",
       "V18   0.11 0.56  0.49  0.36  0.23  0.12   0.05  0.01 -0.01  0.00 ... 0.11 \n",
       "V19   0.13 0.48  0.68  0.67  0.47  0.28   0.16  0.07  0.03  0.02 ... 0.17 \n",
       "V20   0.14 0.30  0.54  0.72  0.64  0.44   0.28  0.15  0.08  0.06 ... 0.23 \n",
       "V21   0.16 0.18  0.35  0.51  0.67  0.64   0.48  0.31  0.19  0.15 ... 0.34 \n",
       "V22   0.15 0.11  0.21  0.32  0.48  0.64   0.65  0.50  0.35  0.26 ... 0.39 \n",
       "V23   0.14 0.05  0.11  0.19  0.30  0.46   0.61  0.61  0.49  0.39 ... 0.39 \n",
       "V24   0.12 0.02  0.05  0.12  0.22  0.33   0.45  0.57  0.55  0.48 ... 0.35 \n",
       "V25   0.13 0.02  0.04  0.09  0.18  0.25   0.37  0.49  0.54  0.52 ... 0.28 \n",
       "V26   0.21 0.02  0.03  0.07  0.15  0.20   0.31  0.46  0.57  0.57 ... 0.24 \n",
       "V27   0.37 0.04  0.05  0.09  0.15  0.16   0.22  0.36  0.51  0.61 ... 0.20 \n",
       "V28   0.59 0.07  0.08  0.12  0.17  0.15   0.15  0.18  0.30  0.51 ... 0.16 \n",
       "V29   0.72 0.09  0.13  0.16  0.19  0.14   0.08  0.04  0.10  0.30 ... 0.12 \n",
       "V30   0.67 0.13  0.19  0.24  0.23  0.14   0.04 -0.03 -0.02  0.12 ... 0.11 \n",
       "...  ...   ...   ...   ...   ...   ...   ...   ...   ...   ...       ...  \n",
       "V228 -0.55  0.00  0.01  0.04  0.06  0.12  0.17  0.18  0.11 -0.04 ... -0.06\n",
       "V229 -0.62  0.00  0.01  0.04  0.06  0.13  0.22  0.27  0.21  0.02 ...  0.07\n",
       "V230 -0.59  0.01  0.03  0.07  0.10  0.17  0.27  0.33  0.28  0.07 ...  0.18\n",
       "V231 -0.44  0.09  0.13  0.18  0.22  0.29  0.35  0.37  0.29  0.09 ...  0.36\n",
       "V232  0.02  0.13  0.21  0.28  0.36  0.44  0.47  0.44  0.35  0.21 ...  0.75\n",
       "V233  0.42  0.06  0.10  0.14  0.23  0.30  0.36  0.36  0.34  0.34 ...  0.62\n",
       "V234  0.35 -0.04 -0.05 -0.03  0.01  0.04  0.11  0.15  0.20  0.27 ...  0.24\n",
       "V235 -0.07 -0.04 -0.08 -0.08 -0.07 -0.06  0.03  0.11  0.17  0.18 ...  0.13\n",
       "V236 -0.34 -0.03 -0.07 -0.07 -0.07 -0.05  0.04  0.15  0.24  0.21 ...  0.10\n",
       "V237 -0.43 -0.04 -0.07 -0.09 -0.09 -0.06  0.04  0.16  0.28  0.25 ...  0.02\n",
       "V238 -0.46 -0.04 -0.08 -0.10 -0.11 -0.07  0.06  0.20  0.31  0.26 ... -0.03\n",
       "V239 -0.44 -0.04 -0.07 -0.09 -0.10 -0.06  0.05  0.19  0.27  0.22 ... -0.08\n",
       "V240 -0.38 -0.03 -0.05 -0.07 -0.08 -0.05  0.01  0.09  0.13  0.08 ... -0.12\n",
       "V241 -0.27 -0.02 -0.04 -0.06 -0.07 -0.07 -0.07 -0.04 -0.04 -0.06 ... -0.12\n",
       "V242 -0.14  0.07  0.06  0.06  0.04  0.03  0.05  0.07  0.03  0.01 ... -0.09\n",
       "V243 -0.22  0.05  0.05  0.07  0.08  0.09  0.12  0.12  0.07  0.00 ... -0.12\n",
       "V244 -0.33  0.01  0.04  0.11  0.14  0.18  0.22  0.22  0.15  0.03 ... -0.07\n",
       "V245 -0.40  0.02  0.06  0.12  0.17  0.23  0.29  0.31  0.23  0.05 ...  0.06\n",
       "V246 -0.42  0.03  0.08  0.14  0.18  0.26  0.34  0.36  0.28  0.07 ...  0.28\n",
       "V247 -0.27  0.08  0.13  0.19  0.26  0.32  0.37  0.36  0.27  0.08 ...  0.60\n",
       "V248  0.14  0.12  0.17  0.22  0.32  0.40  0.44  0.39  0.31  0.21 ...  1.00\n",
       "V249  0.50  0.02  0.04  0.08  0.15  0.22  0.27  0.27  0.26  0.30 ...  0.51\n",
       "V250  0.40 -0.04 -0.07 -0.06 -0.04 -0.03  0.02  0.03  0.07  0.16 ...  0.01\n",
       "V251  0.03 -0.02 -0.05 -0.06 -0.06 -0.06 -0.01  0.03  0.07  0.09 ...  0.02\n",
       "V252 -0.19 -0.01 -0.03 -0.03 -0.04 -0.04  0.01  0.09  0.18  0.16 ...  0.06\n",
       "V253 -0.27 -0.02 -0.05 -0.05 -0.05 -0.05  0.01  0.12  0.25  0.24 ...  0.02\n",
       "V254 -0.32 -0.04 -0.06 -0.08 -0.08 -0.07  0.02  0.16  0.29  0.29 ... -0.02\n",
       "V255 -0.32 -0.04 -0.05 -0.07 -0.07 -0.04  0.06  0.19  0.29  0.24 ... -0.09\n",
       "V256 -0.26 -0.03 -0.03 -0.04 -0.03  0.01  0.08  0.16  0.21  0.16 ... -0.09\n",
       "V257 -0.17 -0.02 -0.03 -0.03 -0.02  0.00  0.03  0.07  0.09  0.06 ... -0.05\n",
       "     V249  V250  V251  V252  V253  V254  V255  V256  V257 \n",
       "V1   0.50   0.40  0.03 -0.19 -0.27 -0.32 -0.32 -0.26 -0.17\n",
       "V2   0.02  -0.04 -0.02 -0.01 -0.02 -0.04 -0.04 -0.03 -0.02\n",
       "V3   0.04  -0.07 -0.05 -0.03 -0.05 -0.06 -0.05 -0.03 -0.03\n",
       "V4   0.08  -0.06 -0.06 -0.03 -0.05 -0.08 -0.07 -0.04 -0.03\n",
       "V5   0.15  -0.04 -0.06 -0.04 -0.05 -0.08 -0.07 -0.03 -0.02\n",
       "V6   0.22  -0.03 -0.06 -0.04 -0.05 -0.07 -0.04  0.01  0.00\n",
       "V7   0.27   0.02 -0.01  0.01  0.01  0.02  0.06  0.08  0.03\n",
       "V8   0.27   0.03  0.03  0.09  0.12  0.16  0.19  0.16  0.07\n",
       "V9   0.26   0.07  0.07  0.18  0.25  0.29  0.29  0.21  0.09\n",
       "V10  0.30   0.16  0.09  0.16  0.24  0.29  0.24  0.16  0.06\n",
       "V11  0.39   0.31  0.11  0.06  0.13  0.14  0.09  0.02 -0.03\n",
       "V12  0.45   0.44  0.12 -0.03 -0.04 -0.06 -0.09 -0.10 -0.10\n",
       "V13  0.43   0.45  0.13 -0.08 -0.12 -0.16 -0.16 -0.14 -0.11\n",
       "V14  0.37   0.39  0.15 -0.05 -0.12 -0.16 -0.16 -0.13 -0.08\n",
       "V15  0.27   0.29  0.14 -0.03 -0.09 -0.12 -0.12 -0.10 -0.06\n",
       "V16  0.16   0.14  0.06 -0.03 -0.06 -0.08 -0.08 -0.06 -0.04\n",
       "V17  0.07   0.06  0.00 -0.03 -0.04 -0.04 -0.04 -0.03 -0.02\n",
       "V18  0.01  -0.09 -0.06 -0.04 -0.04 -0.05 -0.05 -0.04 -0.03\n",
       "V19  0.06  -0.10 -0.09 -0.06 -0.07 -0.09 -0.08 -0.05 -0.04\n",
       "V20  0.09  -0.07 -0.09 -0.07 -0.08 -0.11 -0.09 -0.04 -0.03\n",
       "V21  0.21  -0.03 -0.08 -0.06 -0.06 -0.08 -0.05 -0.02 -0.01\n",
       "V22  0.31   0.03 -0.07 -0.06 -0.06 -0.05  0.01  0.02  0.00\n",
       "V23  0.37   0.09 -0.03 -0.01  0.02  0.05  0.08  0.09  0.06\n",
       "V24  0.36   0.14  0.02  0.07  0.12  0.16  0.16  0.12  0.07\n",
       "V25  0.35   0.21  0.09  0.10  0.16  0.20  0.19  0.13  0.08\n",
       "V26  0.36   0.27  0.15  0.12  0.16  0.19  0.21  0.15  0.07\n",
       "V27  0.40   0.33  0.18  0.11  0.14  0.16  0.15  0.12  0.04\n",
       "V28  0.48   0.42  0.17  0.03  0.05  0.06  0.03  0.00 -0.04\n",
       "V29  0.50   0.45  0.16 -0.03 -0.08 -0.10 -0.11 -0.10 -0.10\n",
       "V30  0.41   0.35  0.12 -0.06 -0.12 -0.16 -0.16 -0.14 -0.11\n",
       "...  ...   ...   ...   ...   ...   ...   ...   ...   ...  \n",
       "V228 -0.29 -0.23 -0.04  0.07  0.10  0.14  0.24  0.26  0.18\n",
       "V229 -0.24 -0.21  0.01  0.13  0.16  0.20  0.25  0.24  0.14\n",
       "V230 -0.20 -0.19  0.05  0.18  0.22  0.22  0.22  0.18  0.10\n",
       "V231 -0.14 -0.18  0.04  0.17  0.20  0.19  0.15  0.11  0.06\n",
       "V232  0.31 -0.07  0.00  0.10  0.10  0.07  0.00 -0.02 -0.03\n",
       "V233  0.79  0.40  0.12  0.06  0.02 -0.04 -0.11 -0.12 -0.09\n",
       "V234  0.65  0.78  0.45  0.22  0.13  0.03 -0.06 -0.08 -0.07\n",
       "V235  0.22  0.57  0.73  0.52  0.40  0.24  0.12  0.05  0.00\n",
       "V236  0.01  0.17  0.53  0.68  0.66  0.49  0.32  0.19  0.05\n",
       "V237 -0.11  0.00  0.32  0.54  0.70  0.70  0.51  0.29  0.10\n",
       "V238 -0.18 -0.09  0.17  0.36  0.53  0.72  0.69  0.45  0.17\n",
       "V239 -0.22 -0.14  0.09  0.25  0.34  0.53  0.73  0.63  0.35\n",
       "V240 -0.22 -0.15  0.01  0.13  0.19  0.29  0.52  0.68  0.51\n",
       "V241 -0.18 -0.13 -0.04  0.02  0.05  0.08  0.18  0.39  0.49\n",
       "V242 -0.11 -0.08 -0.02  0.00  0.00  0.00  0.01  0.01  0.02\n",
       "V243 -0.17 -0.13 -0.03  0.01  0.01  0.00  0.03  0.05  0.06\n",
       "V244 -0.22 -0.17 -0.05  0.01  0.02  0.04  0.10  0.12  0.08\n",
       "V245 -0.19 -0.17 -0.03  0.05  0.05  0.08  0.12  0.11  0.07\n",
       "V246 -0.11 -0.14  0.01  0.09  0.10  0.11  0.09  0.07  0.04\n",
       "V247  0.02 -0.09  0.03  0.11  0.11  0.09  0.04  0.01  0.01\n",
       "V248  0.51  0.01  0.02  0.06  0.02 -0.02 -0.09 -0.09 -0.05\n",
       "V249  1.00  0.54  0.13  0.04 -0.05 -0.13 -0.18 -0.16 -0.10\n",
       "V250  0.54  1.00  0.59  0.20  0.06 -0.05 -0.11 -0.12 -0.09\n",
       "V251  0.13  0.59  1.00  0.67  0.41  0.19  0.06 -0.01 -0.05\n",
       "V252  0.04  0.20  0.67  1.00  0.79  0.43  0.23  0.09 -0.01\n",
       "V253 -0.05  0.06  0.41  0.79  1.00  0.75  0.39  0.17  0.02\n",
       "V254 -0.13 -0.05  0.19  0.43  0.75  1.00  0.72  0.33  0.08\n",
       "V255 -0.18 -0.11  0.06  0.23  0.39  0.72  1.00  0.68  0.22\n",
       "V256 -0.16 -0.12 -0.01  0.09  0.17  0.33  0.68  1.00  0.64\n",
       "V257 -0.10 -0.09 -0.05 -0.01  0.02  0.08  0.22  0.64  1.00"
      ]
     },
     "metadata": {},
     "output_type": "display_data"
    }
   ],
   "source": [
    "#correlations of all the variables rounded to 2 decimal points\n",
    "round(cor(ziptrain27),2);"
   ]
  },
  {
   "cell_type": "code",
   "execution_count": 35,
   "id": "b41f8a49",
   "metadata": {},
   "outputs": [
    {
     "data": {
      "text/html": [
       "7"
      ],
      "text/latex": [
       "7"
      ],
      "text/markdown": [
       "7"
      ],
      "text/plain": [
       "[1] 7"
      ]
     },
     "metadata": {},
     "output_type": "display_data"
    },
    {
     "data": {
      "image/png": "[encoded data removed]",
      "text/plain": [
       "plot without title"
      ]
     },
     "metadata": {
      "image/png": {
       "height": 420,
       "width": 420
      }
     },
     "output_type": "display_data"
    }
   ],
   "source": [
    "## To see the letter picture of the 5-th row by changing the row observation to a matrix\n",
    "rowindex = 5; ## You can try other \"rowindex\" values to see other rows\n",
    "ziptrain27[rowindex,1];\n",
    "Xval = t(matrix(data.matrix(ziptrain27[,-1])[rowindex,],byrow=TRUE,16,16)[16:1,]);\n",
    "image(Xval,col=gray(0:32/32),axes=FALSE) ## Also try \"col=gray(0:32/32)\""
   ]
  },
  {
   "cell_type": "code",
   "execution_count": 36,
   "id": "487bb696",
   "metadata": {},
   "outputs": [
    {
     "data": {
      "text/html": [
       "0.000726744186046512"
      ],
      "text/latex": [
       "0.000726744186046512"
      ],
      "text/markdown": [
       "0.000726744186046512"
      ],
      "text/plain": [
       "[1] 0.0007267442"
      ]
     },
     "metadata": {},
     "output_type": "display_data"
    }
   ],
   "source": [
    "### 2. Build Classification Rules\n",
    "### linear Regression\n",
    "mod1 <- lm( V1 ~ . , data= ziptrain27);\n",
    "pred1.train <- predict.lm(mod1, ziptrain27[,-1]);\n",
    "y1pred.train <- 2 + 5*(pred1.train >= 4.5);\n",
    "## Note that we predict Y1 to $2$ and $7$,\n",
    "## depending on the indicator variable whether pred1.train >= 4.5 = (2+7)/2.\n",
    "mean( y1pred.train != ziptrain27[,1]);\n",
    "# y1pred.train"
   ]
  },
  {
   "cell_type": "code",
   "execution_count": 37,
   "id": "aae46b8f",
   "metadata": {},
   "outputs": [
    {
     "name": "stdout",
     "output_type": "stream",
     "text": [
      "[1] 0\n",
      "[1] 0.01017442\n",
      "[1] 0.01235465\n",
      "[1] 0.01453488\n",
      "[1] 0.01598837\n",
      "[1] 0.01598837\n",
      "[1] 0.01744186\n",
      "[1] 0.01744186\n"
     ]
    }
   ],
   "source": [
    "## KNN\n",
    "library(class);\n",
    "xnew <- ziptrain27[,-1];\n",
    "trerror <-NULL\n",
    "for (kk in c(1,3,5,7,9,11,13,15)){\n",
    "ypred2.train <- knn(ziptrain27[,-1], xnew, ziptrain27[,1], k=kk);\n",
    "trainerror <- mean( ypred2.train != ziptrain27[,1])  #calculate training error for each k\n",
    "print(trainerror) \n",
    "trerror <- c(trerror, trainerror);\n",
    "    }\n"
   ]
  },
  {
   "cell_type": "code",
   "execution_count": 38,
   "id": "ca9d1e44",
   "metadata": {},
   "outputs": [
    {
     "data": {
      "image/png": "[encoded data removed]",
      "text/plain": [
       "plot without title"
      ]
     },
     "metadata": {
      "image/png": {
       "height": 420,
       "width": 420
      }
     },
     "output_type": "display_data"
    }
   ],
   "source": [
    "#plot the training error\n",
    "plot(c(1,3,5,7,9,11,13,15), trerror, xlab = \"k value\", ylab = \"Training error\",\n",
    "    col = \"blue\",\n",
    "     pch = 19)"
   ]
  },
  {
   "cell_type": "code",
   "execution_count": 39,
   "id": "1f236818",
   "metadata": {},
   "outputs": [
    {
     "data": {
      "text/html": [
       "<style>\n",
       ".list-inline {list-style: none; margin:0; padding: 0}\n",
       ".list-inline>li {display: inline-block}\n",
       ".list-inline>li:not(:last-child)::after {content: \"\\00b7\"; padding: 0 .5ex}\n",
       "</style>\n",
       "<ol class=list-inline><li>345</li><li>257</li></ol>\n"
      ],
      "text/latex": [
       "\\begin{enumerate*}\n",
       "\\item 345\n",
       "\\item 257\n",
       "\\end{enumerate*}\n"
      ],
      "text/markdown": [
       "1. 345\n",
       "2. 257\n",
       "\n",
       "\n"
      ],
      "text/plain": [
       "[1] 345 257"
      ]
     },
     "metadata": {},
     "output_type": "display_data"
    }
   ],
   "source": [
    "### 3. Testing Error\n",
    "### read testing data\n",
    "ziptest <- read.table(file=\"G://My Drive//OMSA//ISYE 7406//Module 1//zip.test.csv\", sep = \",\");\n",
    "ziptest27 <- subset(ziptest, ziptest[,1]==2 | ziptest[,1]==7);\n",
    "dim(ziptest27) ##345 257"
   ]
  },
  {
   "cell_type": "code",
   "execution_count": 40,
   "id": "a8ec76cd",
   "metadata": {},
   "outputs": [
    {
     "data": {
      "text/html": [
       "0.0173913043478261"
      ],
      "text/latex": [
       "0.0173913043478261"
      ],
      "text/markdown": [
       "0.0173913043478261"
      ],
      "text/plain": [
       "[1] 0.0173913"
      ]
     },
     "metadata": {},
     "output_type": "display_data"
    }
   ],
   "source": [
    "### testing error of linear regression \n",
    "pred1.test <- predict.lm(mod1, ziptest27[,-1]);\n",
    "y1pred.test <- 2 + 5*(pred1.test >= 4.5);\n",
    "mean( y1pred.test != ziptest27[,1]);"
   ]
  },
  {
   "cell_type": "code",
   "execution_count": 41,
   "id": "66ec7e0f",
   "metadata": {
    "scrolled": true
   },
   "outputs": [
    {
     "name": "stdout",
     "output_type": "stream",
     "text": [
      "[1] 0.0173913\n",
      "[1] 0.01449275\n",
      "[1] 0.01449275\n",
      "[1] 0.0173913\n",
      "[1] 0.0173913\n",
      "[1] 0.0173913\n",
      "[1] 0.02028986\n",
      "[1] 0.02028986\n"
     ]
    }
   ],
   "source": [
    "## Testing error of KNN, and you can change the k values.\n",
    "xnew2 <- ziptest27[,-1]; ## xnew2 is the X variables of the \"testing\" data\n",
    "terror <-NULL\n",
    "for (kk in c(1,3,5,7,9,11,13,15)){\n",
    "ypred2.test <- knn(ziptrain27[,-1], xnew2, ziptrain27[,1], k=kk);\n",
    "testerror <- mean( ypred2.test != ziptest27[,1])\n",
    "print(testerror) ## Here \"ziptest27[,1]\" is the Y response of the \"testing\" data\n",
    "terror <- c(terror, testerror);\n",
    "    }"
   ]
  },
  {
   "cell_type": "code",
   "execution_count": 42,
   "id": "e9c0a42d",
   "metadata": {},
   "outputs": [
    {
     "data": {
      "image/png": "[encoded data removed]",
      "text/plain": [
       "plot without title"
      ]
     },
     "metadata": {
      "image/png": {
       "height": 420,
       "width": 420
      }
     },
     "output_type": "display_data"
    }
   ],
   "source": [
    "#plot the testing error\n",
    "plot(c(1,3,5,7,9,11,13,15), terror, xlab = \"k value\", ylab = \"Testing error\",\n",
    "    col = \"blue\",\n",
    "     pch = 19)"
   ]
  },
  {
   "cell_type": "code",
   "execution_count": 43,
   "id": "b8bfc113",
   "metadata": {
    "scrolled": true
   },
   "outputs": [
    {
     "data": {
      "text/html": [
       "<table class=\"dataframe\">\n",
       "<caption>A matrix: 6 × 9 of type dbl</caption>\n",
       "<thead>\n",
       "\t<tr><th scope=col>te0</th><th scope=col>temptesterror</th><th scope=col>temptesterror</th><th scope=col>temptesterror</th><th scope=col>temptesterror</th><th scope=col>temptesterror</th><th scope=col>temptesterror</th><th scope=col>temptesterror</th><th scope=col>temptesterror</th></tr>\n",
       "</thead>\n",
       "<tbody>\n",
       "\t<tr><td>0.011594203</td><td>0.017391304</td><td>0.017391304</td><td>0.017391304</td><td>0.017391304</td><td>0.017391304</td><td>0.023188406</td><td>0.026086957</td><td>0.026086957</td></tr>\n",
       "\t<tr><td>0.014492754</td><td>0.017391304</td><td>0.017391304</td><td>0.023188406</td><td>0.026086957</td><td>0.023188406</td><td>0.026086957</td><td>0.034782609</td><td>0.031884058</td></tr>\n",
       "\t<tr><td>0.008695652</td><td>0.002898551</td><td>0.005797101</td><td>0.011594203</td><td>0.005797101</td><td>0.008695652</td><td>0.011594203</td><td>0.011594203</td><td>0.011594203</td></tr>\n",
       "\t<tr><td>0.008695652</td><td>0.005797101</td><td>0.005797101</td><td>0.008695652</td><td>0.008695652</td><td>0.008695652</td><td>0.008695652</td><td>0.008695652</td><td>0.008695652</td></tr>\n",
       "\t<tr><td>0.008695652</td><td>0.020289855</td><td>0.017391304</td><td>0.020289855</td><td>0.020289855</td><td>0.020289855</td><td>0.023188406</td><td>0.023188406</td><td>0.023188406</td></tr>\n",
       "\t<tr><td>0.020289855</td><td>0.008695652</td><td>0.011594203</td><td>0.014492754</td><td>0.017391304</td><td>0.017391304</td><td>0.017391304</td><td>0.017391304</td><td>0.017391304</td></tr>\n",
       "</tbody>\n",
       "</table>\n"
      ],
      "text/latex": [
       "A matrix: 6 × 9 of type dbl\n",
       "\\begin{tabular}{lllllllll}\n",
       " te0 & temptesterror & temptesterror & temptesterror & temptesterror & temptesterror & temptesterror & temptesterror & temptesterror\\\\\n",
       "\\hline\n",
       "\t 0.011594203 & 0.017391304 & 0.017391304 & 0.017391304 & 0.017391304 & 0.017391304 & 0.023188406 & 0.026086957 & 0.026086957\\\\\n",
       "\t 0.014492754 & 0.017391304 & 0.017391304 & 0.023188406 & 0.026086957 & 0.023188406 & 0.026086957 & 0.034782609 & 0.031884058\\\\\n",
       "\t 0.008695652 & 0.002898551 & 0.005797101 & 0.011594203 & 0.005797101 & 0.008695652 & 0.011594203 & 0.011594203 & 0.011594203\\\\\n",
       "\t 0.008695652 & 0.005797101 & 0.005797101 & 0.008695652 & 0.008695652 & 0.008695652 & 0.008695652 & 0.008695652 & 0.008695652\\\\\n",
       "\t 0.008695652 & 0.020289855 & 0.017391304 & 0.020289855 & 0.020289855 & 0.020289855 & 0.023188406 & 0.023188406 & 0.023188406\\\\\n",
       "\t 0.020289855 & 0.008695652 & 0.011594203 & 0.014492754 & 0.017391304 & 0.017391304 & 0.017391304 & 0.017391304 & 0.017391304\\\\\n",
       "\\end{tabular}\n"
      ],
      "text/markdown": [
       "\n",
       "A matrix: 6 × 9 of type dbl\n",
       "\n",
       "| te0 | temptesterror | temptesterror | temptesterror | temptesterror | temptesterror | temptesterror | temptesterror | temptesterror |\n",
       "|---|---|---|---|---|---|---|---|---|\n",
       "| 0.011594203 | 0.017391304 | 0.017391304 | 0.017391304 | 0.017391304 | 0.017391304 | 0.023188406 | 0.026086957 | 0.026086957 |\n",
       "| 0.014492754 | 0.017391304 | 0.017391304 | 0.023188406 | 0.026086957 | 0.023188406 | 0.026086957 | 0.034782609 | 0.031884058 |\n",
       "| 0.008695652 | 0.002898551 | 0.005797101 | 0.011594203 | 0.005797101 | 0.008695652 | 0.011594203 | 0.011594203 | 0.011594203 |\n",
       "| 0.008695652 | 0.005797101 | 0.005797101 | 0.008695652 | 0.008695652 | 0.008695652 | 0.008695652 | 0.008695652 | 0.008695652 |\n",
       "| 0.008695652 | 0.020289855 | 0.017391304 | 0.020289855 | 0.020289855 | 0.020289855 | 0.023188406 | 0.023188406 | 0.023188406 |\n",
       "| 0.020289855 | 0.008695652 | 0.011594203 | 0.014492754 | 0.017391304 | 0.017391304 | 0.017391304 | 0.017391304 | 0.017391304 |\n",
       "\n"
      ],
      "text/plain": [
       "     te0         temptesterror temptesterror temptesterror temptesterror\n",
       "[1,] 0.011594203 0.017391304   0.017391304   0.017391304   0.017391304  \n",
       "[2,] 0.014492754 0.017391304   0.017391304   0.023188406   0.026086957  \n",
       "[3,] 0.008695652 0.002898551   0.005797101   0.011594203   0.005797101  \n",
       "[4,] 0.008695652 0.005797101   0.005797101   0.008695652   0.008695652  \n",
       "[5,] 0.008695652 0.020289855   0.017391304   0.020289855   0.020289855  \n",
       "[6,] 0.020289855 0.008695652   0.011594203   0.014492754   0.017391304  \n",
       "     temptesterror temptesterror temptesterror temptesterror\n",
       "[1,] 0.017391304   0.023188406   0.026086957   0.026086957  \n",
       "[2,] 0.023188406   0.026086957   0.034782609   0.031884058  \n",
       "[3,] 0.008695652   0.011594203   0.011594203   0.011594203  \n",
       "[4,] 0.008695652   0.008695652   0.008695652   0.008695652  \n",
       "[5,] 0.020289855   0.023188406   0.023188406   0.023188406  \n",
       "[6,] 0.017391304   0.017391304   0.017391304   0.017391304  "
      ]
     },
     "metadata": {},
     "output_type": "display_data"
    }
   ],
   "source": [
    "### 4. Cross-Validation\n",
    "zip27full = rbind(ziptrain27, ziptest27) ### combine to a full data set\n",
    "n1 = 1376; # training set sample size\n",
    "n2= 345; # testing set sample size\n",
    "n = dim(zip27full)[1]; ## the total sample size\n",
    "set.seed(7406); ### set the seed for randomization\n",
    "\n",
    "B= 100; ### number of loops\n",
    "TEALL = NULL; ### Final TE values\n",
    "\n",
    "for (b in 1:B){\n",
    "flag <- sort(sample(1:n, n1));\n",
    "zip27traintemp <- zip27full[flag,]; ## temp training set for CV\n",
    "zip27testtemp <- zip27full[-flag,]; ## temp testing set for CV\n",
    "\n",
    "mod1 <- lm( V1 ~ . , data= zip27traintemp);\n",
    "pred1.test <- predict.lm(mod1, zip27testtemp[,-1]);\n",
    "y1pred.train <- 2 + 5*(pred1.test >= 4.5);\n",
    "te0 = mean( y1pred.train != zip27testtemp[,1]);    \n",
    "\n",
    "cverror <- NULL\n",
    "    \n",
    "for (kk in c(1,3,5,7,9,11,13,15)){ \n",
    "    xnew3 <-  zip27testtemp[,-1];\n",
    "    ypred2.test <- knn(zip27traintemp[,-1], xnew3, zip27traintemp[,1], k=kk);\n",
    "    temptesterror <- mean( ypred2.test != zip27testtemp[,1]);\n",
    "    cverror <- cbind(cverror, temptesterror); \n",
    "  }\n",
    "\n",
    "TEALL = rbind( TEALL, cbind(te0, cverror) );\n",
    "}\n",
    "head(TEALL)"
   ]
  },
  {
   "cell_type": "code",
   "execution_count": 44,
   "id": "856fa4ee",
   "metadata": {},
   "outputs": [
    {
     "data": {
      "text/html": [
       "<style>\n",
       ".list-inline {list-style: none; margin:0; padding: 0}\n",
       ".list-inline>li {display: inline-block}\n",
       ".list-inline>li:not(:last-child)::after {content: \"\\00b7\"; padding: 0 .5ex}\n",
       "</style>\n",
       "<ol class=list-inline><li>100</li><li>9</li></ol>\n"
      ],
      "text/latex": [
       "\\begin{enumerate*}\n",
       "\\item 100\n",
       "\\item 9\n",
       "\\end{enumerate*}\n"
      ],
      "text/markdown": [
       "1. 100\n",
       "2. 9\n",
       "\n",
       "\n"
      ],
      "text/plain": [
       "[1] 100   9"
      ]
     },
     "metadata": {},
     "output_type": "display_data"
    }
   ],
   "source": [
    "#size of error matrix\n",
    "dim(TEALL); ### This should be a Bx9 matrices\n",
    "\n",
    "#change column names\n",
    "colnames(TEALL) <- c(\"linearRegression\", \"KNN1\", \"KNN3\", \"KNN5\", \"KNN7\",\n",
    "\"KNN9\", \"KNN11\", \"KNN13\", \"KNN15\");"
   ]
  },
  {
   "cell_type": "code",
   "execution_count": 45,
   "id": "1397b83d",
   "metadata": {},
   "outputs": [
    {
     "data": {
      "image/png": "[encoded data removed]",
      "text/plain": [
       "plot without title"
      ]
     },
     "metadata": {
      "image/png": {
       "height": 420,
       "width": 420
      }
     },
     "output_type": "display_data"
    }
   ],
   "source": [
    "#plot of cv testing error for different KNN models\n",
    "plot(c(1,3,5,7,9,11,13,15), apply(TEALL[,-1], 2, mean), \n",
    "     ylab='CV Error', \n",
    "     xlab = 'k value',\n",
    "     col = \"blue\",\n",
    "     pch = 19)"
   ]
  },
  {
   "cell_type": "code",
   "execution_count": 46,
   "id": "49edd573",
   "metadata": {},
   "outputs": [
    {
     "data": {
      "text/html": [
       "<style>\n",
       ".dl-inline {width: auto; margin:0; padding: 0}\n",
       ".dl-inline>dt, .dl-inline>dd {float: none; width: auto; display: inline-block}\n",
       ".dl-inline>dt::after {content: \":\\0020\"; padding-right: .5ex}\n",
       ".dl-inline>dt:not(:first-of-type) {padding-left: .5ex}\n",
       "</style><dl class=dl-inline><dt>linearRegression</dt><dd>0.0114492753623188</dd><dt>KNN1</dt><dd>0.0134202898550725</dd><dt>KNN3</dt><dd>0.0140289855072464</dd><dt>KNN5</dt><dd>0.015768115942029</dd><dt>KNN7</dt><dd>0.0168985507246377</dd><dt>KNN9</dt><dd>0.0174492753623188</dd><dt>KNN11</dt><dd>0.0186086956521739</dd><dt>KNN13</dt><dd>0.0199130434782609</dd><dt>KNN15</dt><dd>0.0207246376811594</dd></dl>\n"
      ],
      "text/latex": [
       "\\begin{description*}\n",
       "\\item[linearRegression] 0.0114492753623188\n",
       "\\item[KNN1] 0.0134202898550725\n",
       "\\item[KNN3] 0.0140289855072464\n",
       "\\item[KNN5] 0.015768115942029\n",
       "\\item[KNN7] 0.0168985507246377\n",
       "\\item[KNN9] 0.0174492753623188\n",
       "\\item[KNN11] 0.0186086956521739\n",
       "\\item[KNN13] 0.0199130434782609\n",
       "\\item[KNN15] 0.0207246376811594\n",
       "\\end{description*}\n"
      ],
      "text/markdown": [
       "linearRegression\n",
       ":   0.0114492753623188KNN1\n",
       ":   0.0134202898550725KNN3\n",
       ":   0.0140289855072464KNN5\n",
       ":   0.015768115942029KNN7\n",
       ":   0.0168985507246377KNN9\n",
       ":   0.0174492753623188KNN11\n",
       ":   0.0186086956521739KNN13\n",
       ":   0.0199130434782609KNN15\n",
       ":   0.0207246376811594\n",
       "\n"
      ],
      "text/plain": [
       "linearRegression             KNN1             KNN3             KNN5 \n",
       "      0.01144928       0.01342029       0.01402899       0.01576812 \n",
       "            KNN7             KNN9            KNN11            KNN13 \n",
       "      0.01689855       0.01744928       0.01860870       0.01991304 \n",
       "           KNN15 \n",
       "      0.02072464 "
      ]
     },
     "metadata": {},
     "output_type": "display_data"
    },
    {
     "data": {
      "text/html": [
       "<style>\n",
       ".dl-inline {width: auto; margin:0; padding: 0}\n",
       ".dl-inline>dt, .dl-inline>dd {float: none; width: auto; display: inline-block}\n",
       ".dl-inline>dt::after {content: \":\\0020\"; padding-right: .5ex}\n",
       ".dl-inline>dt:not(:first-of-type) {padding-left: .5ex}\n",
       "</style><dl class=dl-inline><dt>linearRegression</dt><dd>2.36560097933759e-05</dd><dt>KNN1</dt><dd>3.03229734861745e-05</dd><dt>KNN3</dt><dd>2.84669844846278e-05</dd><dt>KNN5</dt><dd>3.85828458922347e-05</dd><dt>KNN7</dt><dd>4.02351598318832e-05</dd><dt>KNN9</dt><dd>4.3107826850738e-05</dd><dt>KNN11</dt><dd>4.84033784600892e-05</dd><dt>KNN13</dt><dd>5.40850640409557e-05</dd><dt>KNN15</dt><dd>5.94688748437961e-05</dd></dl>\n"
      ],
      "text/latex": [
       "\\begin{description*}\n",
       "\\item[linearRegression] 2.36560097933759e-05\n",
       "\\item[KNN1] 3.03229734861745e-05\n",
       "\\item[KNN3] 2.84669844846278e-05\n",
       "\\item[KNN5] 3.85828458922347e-05\n",
       "\\item[KNN7] 4.02351598318832e-05\n",
       "\\item[KNN9] 4.3107826850738e-05\n",
       "\\item[KNN11] 4.84033784600892e-05\n",
       "\\item[KNN13] 5.40850640409557e-05\n",
       "\\item[KNN15] 5.94688748437961e-05\n",
       "\\end{description*}\n"
      ],
      "text/markdown": [
       "linearRegression\n",
       ":   2.36560097933759e-05KNN1\n",
       ":   3.03229734861745e-05KNN3\n",
       ":   2.84669844846278e-05KNN5\n",
       ":   3.85828458922347e-05KNN7\n",
       ":   4.02351598318832e-05KNN9\n",
       ":   4.3107826850738e-05KNN11\n",
       ":   4.84033784600892e-05KNN13\n",
       ":   5.40850640409557e-05KNN15\n",
       ":   5.94688748437961e-05\n",
       "\n"
      ],
      "text/plain": [
       "linearRegression             KNN1             KNN3             KNN5 \n",
       "    2.365601e-05     3.032297e-05     2.846698e-05     3.858285e-05 \n",
       "            KNN7             KNN9            KNN11            KNN13 \n",
       "    4.023516e-05     4.310783e-05     4.840338e-05     5.408506e-05 \n",
       "           KNN15 \n",
       "    5.946887e-05 "
      ]
     },
     "metadata": {},
     "output_type": "display_data"
    }
   ],
   "source": [
    "## the sample mean/variances of the cv testing errors \n",
    "apply(TEALL, 2, mean);\n",
    "apply(TEALL, 2, var);"
   ]
  },
  {
   "cell_type": "code",
   "execution_count": 47,
   "id": "51d76086",
   "metadata": {},
   "outputs": [
    {
     "data": {
      "image/png": "[encoded data removed]",
      "text/plain": [
       "Plot with title \"Mean Values of Testing Errors\""
      ]
     },
     "metadata": {
      "image/png": {
       "height": 420,
       "width": 420
      }
     },
     "output_type": "display_data"
    }
   ],
   "source": [
    "#mean testing error for all models\n",
    "mean_values <- apply(TEALL, 2, mean)\n",
    "\n",
    "# Getting variable names\n",
    "variable_names <- colnames(TEALL)\n",
    "\n",
    "# Creating a bar plot\n",
    "barplot(mean_values, names.arg = variable_names,\n",
    "        main = \"Mean Values of Testing Errors\",\n",
    "        xlab = \"Variables\",\n",
    "        ylab = \"Mean\",\n",
    "        col = \"orange\")"
   ]
  },
  {
   "cell_type": "code",
   "execution_count": 48,
   "id": "eba7955b",
   "metadata": {},
   "outputs": [
    {
     "data": {
      "image/png": "[encoded data removed]",
      "text/plain": [
       "Plot with title \"Variance Values of Testing Errors\""
      ]
     },
     "metadata": {
      "image/png": {
       "height": 420,
       "width": 420
      }
     },
     "output_type": "display_data"
    }
   ],
   "source": [
    "#mean variance for all models\n",
    "variance_values <- apply(TEALL, 2, var)\n",
    "\n",
    "# Creating a bar plot\n",
    "barplot(variance_values, names.arg = variable_names,\n",
    "        main = \"Variance Values of Testing Errors\",\n",
    "        xlab = \"Models\",\n",
    "        ylab = \"Variance\",\n",
    "        col = \"orange\")"
   ]
  }
 ],
 "metadata": {
  "kernelspec": {
   "display_name": "R",
   "language": "R",
   "name": "ir"
  },
  "language_info": {
   "codemirror_mode": "r",
   "file_extension": ".r",
   "mimetype": "text/x-r-source",
   "name": "R",
   "pygments_lexer": "r",
   "version": "4.1.2"
  }
 },
 "nbformat": 4,
 "nbformat_minor": 5
}
