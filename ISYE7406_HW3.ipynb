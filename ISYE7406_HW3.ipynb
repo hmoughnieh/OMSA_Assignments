{
 "cells": [
  {
   "cell_type": "code",
   "execution_count": 96,
   "id": "9ceeb210",
   "metadata": {},
   "outputs": [],
   "source": [
    "# install.packages(\"corrplot\")\n",
    "library(corrplot)"
   ]
  },
  {
   "cell_type": "code",
   "execution_count": 97,
   "id": "14f22bcc",
   "metadata": {},
   "outputs": [],
   "source": [
    "# Read the data set\n",
    "Auto1 = read.csv(\"Auto.csv\",header=T, fileEncoding = 'UTF-8-BOM')"
   ]
  },
  {
   "cell_type": "code",
   "execution_count": 98,
   "id": "35c459e9",
   "metadata": {},
   "outputs": [
    {
     "data": {
      "text/html": [
       "<table class=\"dataframe\">\n",
       "<caption>A data.frame: 6 × 8</caption>\n",
       "<thead>\n",
       "\t<tr><th></th><th scope=col>mpg</th><th scope=col>cylinders</th><th scope=col>displacement</th><th scope=col>horsepower</th><th scope=col>weight</th><th scope=col>acceleration</th><th scope=col>year</th><th scope=col>origin</th></tr>\n",
       "\t<tr><th></th><th scope=col>&lt;dbl&gt;</th><th scope=col>&lt;int&gt;</th><th scope=col>&lt;dbl&gt;</th><th scope=col>&lt;int&gt;</th><th scope=col>&lt;int&gt;</th><th scope=col>&lt;dbl&gt;</th><th scope=col>&lt;int&gt;</th><th scope=col>&lt;int&gt;</th></tr>\n",
       "</thead>\n",
       "<tbody>\n",
       "\t<tr><th scope=row>1</th><td>18</td><td>8</td><td>307</td><td>130</td><td>3504</td><td>12.0</td><td>70</td><td>1</td></tr>\n",
       "\t<tr><th scope=row>2</th><td>15</td><td>8</td><td>350</td><td>165</td><td>3693</td><td>11.5</td><td>70</td><td>1</td></tr>\n",
       "\t<tr><th scope=row>3</th><td>18</td><td>8</td><td>318</td><td>150</td><td>3436</td><td>11.0</td><td>70</td><td>1</td></tr>\n",
       "\t<tr><th scope=row>4</th><td>16</td><td>8</td><td>304</td><td>150</td><td>3433</td><td>12.0</td><td>70</td><td>1</td></tr>\n",
       "\t<tr><th scope=row>5</th><td>17</td><td>8</td><td>302</td><td>140</td><td>3449</td><td>10.5</td><td>70</td><td>1</td></tr>\n",
       "\t<tr><th scope=row>6</th><td>15</td><td>8</td><td>429</td><td>198</td><td>4341</td><td>10.0</td><td>70</td><td>1</td></tr>\n",
       "</tbody>\n",
       "</table>\n"
      ],
      "text/latex": [
       "A data.frame: 6 × 8\n",
       "\\begin{tabular}{r|llllllll}\n",
       "  & mpg & cylinders & displacement & horsepower & weight & acceleration & year & origin\\\\\n",
       "  & <dbl> & <int> & <dbl> & <int> & <int> & <dbl> & <int> & <int>\\\\\n",
       "\\hline\n",
       "\t1 & 18 & 8 & 307 & 130 & 3504 & 12.0 & 70 & 1\\\\\n",
       "\t2 & 15 & 8 & 350 & 165 & 3693 & 11.5 & 70 & 1\\\\\n",
       "\t3 & 18 & 8 & 318 & 150 & 3436 & 11.0 & 70 & 1\\\\\n",
       "\t4 & 16 & 8 & 304 & 150 & 3433 & 12.0 & 70 & 1\\\\\n",
       "\t5 & 17 & 8 & 302 & 140 & 3449 & 10.5 & 70 & 1\\\\\n",
       "\t6 & 15 & 8 & 429 & 198 & 4341 & 10.0 & 70 & 1\\\\\n",
       "\\end{tabular}\n"
      ],
      "text/markdown": [
       "\n",
       "A data.frame: 6 × 8\n",
       "\n",
       "| <!--/--> | mpg &lt;dbl&gt; | cylinders &lt;int&gt; | displacement &lt;dbl&gt; | horsepower &lt;int&gt; | weight &lt;int&gt; | acceleration &lt;dbl&gt; | year &lt;int&gt; | origin &lt;int&gt; |\n",
       "|---|---|---|---|---|---|---|---|---|\n",
       "| 1 | 18 | 8 | 307 | 130 | 3504 | 12.0 | 70 | 1 |\n",
       "| 2 | 15 | 8 | 350 | 165 | 3693 | 11.5 | 70 | 1 |\n",
       "| 3 | 18 | 8 | 318 | 150 | 3436 | 11.0 | 70 | 1 |\n",
       "| 4 | 16 | 8 | 304 | 150 | 3433 | 12.0 | 70 | 1 |\n",
       "| 5 | 17 | 8 | 302 | 140 | 3449 | 10.5 | 70 | 1 |\n",
       "| 6 | 15 | 8 | 429 | 198 | 4341 | 10.0 | 70 | 1 |\n",
       "\n"
      ],
      "text/plain": [
       "  mpg cylinders displacement horsepower weight acceleration year origin\n",
       "1 18  8         307          130        3504   12.0         70   1     \n",
       "2 15  8         350          165        3693   11.5         70   1     \n",
       "3 18  8         318          150        3436   11.0         70   1     \n",
       "4 16  8         304          150        3433   12.0         70   1     \n",
       "5 17  8         302          140        3449   10.5         70   1     \n",
       "6 15  8         429          198        4341   10.0         70   1     "
      ]
     },
     "metadata": {},
     "output_type": "display_data"
    }
   ],
   "source": [
    "head(Auto1)"
   ]
  },
  {
   "cell_type": "code",
   "execution_count": 99,
   "id": "1868dea8",
   "metadata": {},
   "outputs": [],
   "source": [
    "mpg01 = I(Auto1$mpg >= median(Auto1$mpg))"
   ]
  },
  {
   "cell_type": "code",
   "execution_count": 100,
   "id": "b7d33f8c",
   "metadata": {},
   "outputs": [],
   "source": [
    "Auto = data.frame(mpg01, Auto1[,-1]); ## replace column \"mpg\" by \"mpg01\"."
   ]
  },
  {
   "cell_type": "code",
   "execution_count": 101,
   "id": "48bba3e4",
   "metadata": {},
   "outputs": [
    {
     "data": {
      "text/html": [
       "<table class=\"dataframe\">\n",
       "<caption>A data.frame: 6 × 8</caption>\n",
       "<thead>\n",
       "\t<tr><th></th><th scope=col>mpg01</th><th scope=col>cylinders</th><th scope=col>displacement</th><th scope=col>horsepower</th><th scope=col>weight</th><th scope=col>acceleration</th><th scope=col>year</th><th scope=col>origin</th></tr>\n",
       "\t<tr><th></th><th scope=col>&lt;I&lt;lgl&gt;&gt;</th><th scope=col>&lt;int&gt;</th><th scope=col>&lt;dbl&gt;</th><th scope=col>&lt;int&gt;</th><th scope=col>&lt;int&gt;</th><th scope=col>&lt;dbl&gt;</th><th scope=col>&lt;int&gt;</th><th scope=col>&lt;int&gt;</th></tr>\n",
       "</thead>\n",
       "<tbody>\n",
       "\t<tr><th scope=row>1</th><td>FALSE</td><td>8</td><td>307</td><td>130</td><td>3504</td><td>12.0</td><td>70</td><td>1</td></tr>\n",
       "\t<tr><th scope=row>2</th><td>FALSE</td><td>8</td><td>350</td><td>165</td><td>3693</td><td>11.5</td><td>70</td><td>1</td></tr>\n",
       "\t<tr><th scope=row>3</th><td>FALSE</td><td>8</td><td>318</td><td>150</td><td>3436</td><td>11.0</td><td>70</td><td>1</td></tr>\n",
       "\t<tr><th scope=row>4</th><td>FALSE</td><td>8</td><td>304</td><td>150</td><td>3433</td><td>12.0</td><td>70</td><td>1</td></tr>\n",
       "\t<tr><th scope=row>5</th><td>FALSE</td><td>8</td><td>302</td><td>140</td><td>3449</td><td>10.5</td><td>70</td><td>1</td></tr>\n",
       "\t<tr><th scope=row>6</th><td>FALSE</td><td>8</td><td>429</td><td>198</td><td>4341</td><td>10.0</td><td>70</td><td>1</td></tr>\n",
       "</tbody>\n",
       "</table>\n"
      ],
      "text/latex": [
       "A data.frame: 6 × 8\n",
       "\\begin{tabular}{r|llllllll}\n",
       "  & mpg01 & cylinders & displacement & horsepower & weight & acceleration & year & origin\\\\\n",
       "  & <I<lgl>> & <int> & <dbl> & <int> & <int> & <dbl> & <int> & <int>\\\\\n",
       "\\hline\n",
       "\t1 & FALSE & 8 & 307 & 130 & 3504 & 12.0 & 70 & 1\\\\\n",
       "\t2 & FALSE & 8 & 350 & 165 & 3693 & 11.5 & 70 & 1\\\\\n",
       "\t3 & FALSE & 8 & 318 & 150 & 3436 & 11.0 & 70 & 1\\\\\n",
       "\t4 & FALSE & 8 & 304 & 150 & 3433 & 12.0 & 70 & 1\\\\\n",
       "\t5 & FALSE & 8 & 302 & 140 & 3449 & 10.5 & 70 & 1\\\\\n",
       "\t6 & FALSE & 8 & 429 & 198 & 4341 & 10.0 & 70 & 1\\\\\n",
       "\\end{tabular}\n"
      ],
      "text/markdown": [
       "\n",
       "A data.frame: 6 × 8\n",
       "\n",
       "| <!--/--> | mpg01 &lt;I&lt;lgl&gt;&gt; | cylinders &lt;int&gt; | displacement &lt;dbl&gt; | horsepower &lt;int&gt; | weight &lt;int&gt; | acceleration &lt;dbl&gt; | year &lt;int&gt; | origin &lt;int&gt; |\n",
       "|---|---|---|---|---|---|---|---|---|\n",
       "| 1 | FALSE | 8 | 307 | 130 | 3504 | 12.0 | 70 | 1 |\n",
       "| 2 | FALSE | 8 | 350 | 165 | 3693 | 11.5 | 70 | 1 |\n",
       "| 3 | FALSE | 8 | 318 | 150 | 3436 | 11.0 | 70 | 1 |\n",
       "| 4 | FALSE | 8 | 304 | 150 | 3433 | 12.0 | 70 | 1 |\n",
       "| 5 | FALSE | 8 | 302 | 140 | 3449 | 10.5 | 70 | 1 |\n",
       "| 6 | FALSE | 8 | 429 | 198 | 4341 | 10.0 | 70 | 1 |\n",
       "\n"
      ],
      "text/plain": [
       "  mpg01 cylinders displacement horsepower weight acceleration year origin\n",
       "1 FALSE 8         307          130        3504   12.0         70   1     \n",
       "2 FALSE 8         350          165        3693   11.5         70   1     \n",
       "3 FALSE 8         318          150        3436   11.0         70   1     \n",
       "4 FALSE 8         304          150        3433   12.0         70   1     \n",
       "5 FALSE 8         302          140        3449   10.5         70   1     \n",
       "6 FALSE 8         429          198        4341   10.0         70   1     "
      ]
     },
     "metadata": {},
     "output_type": "display_data"
    }
   ],
   "source": [
    "head(Auto)"
   ]
  },
  {
   "cell_type": "code",
   "execution_count": 102,
   "id": "a4bc1a0b",
   "metadata": {},
   "outputs": [],
   "source": [
    "Auto$mpg01 <- as.integer(as.logical(Auto$mpg01))"
   ]
  },
  {
   "cell_type": "code",
   "execution_count": 103,
   "id": "8887a623",
   "metadata": {
    "scrolled": false
   },
   "outputs": [
    {
     "data": {
      "text/html": [
       "<table class=\"dataframe\">\n",
       "<caption>A data.frame: 6 × 8</caption>\n",
       "<thead>\n",
       "\t<tr><th></th><th scope=col>mpg01</th><th scope=col>cylinders</th><th scope=col>displacement</th><th scope=col>horsepower</th><th scope=col>weight</th><th scope=col>acceleration</th><th scope=col>year</th><th scope=col>origin</th></tr>\n",
       "\t<tr><th></th><th scope=col>&lt;int&gt;</th><th scope=col>&lt;int&gt;</th><th scope=col>&lt;dbl&gt;</th><th scope=col>&lt;int&gt;</th><th scope=col>&lt;int&gt;</th><th scope=col>&lt;dbl&gt;</th><th scope=col>&lt;int&gt;</th><th scope=col>&lt;int&gt;</th></tr>\n",
       "</thead>\n",
       "<tbody>\n",
       "\t<tr><th scope=row>1</th><td>0</td><td>8</td><td>307</td><td>130</td><td>3504</td><td>12.0</td><td>70</td><td>1</td></tr>\n",
       "\t<tr><th scope=row>2</th><td>0</td><td>8</td><td>350</td><td>165</td><td>3693</td><td>11.5</td><td>70</td><td>1</td></tr>\n",
       "\t<tr><th scope=row>3</th><td>0</td><td>8</td><td>318</td><td>150</td><td>3436</td><td>11.0</td><td>70</td><td>1</td></tr>\n",
       "\t<tr><th scope=row>4</th><td>0</td><td>8</td><td>304</td><td>150</td><td>3433</td><td>12.0</td><td>70</td><td>1</td></tr>\n",
       "\t<tr><th scope=row>5</th><td>0</td><td>8</td><td>302</td><td>140</td><td>3449</td><td>10.5</td><td>70</td><td>1</td></tr>\n",
       "\t<tr><th scope=row>6</th><td>0</td><td>8</td><td>429</td><td>198</td><td>4341</td><td>10.0</td><td>70</td><td>1</td></tr>\n",
       "</tbody>\n",
       "</table>\n"
      ],
      "text/latex": [
       "A data.frame: 6 × 8\n",
       "\\begin{tabular}{r|llllllll}\n",
       "  & mpg01 & cylinders & displacement & horsepower & weight & acceleration & year & origin\\\\\n",
       "  & <int> & <int> & <dbl> & <int> & <int> & <dbl> & <int> & <int>\\\\\n",
       "\\hline\n",
       "\t1 & 0 & 8 & 307 & 130 & 3504 & 12.0 & 70 & 1\\\\\n",
       "\t2 & 0 & 8 & 350 & 165 & 3693 & 11.5 & 70 & 1\\\\\n",
       "\t3 & 0 & 8 & 318 & 150 & 3436 & 11.0 & 70 & 1\\\\\n",
       "\t4 & 0 & 8 & 304 & 150 & 3433 & 12.0 & 70 & 1\\\\\n",
       "\t5 & 0 & 8 & 302 & 140 & 3449 & 10.5 & 70 & 1\\\\\n",
       "\t6 & 0 & 8 & 429 & 198 & 4341 & 10.0 & 70 & 1\\\\\n",
       "\\end{tabular}\n"
      ],
      "text/markdown": [
       "\n",
       "A data.frame: 6 × 8\n",
       "\n",
       "| <!--/--> | mpg01 &lt;int&gt; | cylinders &lt;int&gt; | displacement &lt;dbl&gt; | horsepower &lt;int&gt; | weight &lt;int&gt; | acceleration &lt;dbl&gt; | year &lt;int&gt; | origin &lt;int&gt; |\n",
       "|---|---|---|---|---|---|---|---|---|\n",
       "| 1 | 0 | 8 | 307 | 130 | 3504 | 12.0 | 70 | 1 |\n",
       "| 2 | 0 | 8 | 350 | 165 | 3693 | 11.5 | 70 | 1 |\n",
       "| 3 | 0 | 8 | 318 | 150 | 3436 | 11.0 | 70 | 1 |\n",
       "| 4 | 0 | 8 | 304 | 150 | 3433 | 12.0 | 70 | 1 |\n",
       "| 5 | 0 | 8 | 302 | 140 | 3449 | 10.5 | 70 | 1 |\n",
       "| 6 | 0 | 8 | 429 | 198 | 4341 | 10.0 | 70 | 1 |\n",
       "\n"
      ],
      "text/plain": [
       "  mpg01 cylinders displacement horsepower weight acceleration year origin\n",
       "1 0     8         307          130        3504   12.0         70   1     \n",
       "2 0     8         350          165        3693   11.5         70   1     \n",
       "3 0     8         318          150        3436   11.0         70   1     \n",
       "4 0     8         304          150        3433   12.0         70   1     \n",
       "5 0     8         302          140        3449   10.5         70   1     \n",
       "6 0     8         429          198        4341   10.0         70   1     "
      ]
     },
     "metadata": {},
     "output_type": "display_data"
    }
   ],
   "source": [
    "head(Auto)"
   ]
  },
  {
   "cell_type": "code",
   "execution_count": 104,
   "id": "8accc5c1",
   "metadata": {},
   "outputs": [
    {
     "data": {
      "text/html": [
       "<style>\n",
       ".list-inline {list-style: none; margin:0; padding: 0}\n",
       ".list-inline>li {display: inline-block}\n",
       ".list-inline>li:not(:last-child)::after {content: \"\\00b7\"; padding: 0 .5ex}\n",
       "</style>\n",
       "<ol class=list-inline><li>392</li><li>8</li></ol>\n"
      ],
      "text/latex": [
       "\\begin{enumerate*}\n",
       "\\item 392\n",
       "\\item 8\n",
       "\\end{enumerate*}\n"
      ],
      "text/markdown": [
       "1. 392\n",
       "2. 8\n",
       "\n",
       "\n"
      ],
      "text/plain": [
       "[1] 392   8"
      ]
     },
     "metadata": {},
     "output_type": "display_data"
    }
   ],
   "source": [
    "dim(Auto)"
   ]
  },
  {
   "cell_type": "code",
   "execution_count": 105,
   "id": "ffdb983e",
   "metadata": {},
   "outputs": [
    {
     "data": {
      "image/png": "[encoded data removed]",
      "text/plain": [
       "Plot with title \"displacement vs mpg01\""
      ]
     },
     "metadata": {
      "image/png": {
       "height": 420,
       "width": 420
      }
     },
     "output_type": "display_data"
    }
   ],
   "source": [
    "# Create the box plot\n",
    "boxplot(displacement ~ mpg01, data = Auto,\n",
    "        main = \"displacement vs mpg01\",\n",
    "        xlab = \"mpg01\",\n",
    "        ylab = \"displacement\",\n",
    "        col = \"orange\")"
   ]
  },
  {
   "cell_type": "code",
   "execution_count": 106,
   "id": "5cf11588",
   "metadata": {},
   "outputs": [
    {
     "data": {
      "image/png": "[encoded data removed]",
      "text/plain": [
       "Plot with title \"horsepower vs mpg01\""
      ]
     },
     "metadata": {
      "image/png": {
       "height": 420,
       "width": 420
      }
     },
     "output_type": "display_data"
    }
   ],
   "source": [
    "# Create the box plot\n",
    "boxplot(horsepower ~ mpg01, data = Auto,\n",
    "        main = \"horsepower vs mpg01\",\n",
    "        xlab = \"mpg01\",\n",
    "        ylab = \"horsepower\",\n",
    "        col = \"orange\")"
   ]
  },
  {
   "cell_type": "code",
   "execution_count": 107,
   "id": "7c431684",
   "metadata": {},
   "outputs": [
    {
     "data": {
      "image/png": "[encoded data removed]",
      "text/plain": [
       "Plot with title \"weight vs mpg01\""
      ]
     },
     "metadata": {
      "image/png": {
       "height": 420,
       "width": 420
      }
     },
     "output_type": "display_data"
    }
   ],
   "source": [
    "# Create the box plot\n",
    "boxplot(weight ~ mpg01, data = Auto,\n",
    "        main = \"weight vs mpg01\",\n",
    "        xlab = \"mpg01\",\n",
    "        ylab = \"weight\",\n",
    "        col = \"orange\")"
   ]
  },
  {
   "cell_type": "code",
   "execution_count": 108,
   "id": "79873958",
   "metadata": {},
   "outputs": [
    {
     "data": {
      "image/png": "[encoded data removed]",
      "text/plain": [
       "Plot with title \"Acceleration vs mpg01\""
      ]
     },
     "metadata": {
      "image/png": {
       "height": 420,
       "width": 420
      }
     },
     "output_type": "display_data"
    }
   ],
   "source": [
    "# Create the box plot\n",
    "boxplot(acceleration ~ mpg01, data = Auto,\n",
    "        main = \"Acceleration vs mpg01\",\n",
    "        xlab = \"mpg01\",\n",
    "        ylab = \"Acceleration\",\n",
    "        col = \"orange\")"
   ]
  },
  {
   "cell_type": "code",
   "execution_count": 109,
   "id": "2c7e67a3",
   "metadata": {},
   "outputs": [
    {
     "data": {
      "image/png": "[encoded data removed]",
      "text/plain": [
       "Plot with title \"year vs mpg01\""
      ]
     },
     "metadata": {
      "image/png": {
       "height": 420,
       "width": 420
      }
     },
     "output_type": "display_data"
    }
   ],
   "source": [
    "# Create the box plot\n",
    "boxplot(year ~ mpg01, data = Auto,\n",
    "        main = \"year vs mpg01\",\n",
    "        xlab = \"mpg01\",\n",
    "        ylab = \"year\",\n",
    "        col = \"orange\")"
   ]
  },
  {
   "cell_type": "code",
   "execution_count": 110,
   "id": "4c150470",
   "metadata": {},
   "outputs": [],
   "source": [
    "# Set a random seed for reproducibility\n",
    "set.seed(7406)\n",
    "\n",
    "# Calculate the number of rows for the training set (80%)\n",
    "n <- nrow(Auto)\n",
    "train_size <- 0.8 * n\n",
    "\n",
    "# Generate random indices for the training set\n",
    "train_indices <- sample(1:n, train_size)\n",
    "\n",
    "# Create the training and testing sets\n",
    "trainAuto <- Auto[train_indices, ]\n",
    "testAuto <- Auto[-train_indices, ]"
   ]
  },
  {
   "cell_type": "code",
   "execution_count": 111,
   "id": "24e5c062",
   "metadata": {},
   "outputs": [
    {
     "data": {
      "text/html": [
       "<style>\n",
       ".list-inline {list-style: none; margin:0; padding: 0}\n",
       ".list-inline>li {display: inline-block}\n",
       ".list-inline>li:not(:last-child)::after {content: \"\\00b7\"; padding: 0 .5ex}\n",
       "</style>\n",
       "<ol class=list-inline><li>313</li><li>8</li></ol>\n"
      ],
      "text/latex": [
       "\\begin{enumerate*}\n",
       "\\item 313\n",
       "\\item 8\n",
       "\\end{enumerate*}\n"
      ],
      "text/markdown": [
       "1. 313\n",
       "2. 8\n",
       "\n",
       "\n"
      ],
      "text/plain": [
       "[1] 313   8"
      ]
     },
     "metadata": {},
     "output_type": "display_data"
    },
    {
     "data": {
      "text/html": [
       "<style>\n",
       ".list-inline {list-style: none; margin:0; padding: 0}\n",
       ".list-inline>li {display: inline-block}\n",
       ".list-inline>li:not(:last-child)::after {content: \"\\00b7\"; padding: 0 .5ex}\n",
       "</style>\n",
       "<ol class=list-inline><li>79</li><li>8</li></ol>\n"
      ],
      "text/latex": [
       "\\begin{enumerate*}\n",
       "\\item 79\n",
       "\\item 8\n",
       "\\end{enumerate*}\n"
      ],
      "text/markdown": [
       "1. 79\n",
       "2. 8\n",
       "\n",
       "\n"
      ],
      "text/plain": [
       "[1] 79  8"
      ]
     },
     "metadata": {},
     "output_type": "display_data"
    }
   ],
   "source": [
    "#check the size of training & testing datasets\n",
    "dim(trainAuto)\n",
    "dim(testAuto)"
   ]
  },
  {
   "cell_type": "code",
   "execution_count": 112,
   "id": "6945b0e6",
   "metadata": {},
   "outputs": [
    {
     "data": {
      "text/plain": [
       "     mpg01          cylinders      displacement     horsepower   \n",
       " Min.   :0.0000   Min.   :3.000   Min.   : 68.0   Min.   : 46.0  \n",
       " 1st Qu.:0.0000   1st Qu.:4.000   1st Qu.:105.0   1st Qu.: 76.0  \n",
       " Median :1.0000   Median :4.000   Median :151.0   Median : 92.0  \n",
       " Mean   :0.5112   Mean   :5.486   Mean   :194.5   Mean   :104.2  \n",
       " 3rd Qu.:1.0000   3rd Qu.:8.000   3rd Qu.:302.0   3rd Qu.:129.0  \n",
       " Max.   :1.0000   Max.   :8.000   Max.   :455.0   Max.   :230.0  \n",
       "     weight      acceleration       year           origin     \n",
       " Min.   :1613   Min.   : 8.5   Min.   :70.00   Min.   :1.000  \n",
       " 1st Qu.:2230   1st Qu.:13.8   1st Qu.:73.00   1st Qu.:1.000  \n",
       " Median :2800   Median :15.4   Median :76.00   Median :1.000  \n",
       " Mean   :2982   Mean   :15.5   Mean   :75.99   Mean   :1.585  \n",
       " 3rd Qu.:3645   3rd Qu.:17.0   3rd Qu.:79.00   3rd Qu.:2.000  \n",
       " Max.   :5140   Max.   :24.8   Max.   :82.00   Max.   :3.000  "
      ]
     },
     "metadata": {},
     "output_type": "display_data"
    }
   ],
   "source": [
    "summary(trainAuto)"
   ]
  },
  {
   "cell_type": "code",
   "execution_count": 113,
   "id": "5c85b29a",
   "metadata": {
    "scrolled": true
   },
   "outputs": [
    {
     "data": {
      "text/html": [
       "<table class=\"dataframe\">\n",
       "<caption>A matrix: 8 × 8 of type dbl</caption>\n",
       "<thead>\n",
       "\t<tr><th></th><th scope=col>mpg01</th><th scope=col>cylinders</th><th scope=col>displacement</th><th scope=col>horsepower</th><th scope=col>weight</th><th scope=col>acceleration</th><th scope=col>year</th><th scope=col>origin</th></tr>\n",
       "</thead>\n",
       "<tbody>\n",
       "\t<tr><th scope=row>mpg01</th><td> 1.0000000</td><td>-0.7767570</td><td>-0.7707405</td><td>-0.6812701</td><td>-0.7638823</td><td> 0.3438696</td><td> 0.4439462</td><td> 0.5181776</td></tr>\n",
       "\t<tr><th scope=row>cylinders</th><td>-0.7767570</td><td> 1.0000000</td><td> 0.9517190</td><td> 0.8461730</td><td> 0.8983974</td><td>-0.4899511</td><td>-0.3593053</td><td>-0.5670154</td></tr>\n",
       "\t<tr><th scope=row>displacement</th><td>-0.7707405</td><td> 0.9517190</td><td> 1.0000000</td><td> 0.8958560</td><td> 0.9344989</td><td>-0.5366188</td><td>-0.3816242</td><td>-0.6216291</td></tr>\n",
       "\t<tr><th scope=row>horsepower</th><td>-0.6812701</td><td> 0.8461730</td><td> 0.8958560</td><td> 1.0000000</td><td> 0.8667294</td><td>-0.6782203</td><td>-0.4212060</td><td>-0.4665435</td></tr>\n",
       "\t<tr><th scope=row>weight</th><td>-0.7638823</td><td> 0.8983974</td><td> 0.9344989</td><td> 0.8667294</td><td> 1.0000000</td><td>-0.3988307</td><td>-0.3215474</td><td>-0.5891905</td></tr>\n",
       "\t<tr><th scope=row>acceleration</th><td> 0.3438696</td><td>-0.4899511</td><td>-0.5366188</td><td>-0.6782203</td><td>-0.3988307</td><td> 1.0000000</td><td> 0.2690182</td><td> 0.2331145</td></tr>\n",
       "\t<tr><th scope=row>year</th><td> 0.4439462</td><td>-0.3593053</td><td>-0.3816242</td><td>-0.4212060</td><td>-0.3215474</td><td> 0.2690182</td><td> 1.0000000</td><td> 0.1585869</td></tr>\n",
       "\t<tr><th scope=row>origin</th><td> 0.5181776</td><td>-0.5670154</td><td>-0.6216291</td><td>-0.4665435</td><td>-0.5891905</td><td> 0.2331145</td><td> 0.1585869</td><td> 1.0000000</td></tr>\n",
       "</tbody>\n",
       "</table>\n"
      ],
      "text/latex": [
       "A matrix: 8 × 8 of type dbl\n",
       "\\begin{tabular}{r|llllllll}\n",
       "  & mpg01 & cylinders & displacement & horsepower & weight & acceleration & year & origin\\\\\n",
       "\\hline\n",
       "\tmpg01 &  1.0000000 & -0.7767570 & -0.7707405 & -0.6812701 & -0.7638823 &  0.3438696 &  0.4439462 &  0.5181776\\\\\n",
       "\tcylinders & -0.7767570 &  1.0000000 &  0.9517190 &  0.8461730 &  0.8983974 & -0.4899511 & -0.3593053 & -0.5670154\\\\\n",
       "\tdisplacement & -0.7707405 &  0.9517190 &  1.0000000 &  0.8958560 &  0.9344989 & -0.5366188 & -0.3816242 & -0.6216291\\\\\n",
       "\thorsepower & -0.6812701 &  0.8461730 &  0.8958560 &  1.0000000 &  0.8667294 & -0.6782203 & -0.4212060 & -0.4665435\\\\\n",
       "\tweight & -0.7638823 &  0.8983974 &  0.9344989 &  0.8667294 &  1.0000000 & -0.3988307 & -0.3215474 & -0.5891905\\\\\n",
       "\tacceleration &  0.3438696 & -0.4899511 & -0.5366188 & -0.6782203 & -0.3988307 &  1.0000000 &  0.2690182 &  0.2331145\\\\\n",
       "\tyear &  0.4439462 & -0.3593053 & -0.3816242 & -0.4212060 & -0.3215474 &  0.2690182 &  1.0000000 &  0.1585869\\\\\n",
       "\torigin &  0.5181776 & -0.5670154 & -0.6216291 & -0.4665435 & -0.5891905 &  0.2331145 &  0.1585869 &  1.0000000\\\\\n",
       "\\end{tabular}\n"
      ],
      "text/markdown": [
       "\n",
       "A matrix: 8 × 8 of type dbl\n",
       "\n",
       "| <!--/--> | mpg01 | cylinders | displacement | horsepower | weight | acceleration | year | origin |\n",
       "|---|---|---|---|---|---|---|---|---|\n",
       "| mpg01 |  1.0000000 | -0.7767570 | -0.7707405 | -0.6812701 | -0.7638823 |  0.3438696 |  0.4439462 |  0.5181776 |\n",
       "| cylinders | -0.7767570 |  1.0000000 |  0.9517190 |  0.8461730 |  0.8983974 | -0.4899511 | -0.3593053 | -0.5670154 |\n",
       "| displacement | -0.7707405 |  0.9517190 |  1.0000000 |  0.8958560 |  0.9344989 | -0.5366188 | -0.3816242 | -0.6216291 |\n",
       "| horsepower | -0.6812701 |  0.8461730 |  0.8958560 |  1.0000000 |  0.8667294 | -0.6782203 | -0.4212060 | -0.4665435 |\n",
       "| weight | -0.7638823 |  0.8983974 |  0.9344989 |  0.8667294 |  1.0000000 | -0.3988307 | -0.3215474 | -0.5891905 |\n",
       "| acceleration |  0.3438696 | -0.4899511 | -0.5366188 | -0.6782203 | -0.3988307 |  1.0000000 |  0.2690182 |  0.2331145 |\n",
       "| year |  0.4439462 | -0.3593053 | -0.3816242 | -0.4212060 | -0.3215474 |  0.2690182 |  1.0000000 |  0.1585869 |\n",
       "| origin |  0.5181776 | -0.5670154 | -0.6216291 | -0.4665435 | -0.5891905 |  0.2331145 |  0.1585869 |  1.0000000 |\n",
       "\n"
      ],
      "text/plain": [
       "             mpg01      cylinders  displacement horsepower weight    \n",
       "mpg01         1.0000000 -0.7767570 -0.7707405   -0.6812701 -0.7638823\n",
       "cylinders    -0.7767570  1.0000000  0.9517190    0.8461730  0.8983974\n",
       "displacement -0.7707405  0.9517190  1.0000000    0.8958560  0.9344989\n",
       "horsepower   -0.6812701  0.8461730  0.8958560    1.0000000  0.8667294\n",
       "weight       -0.7638823  0.8983974  0.9344989    0.8667294  1.0000000\n",
       "acceleration  0.3438696 -0.4899511 -0.5366188   -0.6782203 -0.3988307\n",
       "year          0.4439462 -0.3593053 -0.3816242   -0.4212060 -0.3215474\n",
       "origin        0.5181776 -0.5670154 -0.6216291   -0.4665435 -0.5891905\n",
       "             acceleration year       origin    \n",
       "mpg01         0.3438696    0.4439462  0.5181776\n",
       "cylinders    -0.4899511   -0.3593053 -0.5670154\n",
       "displacement -0.5366188   -0.3816242 -0.6216291\n",
       "horsepower   -0.6782203   -0.4212060 -0.4665435\n",
       "weight       -0.3988307   -0.3215474 -0.5891905\n",
       "acceleration  1.0000000    0.2690182  0.2331145\n",
       "year          0.2690182    1.0000000  0.1585869\n",
       "origin        0.2331145    0.1585869  1.0000000"
      ]
     },
     "metadata": {},
     "output_type": "display_data"
    }
   ],
   "source": [
    "cor(trainAuto)"
   ]
  },
  {
   "cell_type": "code",
   "execution_count": 114,
   "id": "787bab5e",
   "metadata": {},
   "outputs": [
    {
     "data": {
      "image/png": "[encoded data removed]",
      "text/plain": [
       "Plot with title \"\""
      ]
     },
     "metadata": {
      "image/png": {
       "height": 420,
       "width": 420
      }
     },
     "output_type": "display_data"
    }
   ],
   "source": [
    "# Create a heatmap for the correlation matrix\n",
    "corrplot(cor(trainAuto))"
   ]
  },
  {
   "cell_type": "code",
   "execution_count": 115,
   "id": "3fca7287",
   "metadata": {},
   "outputs": [
    {
     "data": {
      "image/png": "[encoded data removed]",
      "text/plain": [
       "Plot with title \"Histogram of trainAuto$mpg01\""
      ]
     },
     "metadata": {
      "image/png": {
       "height": 420,
       "width": 420
      }
     },
     "output_type": "display_data"
    }
   ],
   "source": [
    "hist(trainAuto$mpg01, col=\"orange\")"
   ]
  },
  {
   "cell_type": "code",
   "execution_count": 116,
   "id": "7b856bfc",
   "metadata": {},
   "outputs": [
    {
     "data": {
      "image/png": "[encoded data removed]",
      "text/plain": [
       "Plot with title \"Histogram of trainAuto$cylinders\""
      ]
     },
     "metadata": {
      "image/png": {
       "height": 420,
       "width": 420
      }
     },
     "output_type": "display_data"
    }
   ],
   "source": [
    "hist(trainAuto$cylinders, col=\"orange\")"
   ]
  },
  {
   "cell_type": "code",
   "execution_count": 117,
   "id": "7d11ce7d",
   "metadata": {},
   "outputs": [
    {
     "data": {
      "image/png": "[encoded data removed]",
      "text/plain": [
       "Plot with title \"Histogram of trainAuto$displacement\""
      ]
     },
     "metadata": {
      "image/png": {
       "height": 420,
       "width": 420
      }
     },
     "output_type": "display_data"
    }
   ],
   "source": [
    "hist(trainAuto$displacement, col=\"orange\")"
   ]
  },
  {
   "cell_type": "code",
   "execution_count": 118,
   "id": "8b833081",
   "metadata": {},
   "outputs": [
    {
     "data": {
      "image/png": "[encoded data removed]",
      "text/plain": [
       "Plot with title \"Histogram of trainAuto$horsepower\""
      ]
     },
     "metadata": {
      "image/png": {
       "height": 420,
       "width": 420
      }
     },
     "output_type": "display_data"
    }
   ],
   "source": [
    "hist(trainAuto$horsepower, col=\"orange\")"
   ]
  },
  {
   "cell_type": "code",
   "execution_count": 119,
   "id": "3a5167b1",
   "metadata": {},
   "outputs": [
    {
     "data": {
      "image/png": "[encoded data removed]",
      "text/plain": [
       "Plot with title \"Histogram of trainAuto$weight\""
      ]
     },
     "metadata": {
      "image/png": {
       "height": 420,
       "width": 420
      }
     },
     "output_type": "display_data"
    }
   ],
   "source": [
    "hist(trainAuto$weight, col=\"orange\")"
   ]
  },
  {
   "cell_type": "code",
   "execution_count": 120,
   "id": "4bf2d07e",
   "metadata": {},
   "outputs": [
    {
     "data": {
      "image/png": "[encoded data removed]",
      "text/plain": [
       "Plot with title \"Histogram of trainAuto$acceleration\""
      ]
     },
     "metadata": {
      "image/png": {
       "height": 420,
       "width": 420
      }
     },
     "output_type": "display_data"
    }
   ],
   "source": [
    "hist(trainAuto$acceleration, col=\"orange\")"
   ]
  },
  {
   "cell_type": "code",
   "execution_count": 121,
   "id": "73dbea72",
   "metadata": {},
   "outputs": [
    {
     "data": {
      "image/png": "[encoded data removed]",
      "text/plain": [
       "Plot with title \"Histogram of trainAuto$year\""
      ]
     },
     "metadata": {
      "image/png": {
       "height": 420,
       "width": 420
      }
     },
     "output_type": "display_data"
    }
   ],
   "source": [
    "hist(trainAuto$year, col=\"orange\")"
   ]
  },
  {
   "cell_type": "code",
   "execution_count": 122,
   "id": "e9b92cce",
   "metadata": {},
   "outputs": [
    {
     "data": {
      "image/png": "[encoded data removed]",
      "text/plain": [
       "Plot with title \"Histogram of trainAuto$origin\""
      ]
     },
     "metadata": {
      "image/png": {
       "height": 420,
       "width": 420
      }
     },
     "output_type": "display_data"
    }
   ],
   "source": [
    "hist(trainAuto$origin, col=\"orange\")"
   ]
  },
  {
   "cell_type": "code",
   "execution_count": 123,
   "id": "3f0918b9",
   "metadata": {},
   "outputs": [],
   "source": [
    "## The placeholder for the training errors and testing errors\n",
    "TrainErr <- NULL;\n",
    "TestErr  <- NULL;"
   ]
  },
  {
   "cell_type": "code",
   "execution_count": 124,
   "id": "745c5f26",
   "metadata": {},
   "outputs": [],
   "source": [
    "#acceleration & year have correlation around 0.5. We will drop them\n",
    "trainAuto <- trainAuto[,-6:-8]\n",
    "testAuto <- testAuto[,-6:-8]"
   ]
  },
  {
   "cell_type": "code",
   "execution_count": 125,
   "id": "73b19cdc",
   "metadata": {},
   "outputs": [
    {
     "data": {
      "text/html": [
       "<table class=\"dataframe\">\n",
       "<caption>A data.frame: 6 × 5</caption>\n",
       "<thead>\n",
       "\t<tr><th></th><th scope=col>mpg01</th><th scope=col>cylinders</th><th scope=col>displacement</th><th scope=col>horsepower</th><th scope=col>weight</th></tr>\n",
       "\t<tr><th></th><th scope=col>&lt;int&gt;</th><th scope=col>&lt;int&gt;</th><th scope=col>&lt;dbl&gt;</th><th scope=col>&lt;int&gt;</th><th scope=col>&lt;int&gt;</th></tr>\n",
       "</thead>\n",
       "<tbody>\n",
       "\t<tr><th scope=row>132</th><td>0</td><td>6</td><td>250.0</td><td>100</td><td>3781</td></tr>\n",
       "\t<tr><th scope=row>118</th><td>1</td><td>4</td><td>116.0</td><td> 75</td><td>2158</td></tr>\n",
       "\t<tr><th scope=row>58</th><td>1</td><td>4</td><td> 97.5</td><td> 80</td><td>2126</td></tr>\n",
       "\t<tr><th scope=row>233</th><td>1</td><td>4</td><td>151.0</td><td> 88</td><td>2740</td></tr>\n",
       "\t<tr><th scope=row>353</th><td>1</td><td>4</td><td>119.0</td><td>100</td><td>2615</td></tr>\n",
       "\t<tr><th scope=row>381</th><td>1</td><td>6</td><td>181.0</td><td>110</td><td>2945</td></tr>\n",
       "</tbody>\n",
       "</table>\n"
      ],
      "text/latex": [
       "A data.frame: 6 × 5\n",
       "\\begin{tabular}{r|lllll}\n",
       "  & mpg01 & cylinders & displacement & horsepower & weight\\\\\n",
       "  & <int> & <int> & <dbl> & <int> & <int>\\\\\n",
       "\\hline\n",
       "\t132 & 0 & 6 & 250.0 & 100 & 3781\\\\\n",
       "\t118 & 1 & 4 & 116.0 &  75 & 2158\\\\\n",
       "\t58 & 1 & 4 &  97.5 &  80 & 2126\\\\\n",
       "\t233 & 1 & 4 & 151.0 &  88 & 2740\\\\\n",
       "\t353 & 1 & 4 & 119.0 & 100 & 2615\\\\\n",
       "\t381 & 1 & 6 & 181.0 & 110 & 2945\\\\\n",
       "\\end{tabular}\n"
      ],
      "text/markdown": [
       "\n",
       "A data.frame: 6 × 5\n",
       "\n",
       "| <!--/--> | mpg01 &lt;int&gt; | cylinders &lt;int&gt; | displacement &lt;dbl&gt; | horsepower &lt;int&gt; | weight &lt;int&gt; |\n",
       "|---|---|---|---|---|---|\n",
       "| 132 | 0 | 6 | 250.0 | 100 | 3781 |\n",
       "| 118 | 1 | 4 | 116.0 |  75 | 2158 |\n",
       "| 58 | 1 | 4 |  97.5 |  80 | 2126 |\n",
       "| 233 | 1 | 4 | 151.0 |  88 | 2740 |\n",
       "| 353 | 1 | 4 | 119.0 | 100 | 2615 |\n",
       "| 381 | 1 | 6 | 181.0 | 110 | 2945 |\n",
       "\n"
      ],
      "text/plain": [
       "    mpg01 cylinders displacement horsepower weight\n",
       "132 0     6         250.0        100        3781  \n",
       "118 1     4         116.0         75        2158  \n",
       "58  1     4          97.5         80        2126  \n",
       "233 1     4         151.0         88        2740  \n",
       "353 1     4         119.0        100        2615  \n",
       "381 1     6         181.0        110        2945  "
      ]
     },
     "metadata": {},
     "output_type": "display_data"
    }
   ],
   "source": [
    "head(trainAuto)"
   ]
  },
  {
   "cell_type": "code",
   "execution_count": 151,
   "id": "94017464",
   "metadata": {},
   "outputs": [
    {
     "data": {
      "text/html": [
       "<style>\n",
       ".list-inline {list-style: none; margin:0; padding: 0}\n",
       ".list-inline>li {display: inline-block}\n",
       ".list-inline>li:not(:last-child)::after {content: \"\\00b7\"; padding: 0 .5ex}\n",
       "</style>\n",
       "<ol class=list-inline><li>0.0926517571884984</li><li>0.0926517571884984</li><li>0.0990415335463259</li><li>0.0990415335463259</li><li>0.0830670926517572</li><li>0.0766773162939297</li><li>0.0862619808306709</li><li>0.108626198083067</li><li>0.108626198083067</li><li>0.105431309904153</li><li>0.105431309904153</li><li>0.0479233226837061</li><li>0.0926517571884984</li></ol>\n"
      ],
      "text/latex": [
       "\\begin{enumerate*}\n",
       "\\item 0.0926517571884984\n",
       "\\item 0.0926517571884984\n",
       "\\item 0.0990415335463259\n",
       "\\item 0.0990415335463259\n",
       "\\item 0.0830670926517572\n",
       "\\item 0.0766773162939297\n",
       "\\item 0.0862619808306709\n",
       "\\item 0.108626198083067\n",
       "\\item 0.108626198083067\n",
       "\\item 0.105431309904153\n",
       "\\item 0.105431309904153\n",
       "\\item 0.0479233226837061\n",
       "\\item 0.0926517571884984\n",
       "\\end{enumerate*}\n"
      ],
      "text/markdown": [
       "1. 0.0926517571884984\n",
       "2. 0.0926517571884984\n",
       "3. 0.0990415335463259\n",
       "4. 0.0990415335463259\n",
       "5. 0.0830670926517572\n",
       "6. 0.0766773162939297\n",
       "7. 0.0862619808306709\n",
       "8. 0.108626198083067\n",
       "9. 0.108626198083067\n",
       "10. 0.105431309904153\n",
       "11. 0.105431309904153\n",
       "12. 0.0479233226837061\n",
       "13. 0.0926517571884984\n",
       "\n",
       "\n"
      ],
      "text/plain": [
       " [1] 0.09265176 0.09265176 0.09904153 0.09904153 0.08306709 0.07667732\n",
       " [7] 0.08626198 0.10862620 0.10862620 0.10543131 0.10543131 0.04792332\n",
       "[13] 0.09265176"
      ]
     },
     "metadata": {},
     "output_type": "display_data"
    },
    {
     "data": {
      "text/html": [
       "<style>\n",
       ".list-inline {list-style: none; margin:0; padding: 0}\n",
       ".list-inline>li {display: inline-block}\n",
       ".list-inline>li:not(:last-child)::after {content: \"\\00b7\"; padding: 0 .5ex}\n",
       "</style>\n",
       "<ol class=list-inline><li>0.113924050632911</li><li>0.10126582278481</li><li>0.113924050632911</li><li>0.126582278481013</li><li>0.126582278481013</li><li>0.126582278481013</li><li>0.126582278481013</li><li>0.113924050632911</li><li>0.113924050632911</li><li>0.113924050632911</li><li>0.113924050632911</li><li>0.0886075949367089</li><li>0.113924050632911</li></ol>\n"
      ],
      "text/latex": [
       "\\begin{enumerate*}\n",
       "\\item 0.113924050632911\n",
       "\\item 0.10126582278481\n",
       "\\item 0.113924050632911\n",
       "\\item 0.126582278481013\n",
       "\\item 0.126582278481013\n",
       "\\item 0.126582278481013\n",
       "\\item 0.126582278481013\n",
       "\\item 0.113924050632911\n",
       "\\item 0.113924050632911\n",
       "\\item 0.113924050632911\n",
       "\\item 0.113924050632911\n",
       "\\item 0.0886075949367089\n",
       "\\item 0.113924050632911\n",
       "\\end{enumerate*}\n"
      ],
      "text/markdown": [
       "1. 0.113924050632911\n",
       "2. 0.10126582278481\n",
       "3. 0.113924050632911\n",
       "4. 0.126582278481013\n",
       "5. 0.126582278481013\n",
       "6. 0.126582278481013\n",
       "7. 0.126582278481013\n",
       "8. 0.113924050632911\n",
       "9. 0.113924050632911\n",
       "10. 0.113924050632911\n",
       "11. 0.113924050632911\n",
       "12. 0.0886075949367089\n",
       "13. 0.113924050632911\n",
       "\n",
       "\n"
      ],
      "text/plain": [
       " [1] 0.11392405 0.10126582 0.11392405 0.12658228 0.12658228 0.12658228\n",
       " [7] 0.12658228 0.11392405 0.11392405 0.11392405 0.11392405 0.08860759\n",
       "[13] 0.11392405"
      ]
     },
     "metadata": {},
     "output_type": "display_data"
    }
   ],
   "source": [
    "#Model 1: LDA\n",
    "library(MASS)\n",
    "mod1 <- lda(trainAuto[,2:5], trainAuto[,1]) \n",
    "\n",
    "## training error \n",
    "pred1 <- predict(mod1,trainAuto[,2:5])$class; \n",
    "TrainErr <- c(TrainErr, mean(pred1  != trainAuto$mpg01)); \n",
    "TrainErr; \n",
    "\n",
    "## testing error \n",
    "pred1test <- predict(mod1,testAuto[,2:5])$class; \n",
    "TestErr <- c(TestErr,mean(pred1test != testAuto$mpg01));  \n",
    "TestErr;\n"
   ]
  },
  {
   "cell_type": "code",
   "execution_count": 127,
   "id": "0e1a66e8",
   "metadata": {},
   "outputs": [
    {
     "data": {
      "text/html": [
       "<style>\n",
       ".list-inline {list-style: none; margin:0; padding: 0}\n",
       ".list-inline>li {display: inline-block}\n",
       ".list-inline>li:not(:last-child)::after {content: \"\\00b7\"; padding: 0 .5ex}\n",
       "</style>\n",
       "<ol class=list-inline><li>0.0926517571884984</li><li>0.0926517571884984</li></ol>\n"
      ],
      "text/latex": [
       "\\begin{enumerate*}\n",
       "\\item 0.0926517571884984\n",
       "\\item 0.0926517571884984\n",
       "\\end{enumerate*}\n"
      ],
      "text/markdown": [
       "1. 0.0926517571884984\n",
       "2. 0.0926517571884984\n",
       "\n",
       "\n"
      ],
      "text/plain": [
       "[1] 0.09265176 0.09265176"
      ]
     },
     "metadata": {},
     "output_type": "display_data"
    },
    {
     "data": {
      "text/html": [
       "<style>\n",
       ".list-inline {list-style: none; margin:0; padding: 0}\n",
       ".list-inline>li {display: inline-block}\n",
       ".list-inline>li:not(:last-child)::after {content: \"\\00b7\"; padding: 0 .5ex}\n",
       "</style>\n",
       "<ol class=list-inline><li>0.113924050632911</li><li>0.10126582278481</li></ol>\n"
      ],
      "text/latex": [
       "\\begin{enumerate*}\n",
       "\\item 0.113924050632911\n",
       "\\item 0.10126582278481\n",
       "\\end{enumerate*}\n"
      ],
      "text/markdown": [
       "1. 0.113924050632911\n",
       "2. 0.10126582278481\n",
       "\n",
       "\n"
      ],
      "text/plain": [
       "[1] 0.1139241 0.1012658"
      ]
     },
     "metadata": {},
     "output_type": "display_data"
    }
   ],
   "source": [
    "## Model 2: QDA\n",
    "mod2 <- qda(trainAuto[,2:5], trainAuto[,1])\n",
    "\n",
    "## Training Error \n",
    "pred2 <- predict(mod2,trainAuto[,2:5])$class\n",
    "TrainErr <- c(TrainErr, mean(pred1  != trainAuto$mpg01))\n",
    "TrainErr\n",
    "\n",
    "##  Testing Error \n",
    "pred2test <- predict(mod2,testAuto[,2:5])$class\n",
    "TestErr <- c(TestErr, mean(pred2test != testAuto$mpg01))\n",
    "TestErr\n",
    "\n",
    "\n"
   ]
  },
  {
   "cell_type": "code",
   "execution_count": 128,
   "id": "88062b53",
   "metadata": {},
   "outputs": [
    {
     "data": {
      "text/html": [
       "<style>\n",
       ".list-inline {list-style: none; margin:0; padding: 0}\n",
       ".list-inline>li {display: inline-block}\n",
       ".list-inline>li:not(:last-child)::after {content: \"\\00b7\"; padding: 0 .5ex}\n",
       "</style>\n",
       "<ol class=list-inline><li>0.0926517571884984</li><li>0.0926517571884984</li><li>0.0990415335463259</li></ol>\n"
      ],
      "text/latex": [
       "\\begin{enumerate*}\n",
       "\\item 0.0926517571884984\n",
       "\\item 0.0926517571884984\n",
       "\\item 0.0990415335463259\n",
       "\\end{enumerate*}\n"
      ],
      "text/markdown": [
       "1. 0.0926517571884984\n",
       "2. 0.0926517571884984\n",
       "3. 0.0990415335463259\n",
       "\n",
       "\n"
      ],
      "text/plain": [
       "[1] 0.09265176 0.09265176 0.09904153"
      ]
     },
     "metadata": {},
     "output_type": "display_data"
    },
    {
     "data": {
      "text/html": [
       "<style>\n",
       ".list-inline {list-style: none; margin:0; padding: 0}\n",
       ".list-inline>li {display: inline-block}\n",
       ".list-inline>li:not(:last-child)::after {content: \"\\00b7\"; padding: 0 .5ex}\n",
       "</style>\n",
       "<ol class=list-inline><li>0.113924050632911</li><li>0.10126582278481</li><li>0.113924050632911</li></ol>\n"
      ],
      "text/latex": [
       "\\begin{enumerate*}\n",
       "\\item 0.113924050632911\n",
       "\\item 0.10126582278481\n",
       "\\item 0.113924050632911\n",
       "\\end{enumerate*}\n"
      ],
      "text/markdown": [
       "1. 0.113924050632911\n",
       "2. 0.10126582278481\n",
       "3. 0.113924050632911\n",
       "\n",
       "\n"
      ],
      "text/plain": [
       "[1] 0.1139241 0.1012658 0.1139241"
      ]
     },
     "metadata": {},
     "output_type": "display_data"
    }
   ],
   "source": [
    "#Model 3: Naive Bayes\n",
    "library(e1071)\n",
    "mod3 <- naiveBayes(trainAuto[,2:5], trainAuto[,1])\n",
    "\n",
    "## Training Error\n",
    "pred3 <- predict(mod3, trainAuto[,2:5]);\n",
    "TrainErr <- c(TrainErr, mean( pred3 != trainAuto$mpg01))\n",
    "TrainErr \n",
    "\n",
    "## Testing Error \n",
    "pred3test <- predict(mod3,testAuto[,2:5])\n",
    "TestErr <- c(TestErr,  mean(pred3test != testAuto$mpg01))\n",
    "TestErr"
   ]
  },
  {
   "cell_type": "code",
   "execution_count": 129,
   "id": "c843e8e1",
   "metadata": {},
   "outputs": [
    {
     "data": {
      "text/plain": [
       "\n",
       "Call:\n",
       "glm(formula = mpg01 ~ ., family = binomial(link = \"logit\"), data = trainAuto)\n",
       "\n",
       "Deviance Residuals: \n",
       "    Min       1Q   Median       3Q      Max  \n",
       "-2.2930  -0.1054   0.1073   0.3335   3.4701  \n",
       "\n",
       "Coefficients:\n",
       "              Estimate Std. Error z value Pr(>|z|)    \n",
       "(Intercept)  12.265272   2.017769   6.079 1.21e-09 ***\n",
       "cylinders    -0.025213   0.389304  -0.065  0.94836    \n",
       "displacement -0.015404   0.009078  -1.697  0.08973 .  \n",
       "horsepower   -0.046848   0.016166  -2.898  0.00376 ** \n",
       "weight       -0.001752   0.000783  -2.238  0.02522 *  \n",
       "---\n",
       "Signif. codes:  0 '***' 0.001 '**' 0.01 '*' 0.05 '.' 0.1 ' ' 1\n",
       "\n",
       "(Dispersion parameter for binomial family taken to be 1)\n",
       "\n",
       "    Null deviance: 433.75  on 312  degrees of freedom\n",
       "Residual deviance: 157.03  on 308  degrees of freedom\n",
       "AIC: 167.03\n",
       "\n",
       "Number of Fisher Scoring iterations: 7\n"
      ]
     },
     "metadata": {},
     "output_type": "display_data"
    }
   ],
   "source": [
    "#Model 4: Logistic Regression\n",
    "mod4 = glm(mpg01~., data=trainAuto, family='binomial'(link=\"logit\"))\n",
    "summary(mod4)"
   ]
  },
  {
   "cell_type": "code",
   "execution_count": 130,
   "id": "0bd85b1d",
   "metadata": {},
   "outputs": [
    {
     "data": {
      "text/html": [
       "<table class=\"dataframe\">\n",
       "<caption>A matrix: 5 × 2 of type dbl</caption>\n",
       "<thead>\n",
       "\t<tr><th></th><th scope=col>2.5 %</th><th scope=col>97.5 %</th></tr>\n",
       "</thead>\n",
       "<tbody>\n",
       "\t<tr><th scope=row>(Intercept)</th><td> 8.310516256</td><td>16.2200273355</td></tr>\n",
       "\t<tr><th scope=row>cylinders</th><td>-0.788233968</td><td> 0.7378080841</td></tr>\n",
       "\t<tr><th scope=row>displacement</th><td>-0.033197863</td><td> 0.0023891219</td></tr>\n",
       "\t<tr><th scope=row>horsepower</th><td>-0.078532335</td><td>-0.0151632233</td></tr>\n",
       "\t<tr><th scope=row>weight</th><td>-0.003287054</td><td>-0.0002177011</td></tr>\n",
       "</tbody>\n",
       "</table>\n"
      ],
      "text/latex": [
       "A matrix: 5 × 2 of type dbl\n",
       "\\begin{tabular}{r|ll}\n",
       "  & 2.5 \\% & 97.5 \\%\\\\\n",
       "\\hline\n",
       "\t(Intercept) &  8.310516256 & 16.2200273355\\\\\n",
       "\tcylinders & -0.788233968 &  0.7378080841\\\\\n",
       "\tdisplacement & -0.033197863 &  0.0023891219\\\\\n",
       "\thorsepower & -0.078532335 & -0.0151632233\\\\\n",
       "\tweight & -0.003287054 & -0.0002177011\\\\\n",
       "\\end{tabular}\n"
      ],
      "text/markdown": [
       "\n",
       "A matrix: 5 × 2 of type dbl\n",
       "\n",
       "| <!--/--> | 2.5 % | 97.5 % |\n",
       "|---|---|---|\n",
       "| (Intercept) |  8.310516256 | 16.2200273355 |\n",
       "| cylinders | -0.788233968 |  0.7378080841 |\n",
       "| displacement | -0.033197863 |  0.0023891219 |\n",
       "| horsepower | -0.078532335 | -0.0151632233 |\n",
       "| weight | -0.003287054 | -0.0002177011 |\n",
       "\n"
      ],
      "text/plain": [
       "             2.5 %        97.5 %       \n",
       "(Intercept)   8.310516256 16.2200273355\n",
       "cylinders    -0.788233968  0.7378080841\n",
       "displacement -0.033197863  0.0023891219\n",
       "horsepower   -0.078532335 -0.0151632233\n",
       "weight       -0.003287054 -0.0002177011"
      ]
     },
     "metadata": {},
     "output_type": "display_data"
    }
   ],
   "source": [
    "# Calculate the 95% confidence interval for the coefficients using the Wald interval\n",
    "confint.default(mod4, level = 0.95, parms=c())"
   ]
  },
  {
   "cell_type": "code",
   "execution_count": 131,
   "id": "20c643e7",
   "metadata": {},
   "outputs": [],
   "source": [
    "#displacement and cylinders have zeros in their CI --> they are not statistically significant"
   ]
  },
  {
   "cell_type": "code",
   "execution_count": 132,
   "id": "a813d2dd",
   "metadata": {},
   "outputs": [
    {
     "data": {
      "text/html": [
       "0"
      ],
      "text/latex": [
       "0"
      ],
      "text/markdown": [
       "0"
      ],
      "text/plain": [
       "[1] 0"
      ]
     },
     "metadata": {},
     "output_type": "display_data"
    }
   ],
   "source": [
    "# Calculate overall significance of the model\n",
    "1-pchisq((mod4$null.dev - mod4$deviance),\n",
    "         (mod4$df.null - mod4$df.resid))"
   ]
  },
  {
   "cell_type": "code",
   "execution_count": 133,
   "id": "437eaa26",
   "metadata": {},
   "outputs": [],
   "source": [
    "#The p-value equals zero, so we can reject the null hypothesis that the slope coefficient is equal to zero and conclude that the model is significant overall."
   ]
  },
  {
   "cell_type": "code",
   "execution_count": 134,
   "id": "2d747281",
   "metadata": {},
   "outputs": [],
   "source": [
    "#Perform goodness-of-fit hypothesis tests using both Deviance and Pearson residuals."
   ]
  },
  {
   "cell_type": "code",
   "execution_count": 135,
   "id": "fea45872",
   "metadata": {},
   "outputs": [
    {
     "name": "stdout",
     "output_type": "stream",
     "text": [
      "Deviance residuals test p-value: 1 \n"
     ]
    }
   ],
   "source": [
    "# Deviance residuals test\n",
    "cat(\"Deviance residuals test p-value:\",\n",
    "1-pchisq(mod4$deviance, mod4$df.residual), end=\"\\n\")"
   ]
  },
  {
   "cell_type": "code",
   "execution_count": 136,
   "id": "9c47deca",
   "metadata": {},
   "outputs": [
    {
     "name": "stdout",
     "output_type": "stream",
     "text": [
      "Pearson residuals test p-value: 0"
     ]
    }
   ],
   "source": [
    "# Pearson residuals test\n",
    "pResid <- resid(mod4, type = \"pearson\")\n",
    "cat(\"Pearson residuals test p-value:\",\n",
    "1-pchisq(sum(pResid^2), mod4$df.residual))"
   ]
  },
  {
   "cell_type": "code",
   "execution_count": 137,
   "id": "684b3ee6",
   "metadata": {},
   "outputs": [],
   "source": [
    "#Deviance residuals test is large while Pearson residuals test is small suggests that the model might be a good fit"
   ]
  },
  {
   "cell_type": "code",
   "execution_count": 138,
   "id": "bf4f7280",
   "metadata": {},
   "outputs": [
    {
     "data": {
      "image/png": "[encoded data removed]",
      "text/plain": [
       "plot without title"
      ]
     },
     "metadata": {
      "image/png": {
       "height": 420,
       "width": 420
      }
     },
     "output_type": "display_data"
    }
   ],
   "source": [
    "# Store the deviance residuals\n",
    "res4 <- resid(mod4, type = \"deviance\")\n",
    "\n",
    "# Generate expected quantiles from a standard normal distribution\n",
    "expected_quantiles <- qnorm(ppoints(length(res4)))\n",
    "\n",
    "# Create the QQ plot\n",
    "qqplot(x = expected_quantiles, y = res4, ylab = \"Deviance Residuals\", col=\"blue\")\n",
    "\n",
    "# Add a reference line\n",
    "abline(a = 0, b = 1, col = \"red\")"
   ]
  },
  {
   "cell_type": "code",
   "execution_count": 139,
   "id": "c925792d",
   "metadata": {},
   "outputs": [
    {
     "data": {
      "image/png": "[encoded data removed]",
      "text/plain": [
       "Plot with title \"\""
      ]
     },
     "metadata": {
      "image/png": {
       "height": 420,
       "width": 420
      }
     },
     "output_type": "display_data"
    }
   ],
   "source": [
    "hist(res4,10,xlab=\"Std residuals\", main=\"\", col=\"orange\")"
   ]
  },
  {
   "cell_type": "code",
   "execution_count": 140,
   "id": "79b7139d",
   "metadata": {},
   "outputs": [],
   "source": [
    "#normality assumption does not hold. based on the above we can say that the model is not a good fit. However, it is statistically significant so it can make predicitions"
   ]
  },
  {
   "cell_type": "code",
   "execution_count": 141,
   "id": "152e8649",
   "metadata": {},
   "outputs": [
    {
     "data": {
      "text/html": [
       "<style>\n",
       ".list-inline {list-style: none; margin:0; padding: 0}\n",
       ".list-inline>li {display: inline-block}\n",
       ".list-inline>li:not(:last-child)::after {content: \"\\00b7\"; padding: 0 .5ex}\n",
       "</style>\n",
       "<ol class=list-inline><li>0.0926517571884984</li><li>0.0926517571884984</li><li>0.0990415335463259</li><li>0.0990415335463259</li></ol>\n"
      ],
      "text/latex": [
       "\\begin{enumerate*}\n",
       "\\item 0.0926517571884984\n",
       "\\item 0.0926517571884984\n",
       "\\item 0.0990415335463259\n",
       "\\item 0.0990415335463259\n",
       "\\end{enumerate*}\n"
      ],
      "text/markdown": [
       "1. 0.0926517571884984\n",
       "2. 0.0926517571884984\n",
       "3. 0.0990415335463259\n",
       "4. 0.0990415335463259\n",
       "\n",
       "\n"
      ],
      "text/plain": [
       "[1] 0.09265176 0.09265176 0.09904153 0.09904153"
      ]
     },
     "metadata": {},
     "output_type": "display_data"
    },
    {
     "data": {
      "text/html": [
       "<style>\n",
       ".list-inline {list-style: none; margin:0; padding: 0}\n",
       ".list-inline>li {display: inline-block}\n",
       ".list-inline>li:not(:last-child)::after {content: \"\\00b7\"; padding: 0 .5ex}\n",
       "</style>\n",
       "<ol class=list-inline><li>0.113924050632911</li><li>0.10126582278481</li><li>0.113924050632911</li><li>0.126582278481013</li></ol>\n"
      ],
      "text/latex": [
       "\\begin{enumerate*}\n",
       "\\item 0.113924050632911\n",
       "\\item 0.10126582278481\n",
       "\\item 0.113924050632911\n",
       "\\item 0.126582278481013\n",
       "\\end{enumerate*}\n"
      ],
      "text/markdown": [
       "1. 0.113924050632911\n",
       "2. 0.10126582278481\n",
       "3. 0.113924050632911\n",
       "4. 0.126582278481013\n",
       "\n",
       "\n"
      ],
      "text/plain": [
       "[1] 0.1139241 0.1012658 0.1139241 0.1265823"
      ]
     },
     "metadata": {},
     "output_type": "display_data"
    }
   ],
   "source": [
    "## Training Error  of model 4 (logisitic regression)\n",
    "pred4 <- predict(mod4, trainAuto[,2:5],type=\"response\")\n",
    "pred4 <- ifelse(pred4 >0.5, 1, 0)\n",
    "TrainErr <- c(TrainErr, mean(pred4  != trainAuto$mpg01))\n",
    "TrainErr\n",
    "\n",
    "## Testing Error of model 4 (logisitic regression)\n",
    "pred4test <- predict(mod4,testAuto[,2:5],type=\"response\")\n",
    "pred4test <- ifelse(pred4test >0.5, 1, 0)\n",
    "TestErr <- c(TestErr, mean(pred4test != testAuto$mpg01) )\n",
    "TestErr"
   ]
  },
  {
   "cell_type": "code",
   "execution_count": 142,
   "id": "f2aa7ecd",
   "metadata": {},
   "outputs": [
    {
     "name": "stdout",
     "output_type": "stream",
     "text": [
      "[1] 0.08306709\n",
      "[1] 0.07667732\n",
      "[1] 0.08626198\n",
      "[1] 0.1086262\n",
      "[1] 0.1086262\n",
      "[1] 0.1054313\n",
      "[1] 0.1054313\n"
     ]
    },
    {
     "data": {
      "text/html": [
       "<style>\n",
       ".list-inline {list-style: none; margin:0; padding: 0}\n",
       ".list-inline>li {display: inline-block}\n",
       ".list-inline>li:not(:last-child)::after {content: \"\\00b7\"; padding: 0 .5ex}\n",
       "</style>\n",
       "<ol class=list-inline><li>0.0926517571884984</li><li>0.0926517571884984</li><li>0.0990415335463259</li><li>0.0990415335463259</li><li>0.0830670926517572</li><li>0.0766773162939297</li><li>0.0862619808306709</li><li>0.108626198083067</li><li>0.108626198083067</li><li>0.105431309904153</li><li>0.105431309904153</li></ol>\n"
      ],
      "text/latex": [
       "\\begin{enumerate*}\n",
       "\\item 0.0926517571884984\n",
       "\\item 0.0926517571884984\n",
       "\\item 0.0990415335463259\n",
       "\\item 0.0990415335463259\n",
       "\\item 0.0830670926517572\n",
       "\\item 0.0766773162939297\n",
       "\\item 0.0862619808306709\n",
       "\\item 0.108626198083067\n",
       "\\item 0.108626198083067\n",
       "\\item 0.105431309904153\n",
       "\\item 0.105431309904153\n",
       "\\end{enumerate*}\n"
      ],
      "text/markdown": [
       "1. 0.0926517571884984\n",
       "2. 0.0926517571884984\n",
       "3. 0.0990415335463259\n",
       "4. 0.0990415335463259\n",
       "5. 0.0830670926517572\n",
       "6. 0.0766773162939297\n",
       "7. 0.0862619808306709\n",
       "8. 0.108626198083067\n",
       "9. 0.108626198083067\n",
       "10. 0.105431309904153\n",
       "11. 0.105431309904153\n",
       "\n",
       "\n"
      ],
      "text/plain": [
       " [1] 0.09265176 0.09265176 0.09904153 0.09904153 0.08306709 0.07667732\n",
       " [7] 0.08626198 0.10862620 0.10862620 0.10543131 0.10543131"
      ]
     },
     "metadata": {},
     "output_type": "display_data"
    }
   ],
   "source": [
    "#Model 5: KNN\n",
    "library(class);\n",
    "trrerror <-NULL\n",
    "for (kk in c(3,5,7,9,11,13,15)){\n",
    "pred5 <- knn(trainAuto[,-1], trainAuto[,-1], trainAuto[,1], k=kk);\n",
    "trainerror <- mean(pred5 != trainAuto[,1])  #calculate training error for each k\n",
    "print(trainerror) \n",
    "trrerror <- c(trrerror, trainerror);\n",
    "    }\n",
    "TrainErr <- c(TrainErr, trrerror)\n",
    "TrainErr"
   ]
  },
  {
   "cell_type": "code",
   "execution_count": 143,
   "id": "10351f7a",
   "metadata": {},
   "outputs": [
    {
     "data": {
      "image/png": "[encoded data removed]",
      "text/plain": [
       "plot without title"
      ]
     },
     "metadata": {
      "image/png": {
       "height": 420,
       "width": 420
      }
     },
     "output_type": "display_data"
    }
   ],
   "source": [
    "#plot the training error of KNN\n",
    "plot(c(3,5,7,9,11,13,15), trrerror, xlab=\"k value\", ylab=\"training error\", col='blue', pch=19)"
   ]
  },
  {
   "cell_type": "code",
   "execution_count": 144,
   "id": "3c41d572",
   "metadata": {},
   "outputs": [
    {
     "name": "stdout",
     "output_type": "stream",
     "text": [
      "[1] 0.1265823\n",
      "[1] 0.1265823\n",
      "[1] 0.1265823\n",
      "[1] 0.1139241\n",
      "[1] 0.1139241\n",
      "[1] 0.1139241\n",
      "[1] 0.1139241\n"
     ]
    },
    {
     "data": {
      "text/html": [
       "<style>\n",
       ".list-inline {list-style: none; margin:0; padding: 0}\n",
       ".list-inline>li {display: inline-block}\n",
       ".list-inline>li:not(:last-child)::after {content: \"\\00b7\"; padding: 0 .5ex}\n",
       "</style>\n",
       "<ol class=list-inline><li>0.113924050632911</li><li>0.10126582278481</li><li>0.113924050632911</li><li>0.126582278481013</li><li>0.126582278481013</li><li>0.126582278481013</li><li>0.126582278481013</li><li>0.113924050632911</li><li>0.113924050632911</li><li>0.113924050632911</li><li>0.113924050632911</li></ol>\n"
      ],
      "text/latex": [
       "\\begin{enumerate*}\n",
       "\\item 0.113924050632911\n",
       "\\item 0.10126582278481\n",
       "\\item 0.113924050632911\n",
       "\\item 0.126582278481013\n",
       "\\item 0.126582278481013\n",
       "\\item 0.126582278481013\n",
       "\\item 0.126582278481013\n",
       "\\item 0.113924050632911\n",
       "\\item 0.113924050632911\n",
       "\\item 0.113924050632911\n",
       "\\item 0.113924050632911\n",
       "\\end{enumerate*}\n"
      ],
      "text/markdown": [
       "1. 0.113924050632911\n",
       "2. 0.10126582278481\n",
       "3. 0.113924050632911\n",
       "4. 0.126582278481013\n",
       "5. 0.126582278481013\n",
       "6. 0.126582278481013\n",
       "7. 0.126582278481013\n",
       "8. 0.113924050632911\n",
       "9. 0.113924050632911\n",
       "10. 0.113924050632911\n",
       "11. 0.113924050632911\n",
       "\n",
       "\n"
      ],
      "text/plain": [
       " [1] 0.1139241 0.1012658 0.1139241 0.1265823 0.1265823 0.1265823 0.1265823\n",
       " [8] 0.1139241 0.1139241 0.1139241 0.1139241"
      ]
     },
     "metadata": {},
     "output_type": "display_data"
    }
   ],
   "source": [
    "#KNN testing error\n",
    "tsrerror <-NULL\n",
    "for (kk in c(3,5,7,9,11,13,15)){\n",
    "pred5test <- knn(trainAuto[,-1], testAuto[,-1], trainAuto[,1], k=kk);\n",
    "testerror <- mean(pred5test != testAuto[,1])  #calculate testing error for each k\n",
    "print(testerror) \n",
    "tsrerror <- c(tsrerror, testerror);\n",
    "    }\n",
    "TestErr <- c(TestErr, tsrerror)\n",
    "TestErr"
   ]
  },
  {
   "cell_type": "code",
   "execution_count": 145,
   "id": "9bbdc21c",
   "metadata": {},
   "outputs": [
    {
     "data": {
      "image/png": "[encoded data removed]",
      "text/plain": [
       "plot without title"
      ]
     },
     "metadata": {
      "image/png": {
       "height": 420,
       "width": 420
      }
     },
     "output_type": "display_data"
    }
   ],
   "source": [
    "#plot the testing error of KNN model\n",
    "plot(c(3,5,7,9,11,13,15), tsrerror, xlab=\"k value\", ylab=\"testing error\", col='blue', pch=19)"
   ]
  },
  {
   "cell_type": "code",
   "execution_count": 146,
   "id": "43192c52",
   "metadata": {},
   "outputs": [],
   "source": [
    "# #Model 6: SVM\n",
    "# library(e1071)\n",
    "\n",
    "# # Create an SVM model with a linear kernel\n",
    "# mod6 <- svm(trainAuto[, 2:5], trainAuto[, 1], type = \"C-classification\", kernel = \"linear\", cost = 100, scale = TRUE)\n",
    "\n",
    "# ## Training Error\n",
    "# pred6 <- predict(mod6, trainAuto[, 2:5])\n",
    "# TrainErr <- c(TrainErr, mean( pred6 != trainAuto$mpg01))\n",
    "# TrainErr \n",
    "\n",
    "# ## Testing Error \n",
    "# pred6test <- predict(mod6,testAuto[,2:5])\n",
    "# TestErr <- c(TestErr,  mean(pred6test != testAuto$mpg01))\n",
    "# TestErr"
   ]
  },
  {
   "cell_type": "code",
   "execution_count": 147,
   "id": "0a9f600c",
   "metadata": {},
   "outputs": [],
   "source": [
    "#Model 6: SVM\n",
    "library(e1071)\n",
    "\n",
    "C_list <- 1:1000\n",
    "count <- 1\n",
    "err_list <- vector()\n",
    "\n",
    "for (i in C_list){\n",
    "    mod6 <- svm(trainAuto[, 2:5], trainAuto[, 1], type = \"C-classification\", kernel = \"radial\", cost = C_list[i], scale = TRUE)\n",
    "    pred6 <- predict(mod6, trainAuto[, 2:5])\n",
    "    error <- mean(pred6 != trainAuto$mpg01)\n",
    "    err_list[count] <- error\n",
    "    count <- count + 1\n",
    "}\n",
    "\n",
    "# Find the index with the lowest error\n",
    "min_error_index <- which.min(err_list)\n",
    "min_error_value <- err_list[min_error_index]"
   ]
  },
  {
   "cell_type": "code",
   "execution_count": 148,
   "id": "a80915bd",
   "metadata": {},
   "outputs": [
    {
     "data": {
      "text/html": [
       "124"
      ],
      "text/latex": [
       "124"
      ],
      "text/markdown": [
       "124"
      ],
      "text/plain": [
       "[1] 124"
      ]
     },
     "metadata": {},
     "output_type": "display_data"
    },
    {
     "data": {
      "text/html": [
       "0.0479233226837061"
      ],
      "text/latex": [
       "0.0479233226837061"
      ],
      "text/markdown": [
       "0.0479233226837061"
      ],
      "text/plain": [
       "[1] 0.04792332"
      ]
     },
     "metadata": {},
     "output_type": "display_data"
    },
    {
     "data": {
      "image/png": "[encoded data removed]",
      "text/plain": [
       "plot without title"
      ]
     },
     "metadata": {
      "image/png": {
       "height": 420,
       "width": 420
      }
     },
     "output_type": "display_data"
    }
   ],
   "source": [
    "min_error_index\n",
    "min_error_value\n",
    "\n",
    "\n",
    "plot(C_list, err_list, xlab=\"C value\", ylab=\"Training error\", col=\"blue\")"
   ]
  },
  {
   "cell_type": "code",
   "execution_count": 149,
   "id": "3ad0ed0f",
   "metadata": {},
   "outputs": [
    {
     "data": {
      "text/html": [
       "<style>\n",
       ".list-inline {list-style: none; margin:0; padding: 0}\n",
       ".list-inline>li {display: inline-block}\n",
       ".list-inline>li:not(:last-child)::after {content: \"\\00b7\"; padding: 0 .5ex}\n",
       "</style>\n",
       "<ol class=list-inline><li>0.0926517571884984</li><li>0.0926517571884984</li><li>0.0990415335463259</li><li>0.0990415335463259</li><li>0.0830670926517572</li><li>0.0766773162939297</li><li>0.0862619808306709</li><li>0.108626198083067</li><li>0.108626198083067</li><li>0.105431309904153</li><li>0.105431309904153</li><li>0.0479233226837061</li></ol>\n"
      ],
      "text/latex": [
       "\\begin{enumerate*}\n",
       "\\item 0.0926517571884984\n",
       "\\item 0.0926517571884984\n",
       "\\item 0.0990415335463259\n",
       "\\item 0.0990415335463259\n",
       "\\item 0.0830670926517572\n",
       "\\item 0.0766773162939297\n",
       "\\item 0.0862619808306709\n",
       "\\item 0.108626198083067\n",
       "\\item 0.108626198083067\n",
       "\\item 0.105431309904153\n",
       "\\item 0.105431309904153\n",
       "\\item 0.0479233226837061\n",
       "\\end{enumerate*}\n"
      ],
      "text/markdown": [
       "1. 0.0926517571884984\n",
       "2. 0.0926517571884984\n",
       "3. 0.0990415335463259\n",
       "4. 0.0990415335463259\n",
       "5. 0.0830670926517572\n",
       "6. 0.0766773162939297\n",
       "7. 0.0862619808306709\n",
       "8. 0.108626198083067\n",
       "9. 0.108626198083067\n",
       "10. 0.105431309904153\n",
       "11. 0.105431309904153\n",
       "12. 0.0479233226837061\n",
       "\n",
       "\n"
      ],
      "text/plain": [
       " [1] 0.09265176 0.09265176 0.09904153 0.09904153 0.08306709 0.07667732\n",
       " [7] 0.08626198 0.10862620 0.10862620 0.10543131 0.10543131 0.04792332"
      ]
     },
     "metadata": {},
     "output_type": "display_data"
    },
    {
     "data": {
      "text/html": [
       "<style>\n",
       ".list-inline {list-style: none; margin:0; padding: 0}\n",
       ".list-inline>li {display: inline-block}\n",
       ".list-inline>li:not(:last-child)::after {content: \"\\00b7\"; padding: 0 .5ex}\n",
       "</style>\n",
       "<ol class=list-inline><li>0.113924050632911</li><li>0.10126582278481</li><li>0.113924050632911</li><li>0.126582278481013</li><li>0.126582278481013</li><li>0.126582278481013</li><li>0.126582278481013</li><li>0.113924050632911</li><li>0.113924050632911</li><li>0.113924050632911</li><li>0.113924050632911</li><li>0.0886075949367089</li></ol>\n"
      ],
      "text/latex": [
       "\\begin{enumerate*}\n",
       "\\item 0.113924050632911\n",
       "\\item 0.10126582278481\n",
       "\\item 0.113924050632911\n",
       "\\item 0.126582278481013\n",
       "\\item 0.126582278481013\n",
       "\\item 0.126582278481013\n",
       "\\item 0.126582278481013\n",
       "\\item 0.113924050632911\n",
       "\\item 0.113924050632911\n",
       "\\item 0.113924050632911\n",
       "\\item 0.113924050632911\n",
       "\\item 0.0886075949367089\n",
       "\\end{enumerate*}\n"
      ],
      "text/markdown": [
       "1. 0.113924050632911\n",
       "2. 0.10126582278481\n",
       "3. 0.113924050632911\n",
       "4. 0.126582278481013\n",
       "5. 0.126582278481013\n",
       "6. 0.126582278481013\n",
       "7. 0.126582278481013\n",
       "8. 0.113924050632911\n",
       "9. 0.113924050632911\n",
       "10. 0.113924050632911\n",
       "11. 0.113924050632911\n",
       "12. 0.0886075949367089\n",
       "\n",
       "\n"
      ],
      "text/plain": [
       " [1] 0.11392405 0.10126582 0.11392405 0.12658228 0.12658228 0.12658228\n",
       " [7] 0.12658228 0.11392405 0.11392405 0.11392405 0.11392405 0.08860759"
      ]
     },
     "metadata": {},
     "output_type": "display_data"
    }
   ],
   "source": [
    "#build the SVM with the optimal C value\n",
    "mod6 <- svm(trainAuto[, 2:5], trainAuto[, 1], type = \"C-classification\", kernel = \"radial\", cost = min_error_index, scale = TRUE)\n",
    "\n",
    "## Training Error\n",
    "pred6 <- predict(mod6, trainAuto[, 2:5])\n",
    "TrainErr <- c(TrainErr, mean( pred6 != trainAuto$mpg01))\n",
    "TrainErr \n",
    "\n",
    "## Testing Error \n",
    "pred6test <- predict(mod6,testAuto[,2:5])\n",
    "TestErr <- c(TestErr,  mean(pred6test != testAuto$mpg01))\n",
    "TestErr"
   ]
  },
  {
   "cell_type": "code",
   "execution_count": 55,
   "id": "873aeef2",
   "metadata": {},
   "outputs": [],
   "source": [
    "#Run Monte Carlo cross validation on all the models\n",
    "# save the TE values for all models in all $B=100$ loops\n",
    "B= 100; ### number of loops\n",
    "TEALL = NULL; ### Final TE values\n",
    "set.seed(7406); ### You might want to set the seed for randomization\n",
    "for (b in 1:B){\n",
    "\n",
    "# Calculate the number of rows for the training set (80%)\n",
    "n <- nrow(Auto)\n",
    "n1 <- 0.8 * n\n",
    "\n",
    "# Create the training and testing sets\n",
    "flag <- sort(sample(1:n, n1));\n",
    "trainAuto1 <- Auto[flag,-6:-8] ## temp training set for CV\n",
    "testAuto1 <- Auto[-flag,-6:-8] ## temp testing set for CV\n",
    "    \n",
    "#Model 1: LDA\n",
    "mod1 <- lda(trainAuto1[,2:5], trainAuto1[,1]) \n",
    "ypred1test <- predict(mod1,testAuto1[,2:5])$class; \n",
    "te1 <- mean(ypred1test != testAuto1$mpg01)  \n",
    "\n",
    "## Model 2: QDA\n",
    "mod2 <- qda(trainAuto1[,2:5], trainAuto1[,1])\n",
    "ypred2test <- predict(mod2,testAuto1[,2:5])$class\n",
    "te2 <- mean(ypred2test != testAuto1$mpg01)\n",
    "\n",
    "#Model 3: Naive Bayes\n",
    "mod3 <- naiveBayes(trainAuto1[,2:5], trainAuto1[,1])\n",
    "ypred3test <- predict(mod3,testAuto1[,2:5])\n",
    "te3 <- mean(ypred3test != testAuto1$mpg01)\n",
    "\n",
    "#Model 4: Logistic Regression\n",
    "mod4 = glm(mpg01~., data=trainAuto1, family='binomial'(link=\"logit\"))\n",
    "ypred4test <- predict(mod4,testAuto1[,2:5],type=\"response\")\n",
    "ypred4test <- ifelse(ypred4test >0.5, 1, 0)\n",
    "te4 <- mean(ypred4test != testAuto1$mpg01)\n",
    "\n",
    "#model 5: KNN\n",
    "cverror <- NULL    \n",
    "for (kk in c(3,5,7,9,11,13,15)){ \n",
    "    ypred5test <- knn(trainAuto1[,2:5], testAuto1[,-1], trainAuto1[,1], k=kk);\n",
    "    temptesterror <- mean(ypred5test != testAuto1[,1]);\n",
    "    cverror <- cbind(cverror, temptesterror); \n",
    "  }\n",
    "    \n",
    "#Model 6: SVM\n",
    "#find optimal C\n",
    "C_list <- 1:400\n",
    "count <- 1\n",
    "err_list <- vector()\n",
    "\n",
    "for (i in C_list){\n",
    "    mod6 <- svm(trainAuto1[, 2:5], trainAuto1[, 1], type = \"C-classification\", kernel = \"radial\", cost = C_list[i], scale = TRUE)\n",
    "    pred6 <- predict(mod6, trainAuto1[, 2:5])\n",
    "    error <- mean(pred6 != trainAuto1$mpg01)\n",
    "    err_list[count] <- error\n",
    "    count <- count + 1\n",
    "}\n",
    "\n",
    "# Find the index with the lowest error\n",
    "min_error_index <- which.min(err_list)    \n",
    "    \n",
    "mod6 <- svm(trainAuto1[, 2:5], trainAuto1[, 1], type = \"C-classification\", kernel = \"radial\", cost = min_error_index, scale = TRUE)\n",
    "ypred6test <- predict(mod6,testAuto1[,2:5])\n",
    "te6 <- mean(ypred6test != testAuto1$mpg01)\n",
    "\n",
    "    \n",
    "\n",
    "TEALL = rbind( TEALL, cbind(te1, te2, te3, te4, cverror, te6) )    \n",
    "   \n",
    "    }\n",
    "colnames(TEALL) <- c(\"LDA\", \"QDA\", \"Naive Bayes\", \"Logisitc Reg\", \"KNN3\", \"mod5:K5\", \"KNN7\", \"KNN9\", \"KNN11\", \"KNN13\", \"KNN15\", \"SVM\");"
   ]
  },
  {
   "cell_type": "code",
   "execution_count": 69,
   "id": "62e9b0e4",
   "metadata": {},
   "outputs": [
    {
     "data": {
      "text/html": [
       "<style>\n",
       ".dl-inline {width: auto; margin:0; padding: 0}\n",
       ".dl-inline>dt, .dl-inline>dd {float: none; width: auto; display: inline-block}\n",
       ".dl-inline>dt::after {content: \":\\0020\"; padding-right: .5ex}\n",
       ".dl-inline>dt:not(:first-of-type) {padding-left: .5ex}\n",
       "</style><dl class=dl-inline><dt>LDA</dt><dd>0.102278481012658</dd><dt>QDA</dt><dd>0.108860759493671</dd><dt>Naive Bayes</dt><dd>0.102278481012658</dd><dt>Logisitc Reg</dt><dd>0.108860759493671</dd><dt>KNN3</dt><dd>0.121898734177215</dd><dt>mod5:K5</dt><dd>0.117088607594937</dd><dt>KNN7</dt><dd>0.123670886075949</dd><dt>KNN9</dt><dd>0.124050632911392</dd><dt>KNN11</dt><dd>0.12379746835443</dd><dt>KNN13</dt><dd>0.126329113924051</dd><dt>KNN15</dt><dd>0.12746835443038</dd><dt>SVM</dt><dd>0.0865822784810127</dd></dl>\n"
      ],
      "text/latex": [
       "\\begin{description*}\n",
       "\\item[LDA] 0.102278481012658\n",
       "\\item[QDA] 0.108860759493671\n",
       "\\item[Naive Bayes] 0.102278481012658\n",
       "\\item[Logisitc Reg] 0.108860759493671\n",
       "\\item[KNN3] 0.121898734177215\n",
       "\\item[mod5:K5] 0.117088607594937\n",
       "\\item[KNN7] 0.123670886075949\n",
       "\\item[KNN9] 0.124050632911392\n",
       "\\item[KNN11] 0.12379746835443\n",
       "\\item[KNN13] 0.126329113924051\n",
       "\\item[KNN15] 0.12746835443038\n",
       "\\item[SVM] 0.0865822784810127\n",
       "\\end{description*}\n"
      ],
      "text/markdown": [
       "LDA\n",
       ":   0.102278481012658QDA\n",
       ":   0.108860759493671Naive Bayes\n",
       ":   0.102278481012658Logisitc Reg\n",
       ":   0.108860759493671KNN3\n",
       ":   0.121898734177215mod5:K5\n",
       ":   0.117088607594937KNN7\n",
       ":   0.123670886075949KNN9\n",
       ":   0.124050632911392KNN11\n",
       ":   0.12379746835443KNN13\n",
       ":   0.126329113924051KNN15\n",
       ":   0.12746835443038SVM\n",
       ":   0.0865822784810127\n",
       "\n"
      ],
      "text/plain": [
       "         LDA          QDA  Naive Bayes Logisitc Reg         KNN3      mod5:K5 \n",
       "  0.10227848   0.10886076   0.10227848   0.10886076   0.12189873   0.11708861 \n",
       "        KNN7         KNN9        KNN11        KNN13        KNN15          SVM \n",
       "  0.12367089   0.12405063   0.12379747   0.12632911   0.12746835   0.08658228 "
      ]
     },
     "metadata": {},
     "output_type": "display_data"
    },
    {
     "data": {
      "text/html": [
       "<style>\n",
       ".dl-inline {width: auto; margin:0; padding: 0}\n",
       ".dl-inline>dt, .dl-inline>dd {float: none; width: auto; display: inline-block}\n",
       ".dl-inline>dt::after {content: \":\\0020\"; padding-right: .5ex}\n",
       ".dl-inline>dt:not(:first-of-type) {padding-left: .5ex}\n",
       "</style><dl class=dl-inline><dt>LDA</dt><dd>0.00108659095359945</dd><dt>QDA</dt><dd>0.00102612408332645</dd><dt>Naive Bayes</dt><dd>0.000963585542979871</dd><dt>Logisitc Reg</dt><dd>0.0010423090057764</dd><dt>KNN3</dt><dd>0.00121275242409676</dd><dt>mod5:K5</dt><dd>0.00138664323089896</dd><dt>KNN7</dt><dd>0.00141409285937406</dd><dt>KNN9</dt><dd>0.00127537188905559</dd><dt>KNN11</dt><dd>0.00140996570414933</dd><dt>KNN13</dt><dd>0.00142420843590528</dd><dt>KNN15</dt><dd>0.0014607054360299</dd><dt>SVM</dt><dd>0.000863368503169817</dd></dl>\n"
      ],
      "text/latex": [
       "\\begin{description*}\n",
       "\\item[LDA] 0.00108659095359945\n",
       "\\item[QDA] 0.00102612408332645\n",
       "\\item[Naive Bayes] 0.000963585542979871\n",
       "\\item[Logisitc Reg] 0.0010423090057764\n",
       "\\item[KNN3] 0.00121275242409676\n",
       "\\item[mod5:K5] 0.00138664323089896\n",
       "\\item[KNN7] 0.00141409285937406\n",
       "\\item[KNN9] 0.00127537188905559\n",
       "\\item[KNN11] 0.00140996570414933\n",
       "\\item[KNN13] 0.00142420843590528\n",
       "\\item[KNN15] 0.0014607054360299\n",
       "\\item[SVM] 0.000863368503169817\n",
       "\\end{description*}\n"
      ],
      "text/markdown": [
       "LDA\n",
       ":   0.00108659095359945QDA\n",
       ":   0.00102612408332645Naive Bayes\n",
       ":   0.000963585542979871Logisitc Reg\n",
       ":   0.0010423090057764KNN3\n",
       ":   0.00121275242409676mod5:K5\n",
       ":   0.00138664323089896KNN7\n",
       ":   0.00141409285937406KNN9\n",
       ":   0.00127537188905559KNN11\n",
       ":   0.00140996570414933KNN13\n",
       ":   0.00142420843590528KNN15\n",
       ":   0.0014607054360299SVM\n",
       ":   0.000863368503169817\n",
       "\n"
      ],
      "text/plain": [
       "         LDA          QDA  Naive Bayes Logisitc Reg         KNN3      mod5:K5 \n",
       "0.0010865910 0.0010261241 0.0009635855 0.0010423090 0.0012127524 0.0013866432 \n",
       "        KNN7         KNN9        KNN11        KNN13        KNN15          SVM \n",
       "0.0014140929 0.0012753719 0.0014099657 0.0014242084 0.0014607054 0.0008633685 "
      ]
     },
     "metadata": {},
     "output_type": "display_data"
    }
   ],
   "source": [
    "## You can report the sample mean and sample variances for the seven models\n",
    "apply(TEALL, 2, mean);\n",
    "apply(TEALL, 2, var);"
   ]
  },
  {
   "cell_type": "code",
   "execution_count": 78,
   "id": "a3ee3810",
   "metadata": {},
   "outputs": [
    {
     "data": {
      "image/png": "[encoded data removed]",
      "text/plain": [
       "Plot with title \"Mean Values of Testing Errors\""
      ]
     },
     "metadata": {
      "image/png": {
       "height": 420,
       "width": 420
      }
     },
     "output_type": "display_data"
    }
   ],
   "source": [
    "mean_values <- apply(TEALL, 2, mean)\n",
    "\n",
    "# Getting variable names\n",
    "variable_names <- colnames(TEALL)\n",
    "\n",
    "# Creating a bar plot\n",
    "barplot(mean_values, names.arg = variable_names,\n",
    "        main = \"Mean Values of Testing Errors\",\n",
    "        xlab = \"Variables\",\n",
    "        ylab = \"Mean\",\n",
    "        col = \"orange\")"
   ]
  },
  {
   "cell_type": "code",
   "execution_count": 66,
   "id": "2c8e6be4",
   "metadata": {},
   "outputs": [
    {
     "data": {
      "image/png": "[encoded data removed]",
      "text/plain": [
       "Plot with title \"Variance Values of Testing Errors\""
      ]
     },
     "metadata": {
      "image/png": {
       "height": 420,
       "width": 420
      }
     },
     "output_type": "display_data"
    }
   ],
   "source": [
    "variance_values <- apply(TEALL, 2, var)\n",
    "\n",
    "# Creating a bar plot\n",
    "barplot(variance_values, names.arg = variable_names,\n",
    "        main = \"Variance Values of Testing Errors\",\n",
    "        xlab = \"Models\",\n",
    "        ylab = \"Variance\",\n",
    "        col = \"orange\")"
   ]
  }
 ],
 "metadata": {
  "kernelspec": {
   "display_name": "R",
   "language": "R",
   "name": "ir"
  },
  "language_info": {
   "codemirror_mode": "r",
   "file_extension": ".r",
   "mimetype": "text/x-r-source",
   "name": "R",
   "pygments_lexer": "r",
   "version": "4.1.2"
  }
 },
 "nbformat": 4,
 "nbformat_minor": 5
}
